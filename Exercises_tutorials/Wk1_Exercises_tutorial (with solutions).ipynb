{
 "cells": [
  {
   "cell_type": "markdown",
   "metadata": {},
   "source": [
    "# Wk1_Exercises_tutorial (with solutions)"
   ]
  },
  {
   "cell_type": "markdown",
   "metadata": {},
   "source": [
    "__Q1:__ Define a variable ('term') that contains the words 'statistical analysis'. Then use indexing, slicing and concatenation to define three additional variables containing the following words: 'statistics', 'analytics' and 'data analytics', using as much as possible the characters from the variable 'term'. Use as little indexing, slicing and concatenation as possible, and print all four terms."
   ]
  },
  {
   "cell_type": "code",
   "execution_count": 1,
   "metadata": {},
   "outputs": [
    {
     "name": "stdout",
     "output_type": "stream",
     "text": [
      "statistical analysis\n",
      "statistics\n",
      "analytics\n",
      "data analytics\n"
     ]
    }
   ],
   "source": [
    "# Use string indexing, slicing and concatenation\n",
    "\n",
    "term = \"statistical analysis\"\n",
    "print(term)\n",
    "term1 = term[:9] + term[-1]\n",
    "print(term1)\n",
    "term2 = term[12:17] + term[6:9] + term[-1]\n",
    "print(term2)\n",
    "term3 = 'data ' + term2\n",
    "print(term3)"
   ]
  },
  {
   "cell_type": "markdown",
   "metadata": {},
   "source": [
    "__Q2:__ Define a variable ('term_a') that contains the words 'statistical analysis[a]'. Then use string methods to clean the variable 'term_a' such that it only contains the words 'statistical analysis', and print it. Next, in a separate cell, define a variable ('term_b') that contains the words 'statistical analysis[s]'. Then use string methods to clean the variable 'term_b' such that it only contains the words 'statistical analysis', and print it."
   ]
  },
  {
   "cell_type": "code",
   "execution_count": 2,
   "metadata": {},
   "outputs": [
    {
     "name": "stdout",
     "output_type": "stream",
     "text": [
      "statistical analysis[a]\n",
      "statistical analysis\n"
     ]
    }
   ],
   "source": [
    "# Use string methods to clean a variable\n",
    "\n",
    "term_a = \"statistical analysis[a]\"\n",
    "print(term_a)\n",
    "term_a_nw = term_a.strip('[a]')\n",
    "print(term_a_nw)"
   ]
  },
  {
   "cell_type": "code",
   "execution_count": 3,
   "metadata": {},
   "outputs": [
    {
     "name": "stdout",
     "output_type": "stream",
     "text": [
      "statistical analysis[s]\n",
      "statistical analysis\n"
     ]
    }
   ],
   "source": [
    "# Use string methods to clean a variable\n",
    "\n",
    "term_b = \"statistical analysis[s]\"\n",
    "print(term_b)\n",
    "term_b_nw = term_b.split('[')[0]\n",
    "print(term_b_nw)"
   ]
  },
  {
   "cell_type": "markdown",
   "metadata": {},
   "source": [
    "__Q3:__ Define a variable ('term') that contains the words 'statistical analysis'. Then use string methods to define two additional variables: 'STATISTICAL + ANALYSIS' and 'Statistical_Analysis', by modifying the variable 'term'. Be exact!"
   ]
  },
  {
   "cell_type": "code",
   "execution_count": 4,
   "metadata": {},
   "outputs": [
    {
     "name": "stdout",
     "output_type": "stream",
     "text": [
      "statistical analysis\n",
      "STATISTICAL + ANALYSIS\n",
      "Statistical_Analysis\n"
     ]
    }
   ],
   "source": [
    "# Use string methods to modify a variable\n",
    "\n",
    "term = \"statistical analysis\"\n",
    "print(term)\n",
    "term1 = term.upper().replace(' ', ' + ')\n",
    "print(term1)\n",
    "term2 = term.title().replace(' ', '_')\n",
    "print(term2)"
   ]
  },
  {
   "cell_type": "markdown",
   "metadata": {},
   "source": [
    "__Q4:__ Define a variable ('number') by asking the user to enter an integer that consists of at least three digits. Then use `f-strings` (and extracting the last two digits) to print the following statement (\"The last two digits of your number are equal to LAST_TWO_DIGITS.\"). (Hint: use the modulus operator (%) to extract the last two digits from the number.)"
   ]
  },
  {
   "cell_type": "code",
   "execution_count": 5,
   "metadata": {},
   "outputs": [
    {
     "name": "stdout",
     "output_type": "stream",
     "text": [
      "Enter an integer that consists of at least three digits: 123\n",
      "The last two digits of your number are equal to 23.\n"
     ]
    }
   ],
   "source": [
    "# Use the input() function and f-strings\n",
    "\n",
    "number = input(\"Enter an integer that consists of at least three digits: \")\n",
    "\n",
    "print(f\"The last two digits of your number are equal to {int(number)%100}.\")"
   ]
  },
  {
   "cell_type": "markdown",
   "metadata": {},
   "source": [
    "__Q5:__ Define a variable ('number') by asking the user to enter a number with at least three digits after the decimal point. Then use `f-strings` (and rounding to two digits after the decimal point by using  the proper formatting mini language) to print the following statement: \"Rounded to two digits after the decimal point, your number is equal to ROUNDED_NUMBER.\""
   ]
  },
  {
   "cell_type": "code",
   "execution_count": 6,
   "metadata": {},
   "outputs": [
    {
     "name": "stdout",
     "output_type": "stream",
     "text": [
      "Enter a number with at least three digits after the decimal point: 0.123\n",
      "Rounded to two digits after the decimal point, your number is equal to 0.12.\n"
     ]
    }
   ],
   "source": [
    "# Use the input() function and f-strings\n",
    "\n",
    "number = input(\"Enter a number with at least three digits after the decimal point: \")\n",
    "\n",
    "print(f\"Rounded to two digits after the decimal point, your number is equal to {float(number):.2f}.\")"
   ]
  },
  {
   "cell_type": "markdown",
   "metadata": {},
   "source": [
    "__Q6:__ Define a function ('calc_disc_amount') that takes three parameters (total_sales_amount, disc_perc, and treshold) and that calculates the discount (as an amount) that a customer receives based on his/her total sales amount. Use a conditional (if-else) statement, and assume that the discount policy is that a customer only receives a discount of a certain percentage if his/her total sales amount is above a certain treshold. Call the 'calc_disc_amount' function using several different values for the parameters, including (15000, 0.1, 10000)."
   ]
  },
  {
   "cell_type": "code",
   "execution_count": 7,
   "metadata": {},
   "outputs": [
    {
     "data": {
      "text/plain": [
       "1500.0"
      ]
     },
     "execution_count": 7,
     "metadata": {},
     "output_type": "execute_result"
    }
   ],
   "source": [
    "# Define and call a function\n",
    "\n",
    "def calc_disc_amount(total_sales_amount, disc_perc, treshold):\n",
    "    if total_sales_amount > treshold:\n",
    "        disc = total_sales_amount*disc_perc\n",
    "    else:\n",
    "        disc = 0\n",
    "    return disc\n",
    "\n",
    "calc_disc_amount(15000, 0.1, 10000)"
   ]
  },
  {
   "cell_type": "markdown",
   "metadata": {},
   "source": [
    "__Q7:__ Rewrite the function that you defined in the previous question such that the body of the function is written on a single line. Call the 'calc_disc_amount' function using several different values for the parameters, including (15000, 0.1, 10000)."
   ]
  },
  {
   "cell_type": "code",
   "execution_count": 8,
   "metadata": {},
   "outputs": [
    {
     "data": {
      "text/plain": [
       "1500.0"
      ]
     },
     "execution_count": 8,
     "metadata": {},
     "output_type": "execute_result"
    }
   ],
   "source": [
    "# Define and call a function\n",
    "\n",
    "def calc_disc_amount(total_sales_amount, disc_perc, treshold):\n",
    "    return total_sales_amount*disc_perc if total_sales_amount > treshold else 0\n",
    "\n",
    "calc_disc_amount(15000, 0.1, 10000)"
   ]
  },
  {
   "cell_type": "markdown",
   "metadata": {},
   "source": [
    "__Q8:__ Rewrite the function that you defined in the previous two questions as an anonymous (`lambda`) function. Call the anonymous (`lambda`) function using several different values for the parameters, including (15000, 0.1, 10000)."
   ]
  },
  {
   "cell_type": "code",
   "execution_count": 9,
   "metadata": {},
   "outputs": [
    {
     "data": {
      "text/plain": [
       "1500.0"
      ]
     },
     "execution_count": 9,
     "metadata": {},
     "output_type": "execute_result"
    }
   ],
   "source": [
    "# Define and call an anonymous (lambda) function\n",
    "\n",
    "(lambda x, y, z: x*y if x > z else 0)(15000, 0.1, 10000)"
   ]
  },
  {
   "cell_type": "markdown",
   "metadata": {},
   "source": [
    "__Q9:__ Define two variables ('paid_amount' and 'disc_amount') and respectively assign the following values to them: 15000 and 1250. Next, define a function ('calc_disc_perc') that takes two parameters (paid_amount and disc_amount) and that calculates the discount (as a percentage) that a customer has received based on his/her total sales amount. Then use `f-strings`, calling the 'calc_disc_perc' function and the proper formatting mini language to print the following statement: \"Without the received discount percentage of 7.69%, the customer's total sales amount would have been $16,250.\" Be exact!"
   ]
  },
  {
   "cell_type": "code",
   "execution_count": 10,
   "metadata": {},
   "outputs": [
    {
     "name": "stdout",
     "output_type": "stream",
     "text": [
      "Without the received discount percentage of 7.69%, the customer's total sales amount would have been $16,250.\n"
     ]
    }
   ],
   "source": [
    "# Define and call a function, and use f-strings\n",
    "\n",
    "paid_amount = 15000\n",
    "disc_amount = 1250\n",
    "\n",
    "def calc_disc_perc(paid_amount, disc_amount):\n",
    "    return disc_amount / (paid_amount+disc_amount)\n",
    "\n",
    "print(f\"Without the received discount percentage of {calc_disc_perc(paid_amount, disc_amount):.2%}, the customer's total \\\n",
    "sales amount would have been ${paid_amount+disc_amount:,}.\")"
   ]
  },
  {
   "cell_type": "markdown",
   "metadata": {},
   "source": [
    "__Q10:__ Define a variable ('accounts') that consists of the following list: ['Assets', 'Equity', 'Income']. Then use list methods to perform the following modifying operations on this list: (1) use the `append()` method to add the word 'Expenses'; (2) use the `insert()` method to add the word 'Liabilities' at index position 1; (3) use the `remove()` method to remove the word 'Income'; (4) use the `pop()` method to remove the word 'Expenses'; and (5) use the `extend()` method to add the words 'Income' and 'Expenses'. Print the list after each operation. (If necessary, use Google to discover how to use these list methods.)"
   ]
  },
  {
   "cell_type": "code",
   "execution_count": 11,
   "metadata": {},
   "outputs": [
    {
     "name": "stdout",
     "output_type": "stream",
     "text": [
      "['Assets', 'Equity', 'Income']\n",
      "['Assets', 'Equity', 'Income', 'Expenses']\n",
      "['Assets', 'Liabilities', 'Equity', 'Income', 'Expenses']\n",
      "['Assets', 'Liabilities', 'Equity', 'Expenses']\n",
      "['Assets', 'Liabilities', 'Equity']\n",
      "['Assets', 'Liabilities', 'Equity', 'Income', 'Expenses']\n"
     ]
    }
   ],
   "source": [
    "# Use list methods to modify a list\n",
    "\n",
    "accounts = ['Assets', 'Equity', 'Income']\n",
    "print(accounts)\n",
    "accounts.append('Expenses')\n",
    "print(accounts)\n",
    "accounts.insert(1, 'Liabilities')\n",
    "print(accounts)\n",
    "accounts.remove('Income')\n",
    "print(accounts)\n",
    "accounts.pop()\n",
    "print(accounts)\n",
    "accounts.extend(['Income', 'Expenses'])\n",
    "print(accounts)"
   ]
  },
  {
   "cell_type": "markdown",
   "metadata": {},
   "source": [
    "__Q11:__ Define a variable ('lst') that consists of the following list: [1, 2, 3, 4, 5]. Create a sublist by selecting every other element from this list using slicing (i.e., [1, 3, 5]), and print it. Then create a second sublist by selecting every other element from this list in reverse order using slicing with negative indexing (i.e., [5, 3, 1], and print it."
   ]
  },
  {
   "cell_type": "code",
   "execution_count": 12,
   "metadata": {},
   "outputs": [
    {
     "name": "stdout",
     "output_type": "stream",
     "text": [
      "[1, 3, 5]\n",
      "[5, 3, 1]\n"
     ]
    }
   ],
   "source": [
    "# Select every other element from a list\n",
    "\n",
    "lst = [1, 2, 3, 4, 5]\n",
    "print(lst[::2])\n",
    "print(lst[-1:-6:-2])"
   ]
  },
  {
   "cell_type": "markdown",
   "metadata": {},
   "source": [
    "__Q12:__ Define a variable ('banks') that consists of the following list of banks: ['ABN Amro', 'ING', 'Rabobank']. Then, in separate cells, perform the following three operations: (1) use list comprehension and string methods to obtain the following list: ['www.abnamro.nl', 'www.ing.nl', 'www.rabobank.nl'], and print it; (2) use list comprehension and string methods to obtain the following list that only contains banks whose name starts with an 'R': ['www.rabobank.nl'], and print it; and (3) use list comprehension and string methods to obtain the following list that only contains banks whose name starts with an 'R' and states 'Does not start with R' otherwise: ['Does not start with R', 'Does not start with R', 'www.rabobank.nl'], and print it."
   ]
  },
  {
   "cell_type": "code",
   "execution_count": 13,
   "metadata": {},
   "outputs": [
    {
     "name": "stdout",
     "output_type": "stream",
     "text": [
      "['www.abnamro.nl', 'www.ing.nl', 'www.rabobank.nl']\n"
     ]
    }
   ],
   "source": [
    "# Use list comprehension\n",
    "\n",
    "banks = ['ABN Amro', 'ING', 'Rabobank']\n",
    "\n",
    "banks2 = [(\"www.\" + i.lower().replace(' ', '') + \".nl\") for i in banks]\n",
    "print(banks2)"
   ]
  },
  {
   "cell_type": "code",
   "execution_count": 14,
   "metadata": {},
   "outputs": [
    {
     "name": "stdout",
     "output_type": "stream",
     "text": [
      "['www.rabobank.nl']\n"
     ]
    }
   ],
   "source": [
    "# Use list comprehension\n",
    "\n",
    "banks3 = [(\"www.\" + i.lower().replace(' ', '') + \".nl\") for i in banks if i.startswith('R')]\n",
    "print(banks3)"
   ]
  },
  {
   "cell_type": "code",
   "execution_count": 15,
   "metadata": {},
   "outputs": [
    {
     "name": "stdout",
     "output_type": "stream",
     "text": [
      "['Does not start with R', 'Does not start with R', 'www.rabobank.nl']\n"
     ]
    }
   ],
   "source": [
    "# Use list comprehension\n",
    "\n",
    "banks4 = [(\"www.\" + i.lower().replace(' ', '') + \".nl\") if i.startswith('R') else \"Does not start with R\" for i in banks]\n",
    "print(banks4)"
   ]
  },
  {
   "cell_type": "markdown",
   "metadata": {},
   "source": [
    "__Q13:__ Rewrite the following (unpythonic) code such that the (more pythonic) `enumerate()` function is used __and__ the numbering starts at 1 instead of 0.\n",
    "\n",
    "```python\n",
    "banks = ['ING Group', 'Rabobank', 'ABN Amro']\n",
    "for i in range(len(banks)):\n",
    "    print(i, banks[i])\n",
    "```"
   ]
  },
  {
   "cell_type": "code",
   "execution_count": 16,
   "metadata": {},
   "outputs": [
    {
     "name": "stdout",
     "output_type": "stream",
     "text": [
      "1 ING Group\n",
      "2 Rabobank\n",
      "3 ABN Amro\n"
     ]
    }
   ],
   "source": [
    "# Use the `enumerate()` function\n",
    "\n",
    "banks = ['ING Group', 'Rabobank', 'ABN Amro']\n",
    "for i, bank in enumerate(banks, 1):\n",
    "    print(i, bank)"
   ]
  },
  {
   "cell_type": "markdown",
   "metadata": {},
   "source": [
    "__Q14:__ Rewrite the code from the previous question such that the output looks as follows (i.e., with a point added behind the index number):\n",
    "\n",
    "1. ING Group  \n",
    "2. Rabobank  \n",
    "3. ABN Amro"
   ]
  },
  {
   "cell_type": "code",
   "execution_count": 17,
   "metadata": {},
   "outputs": [
    {
     "name": "stdout",
     "output_type": "stream",
     "text": [
      "1. ING Group\n",
      "2. Rabobank\n",
      "3. ABN Amro\n"
     ]
    }
   ],
   "source": [
    "# Use the `enumerate()` function\n",
    "\n",
    "banks = ['ING Group', 'Rabobank', 'ABN Amro']\n",
    "for i, bank in enumerate(banks, 1):\n",
    "    print(i, bank, sep='. ')"
   ]
  },
  {
   "cell_type": "markdown",
   "metadata": {},
   "source": [
    "__Q15:__ Suppose you have two variables ('firm_a_returns' and 'market_returns') that consist of lists of respectively the stock returns for three days for firm A ([0.01, 0.05, 0.04]), and for the market as a whole ([0.01, 0.02, 0.01]). Define a variable ('abnormal_returns') that consists of a list that contains the abnormal returns (i.e., the differences between the returns of firm A and the market as a whole). Use list comprehension and the `zip()` function to calculate the abnormal returns. If possible, try to round the abnormal returns to two digits after the decimal point."
   ]
  },
  {
   "cell_type": "code",
   "execution_count": 18,
   "metadata": {},
   "outputs": [
    {
     "name": "stdout",
     "output_type": "stream",
     "text": [
      "[0.0, 0.03, 0.03]\n"
     ]
    }
   ],
   "source": [
    "# Calculate a list with the abnormal returns\n",
    "\n",
    "firm_a_returns = [0.01, 0.05, 0.04]\n",
    "market_returns = [0.01, 0.02, 0.01]\n",
    "abnormal_returns = [round(i-j, 2) for i,j in zip(firm_a_returns, market_returns)]\n",
    "print(abnormal_returns)"
   ]
  },
  {
   "cell_type": "markdown",
   "metadata": {},
   "source": [
    "__Q16:__ Create a set ('set_a') that contains the following elements: 10, 20, 30, 40, 50 and 60. First use the `add()` method to add the element 60 to 'set_a', print the set and watch what happens. Next, use the `remove()` method to remove the element 60 from 'set_a', and print the set again. (If necessary, use Google to discover how to use the `add()` and `remove()` methods on sets.)"
   ]
  },
  {
   "cell_type": "code",
   "execution_count": 19,
   "metadata": {},
   "outputs": [
    {
     "name": "stdout",
     "output_type": "stream",
     "text": [
      "{50, 20, 40, 10, 60, 30}\n",
      "{50, 20, 40, 10, 30}\n"
     ]
    }
   ],
   "source": [
    "# Create a set, and then add (remove) an element to (from) this set\n",
    "\n",
    "set_a = {10, 20, 30, 40, 50, 60}\n",
    "set_a.add(60)\n",
    "print(set_a)\n",
    "set_a.remove(60)\n",
    "print(set_a)"
   ]
  },
  {
   "cell_type": "markdown",
   "metadata": {},
   "source": [
    "__Q17:__ Create a second set ('set_b') that contains the following elements: 10, 30, 50, 70 and 90. Using 'set_a' and 'set_b', first print the set that contains all elements that are in either set or both, and then print the set that contains all elements in 'set_b' that are not in 'set_a'."
   ]
  },
  {
   "cell_type": "code",
   "execution_count": 20,
   "metadata": {},
   "outputs": [
    {
     "name": "stdout",
     "output_type": "stream",
     "text": [
      "{70, 40, 10, 50, 20, 90, 30}\n",
      "{90, 70}\n"
     ]
    }
   ],
   "source": [
    "# Use set methods to obtain the union of (difference between) two sets\n",
    "\n",
    "set_b = {10, 30, 50, 70, 90}\n",
    "print(set_a.union(set_b))\n",
    "print(set_b.difference(set_a))"
   ]
  },
  {
   "cell_type": "code",
   "execution_count": null,
   "metadata": {},
   "outputs": [],
   "source": []
  }
 ],
 "metadata": {
  "kernelspec": {
   "display_name": "Python 3 (ipykernel)",
   "language": "python",
   "name": "python3"
  },
  "language_info": {
   "codemirror_mode": {
    "name": "ipython",
    "version": 3
   },
   "file_extension": ".py",
   "mimetype": "text/x-python",
   "name": "python",
   "nbconvert_exporter": "python",
   "pygments_lexer": "ipython3",
   "version": "3.10.9"
  }
 },
 "nbformat": 4,
 "nbformat_minor": 4
}
