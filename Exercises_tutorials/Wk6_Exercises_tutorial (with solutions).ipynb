{
 "cells": [
  {
   "cell_type": "markdown",
   "metadata": {},
   "source": [
    "# Wk6_Exercises_tutorial (with solutions)"
   ]
  },
  {
   "cell_type": "markdown",
   "metadata": {},
   "source": [
    "Before you start, first import the pandas, NumPy, matplotlib, seaborn, SciPy and statsmodels libraries, for example as follows:\n",
    "```python\n",
    "# Import the libraries\n",
    "\n",
    "import pandas as pd\n",
    "import numpy as np\n",
    "import matplotlib.pyplot as plt\n",
    "import seaborn as sns\n",
    "import scipy.stats as stats\n",
    "\n",
    "import statsmodels\n",
    "import statsmodels.api as sm\n",
    "import statsmodels.formula.api as smf\n",
    "\n",
    "%matplotlib inline\n",
    "\n",
    "import warnings\n",
    "warnings.filterwarnings('ignore')\n",
    "```"
   ]
  },
  {
   "cell_type": "code",
   "execution_count": 1,
   "metadata": {},
   "outputs": [],
   "source": [
    "# Import the libraries\n",
    "\n",
    "import pandas as pd\n",
    "import numpy as np\n",
    "import matplotlib.pyplot as plt\n",
    "import seaborn as sns\n",
    "import scipy.stats as stats\n",
    "\n",
    "import statsmodels\n",
    "import statsmodels.api as sm\n",
    "import statsmodels.formula.api as smf\n",
    "\n",
    "%matplotlib inline\n",
    "\n",
    "import warnings\n",
    "warnings.filterwarnings('ignore')"
   ]
  },
  {
   "cell_type": "markdown",
   "metadata": {},
   "source": [
    "__Q1:__ Use statsmodels to perform a __regression explanatory modeling__ analysis on the 'tips' dataset. More specifically, perform the following operations:  \n",
    "- Import the 'tips' dataset, and assign it to a variable ('df_tips').\n",
    "- Regress the 'tip' variable on all other variables.\n",
    "- Add the column with the standardized residuals to df_tips.\n",
    "- Display a Q-Q plot of the standardized residuals.\n",
    "- Display a histogram of the standardized residuals.\n",
    "- Display a fitted values - standardized residuals plot.\n",
    "- Use the regression model to predict (based on the following input values: {'total_bill': 30, 'size': 4, 'sex': 'Male', 'smoker': 'No', 'day': 'Sat', 'time': 'Dinner'})."
   ]
  },
  {
   "cell_type": "code",
   "execution_count": 2,
   "metadata": {},
   "outputs": [],
   "source": [
    "# Import the 'tips' dataset\n",
    "\n",
    "df_tips = sns.load_dataset('tips')"
   ]
  },
  {
   "cell_type": "code",
   "execution_count": 3,
   "metadata": {},
   "outputs": [
    {
     "name": "stdout",
     "output_type": "stream",
     "text": [
      "                            OLS Regression Results                            \n",
      "==============================================================================\n",
      "Dep. Variable:                    tip   R-squared:                       0.470\n",
      "Model:                            OLS   Adj. R-squared:                  0.452\n",
      "Method:                 Least Squares   F-statistic:                     26.06\n",
      "Date:                Thu, 10 Aug 2023   Prob (F-statistic):           1.20e-28\n",
      "Time:                        07:46:24   Log-Likelihood:                -347.48\n",
      "No. Observations:                 244   AIC:                             713.0\n",
      "Df Residuals:                     235   BIC:                             744.4\n",
      "Df Model:                           8                                         \n",
      "Covariance Type:            nonrobust                                         \n",
      "==================================================================================\n",
      "                     coef    std err          t      P>|t|      [0.025      0.975]\n",
      "----------------------------------------------------------------------------------\n",
      "Intercept          0.5908      0.256      2.310      0.022       0.087       1.095\n",
      "sex[T.Female]      0.0324      0.142      0.229      0.819      -0.247       0.311\n",
      "smoker[T.No]       0.0864      0.147      0.589      0.556      -0.202       0.375\n",
      "day[T.Fri]         0.1623      0.393      0.412      0.680      -0.613       0.937\n",
      "day[T.Sat]         0.0408      0.471      0.087      0.931      -0.886       0.968\n",
      "day[T.Sun]         0.1368      0.472      0.290      0.772      -0.793       1.066\n",
      "time[T.Dinner]    -0.0681      0.445     -0.153      0.878      -0.944       0.808\n",
      "total_bill         0.0945      0.010      9.841      0.000       0.076       0.113\n",
      "size               0.1760      0.090      1.966      0.051      -0.000       0.352\n",
      "==============================================================================\n",
      "Omnibus:                       27.860   Durbin-Watson:                   2.096\n",
      "Prob(Omnibus):                  0.000   Jarque-Bera (JB):               52.555\n",
      "Skew:                           0.607   Prob(JB):                     3.87e-12\n",
      "Kurtosis:                       4.923   Cond. No.                         281.\n",
      "==============================================================================\n",
      "\n",
      "Notes:\n",
      "[1] Standard Errors assume that the covariance matrix of the errors is correctly specified.\n"
     ]
    }
   ],
   "source": [
    "# Regression of the 'tip' variable on all other variables\n",
    "\n",
    "regr1 = smf.ols(formula='tip ~ total_bill + size + sex + smoker + day + time', data=df_tips).fit()\n",
    "print(regr1.summary())"
   ]
  },
  {
   "cell_type": "code",
   "execution_count": 4,
   "metadata": {},
   "outputs": [],
   "source": [
    "# Add the column with the standardized residuals to df_tips\n",
    "\n",
    "df_tips['std_res_regr1'] = stats.zscore(regr1.resid)"
   ]
  },
  {
   "cell_type": "code",
   "execution_count": 5,
   "metadata": {},
   "outputs": [
    {
     "data": {
      "image/png": "[encoded data removed]",
      "text/plain": [
       "<Figure size 640x480 with 1 Axes>"
      ]
     },
     "metadata": {},
     "output_type": "display_data"
    }
   ],
   "source": [
    "# Q-Q plot of the standardized residuals\n",
    "\n",
    "statsmodels.graphics.gofplots.qqplot(df_tips['std_res_regr1'], line='r')\n",
    "plt.show()"
   ]
  },
  {
   "cell_type": "code",
   "execution_count": 6,
   "metadata": {},
   "outputs": [
    {
     "data": {
      "image/png": "[encoded data removed]",
      "text/plain": [
       "<Figure size 640x480 with 1 Axes>"
      ]
     },
     "metadata": {},
     "output_type": "display_data"
    }
   ],
   "source": [
    "# Histogram of the standardized residuals\n",
    "\n",
    "sns.histplot(df_tips['std_res_regr1'])\n",
    "plt.show()"
   ]
  },
  {
   "cell_type": "code",
   "execution_count": 7,
   "metadata": {},
   "outputs": [
    {
     "data": {
      "image/png": "[encoded data removed]",
      "text/plain": [
       "<Figure size 640x480 with 1 Axes>"
      ]
     },
     "metadata": {},
     "output_type": "display_data"
    }
   ],
   "source": [
    "# Fitted values - standardized residuals plot\n",
    "\n",
    "sns.regplot(x=regr1.fittedvalues, y=df_tips['std_res_regr1'], fit_reg=False)\n",
    "plt.show()"
   ]
  },
  {
   "cell_type": "code",
   "execution_count": 8,
   "metadata": {},
   "outputs": [
    {
     "data": {
      "text/plain": [
       "0    4.19\n",
       "dtype: float64"
      ]
     },
     "execution_count": 8,
     "metadata": {},
     "output_type": "execute_result"
    }
   ],
   "source": [
    "# Use the regression model to predict\n",
    "\n",
    "regr1.predict({'total_bill': 30, 'size': 4, 'sex': 'Male', 'smoker': 'No', 'day': 'Sat', 'time': 'Dinner'}).round(2)"
   ]
  },
  {
   "cell_type": "markdown",
   "metadata": {},
   "source": [
    "__Q2:__ Use Scikit-learn to perform a __regression predictive modeling__ analysis on the 'tips' dataset. More specifically, perform the following operations:  \n",
    "- Use the `get_dummies()` method to convert the categorical variables into dummy variables.\n",
    "- Perform a simple train-test split.\n",
    "- Import the LinearRegression class.\n",
    "- Instantiate the class and set no parameters.\n",
    "- Build the model by calling the `fit()` method.\n",
    "- Predict the labels in the test set.\n",
    "- Evaluate the model using regression evaluation metrics.\n",
    "- Use the regression model to predict (based on the following NumPy array with input values: [30, 4, 1, 0, 0, 1, 0, 1])."
   ]
  },
  {
   "cell_type": "code",
   "execution_count": 9,
   "metadata": {},
   "outputs": [
    {
     "data": {
      "text/html": [
       "<div>\n",
       "<style scoped>\n",
       "    .dataframe tbody tr th:only-of-type {\n",
       "        vertical-align: middle;\n",
       "    }\n",
       "\n",
       "    .dataframe tbody tr th {\n",
       "        vertical-align: top;\n",
       "    }\n",
       "\n",
       "    .dataframe thead th {\n",
       "        text-align: right;\n",
       "    }\n",
       "</style>\n",
       "<table border=\"1\" class=\"dataframe\">\n",
       "  <thead>\n",
       "    <tr style=\"text-align: right;\">\n",
       "      <th></th>\n",
       "      <th>total_bill</th>\n",
       "      <th>size</th>\n",
       "      <th>sex_Female</th>\n",
       "      <th>smoker_No</th>\n",
       "      <th>day_Fri</th>\n",
       "      <th>day_Sat</th>\n",
       "      <th>day_Sun</th>\n",
       "      <th>time_Dinner</th>\n",
       "    </tr>\n",
       "  </thead>\n",
       "  <tbody>\n",
       "    <tr>\n",
       "      <th>0</th>\n",
       "      <td>16.99</td>\n",
       "      <td>2</td>\n",
       "      <td>1</td>\n",
       "      <td>1</td>\n",
       "      <td>0</td>\n",
       "      <td>0</td>\n",
       "      <td>1</td>\n",
       "      <td>1</td>\n",
       "    </tr>\n",
       "    <tr>\n",
       "      <th>1</th>\n",
       "      <td>10.34</td>\n",
       "      <td>3</td>\n",
       "      <td>0</td>\n",
       "      <td>1</td>\n",
       "      <td>0</td>\n",
       "      <td>0</td>\n",
       "      <td>1</td>\n",
       "      <td>1</td>\n",
       "    </tr>\n",
       "    <tr>\n",
       "      <th>2</th>\n",
       "      <td>21.01</td>\n",
       "      <td>3</td>\n",
       "      <td>0</td>\n",
       "      <td>1</td>\n",
       "      <td>0</td>\n",
       "      <td>0</td>\n",
       "      <td>1</td>\n",
       "      <td>1</td>\n",
       "    </tr>\n",
       "    <tr>\n",
       "      <th>3</th>\n",
       "      <td>23.68</td>\n",
       "      <td>2</td>\n",
       "      <td>0</td>\n",
       "      <td>1</td>\n",
       "      <td>0</td>\n",
       "      <td>0</td>\n",
       "      <td>1</td>\n",
       "      <td>1</td>\n",
       "    </tr>\n",
       "    <tr>\n",
       "      <th>4</th>\n",
       "      <td>24.59</td>\n",
       "      <td>4</td>\n",
       "      <td>1</td>\n",
       "      <td>1</td>\n",
       "      <td>0</td>\n",
       "      <td>0</td>\n",
       "      <td>1</td>\n",
       "      <td>1</td>\n",
       "    </tr>\n",
       "  </tbody>\n",
       "</table>\n",
       "</div>"
      ],
      "text/plain": [
       "   total_bill  size  sex_Female  smoker_No  day_Fri  day_Sat  day_Sun  \\\n",
       "0       16.99     2           1          1        0        0        1   \n",
       "1       10.34     3           0          1        0        0        1   \n",
       "2       21.01     3           0          1        0        0        1   \n",
       "3       23.68     2           0          1        0        0        1   \n",
       "4       24.59     4           1          1        0        0        1   \n",
       "\n",
       "   time_Dinner  \n",
       "0            1  \n",
       "1            1  \n",
       "2            1  \n",
       "3            1  \n",
       "4            1  "
      ]
     },
     "execution_count": 9,
     "metadata": {},
     "output_type": "execute_result"
    }
   ],
   "source": [
    "# Convert categorical variables into dummy variables\n",
    "\n",
    "df_tips_dummy = pd.get_dummies(df_tips[['total_bill', 'size', 'sex', 'smoker', 'day', 'time']], drop_first=True)\n",
    "df_tips_dummy.head()"
   ]
  },
  {
   "cell_type": "code",
   "execution_count": 10,
   "metadata": {},
   "outputs": [
    {
     "name": "stdout",
     "output_type": "stream",
     "text": [
      "Train features shape:  (183, 8)\n",
      "Test features shape:  (61, 8)\n"
     ]
    }
   ],
   "source": [
    "# Simple train-test split\n",
    "\n",
    "from sklearn.model_selection import train_test_split\n",
    "\n",
    "X = df_tips_dummy.values\n",
    "y = df_tips.values[:, 1]\n",
    "X_train, X_test, y_train, y_test = train_test_split(X, y, test_size=0.25, random_state=123)\n",
    "print(\"Train features shape: \", X_train.shape)\n",
    "print(\"Test features shape: \", X_test.shape)"
   ]
  },
  {
   "cell_type": "code",
   "execution_count": 11,
   "metadata": {},
   "outputs": [],
   "source": [
    "# Import the Estimator class(es)\n",
    "\n",
    "from sklearn.linear_model import LinearRegression"
   ]
  },
  {
   "cell_type": "code",
   "execution_count": 12,
   "metadata": {},
   "outputs": [],
   "source": [
    "# Instantiate the class and set the parameters\n",
    "\n",
    "regr2 = LinearRegression()"
   ]
  },
  {
   "cell_type": "code",
   "execution_count": 13,
   "metadata": {},
   "outputs": [
    {
     "data": {
      "text/html": [
       "<style>#sk-container-id-1 {color: black;background-color: white;}#sk-container-id-1 pre{padding: 0;}#sk-container-id-1 div.sk-toggleable {background-color: white;}#sk-container-id-1 label.sk-toggleable__label {cursor: pointer;display: block;width: 100%;margin-bottom: 0;padding: 0.3em;box-sizing: border-box;text-align: center;}#sk-container-id-1 label.sk-toggleable__label-arrow:before {content: \"▸\";float: left;margin-right: 0.25em;color: #696969;}#sk-container-id-1 label.sk-toggleable__label-arrow:hover:before {color: black;}#sk-container-id-1 div.sk-estimator:hover label.sk-toggleable__label-arrow:before {color: black;}#sk-container-id-1 div.sk-toggleable__content {max-height: 0;max-width: 0;overflow: hidden;text-align: left;background-color: #f0f8ff;}#sk-container-id-1 div.sk-toggleable__content pre {margin: 0.2em;color: black;border-radius: 0.25em;background-color: #f0f8ff;}#sk-container-id-1 input.sk-toggleable__control:checked~div.sk-toggleable__content {max-height: 200px;max-width: 100%;overflow: auto;}#sk-container-id-1 input.sk-toggleable__control:checked~label.sk-toggleable__label-arrow:before {content: \"▾\";}#sk-container-id-1 div.sk-estimator input.sk-toggleable__control:checked~label.sk-toggleable__label {background-color: #d4ebff;}#sk-container-id-1 div.sk-label input.sk-toggleable__control:checked~label.sk-toggleable__label {background-color: #d4ebff;}#sk-container-id-1 input.sk-hidden--visually {border: 0;clip: rect(1px 1px 1px 1px);clip: rect(1px, 1px, 1px, 1px);height: 1px;margin: -1px;overflow: hidden;padding: 0;position: absolute;width: 1px;}#sk-container-id-1 div.sk-estimator {font-family: monospace;background-color: #f0f8ff;border: 1px dotted black;border-radius: 0.25em;box-sizing: border-box;margin-bottom: 0.5em;}#sk-container-id-1 div.sk-estimator:hover {background-color: #d4ebff;}#sk-container-id-1 div.sk-parallel-item::after {content: \"\";width: 100%;border-bottom: 1px solid gray;flex-grow: 1;}#sk-container-id-1 div.sk-label:hover label.sk-toggleable__label {background-color: #d4ebff;}#sk-container-id-1 div.sk-serial::before {content: \"\";position: absolute;border-left: 1px solid gray;box-sizing: border-box;top: 0;bottom: 0;left: 50%;z-index: 0;}#sk-container-id-1 div.sk-serial {display: flex;flex-direction: column;align-items: center;background-color: white;padding-right: 0.2em;padding-left: 0.2em;position: relative;}#sk-container-id-1 div.sk-item {position: relative;z-index: 1;}#sk-container-id-1 div.sk-parallel {display: flex;align-items: stretch;justify-content: center;background-color: white;position: relative;}#sk-container-id-1 div.sk-item::before, #sk-container-id-1 div.sk-parallel-item::before {content: \"\";position: absolute;border-left: 1px solid gray;box-sizing: border-box;top: 0;bottom: 0;left: 50%;z-index: -1;}#sk-container-id-1 div.sk-parallel-item {display: flex;flex-direction: column;z-index: 1;position: relative;background-color: white;}#sk-container-id-1 div.sk-parallel-item:first-child::after {align-self: flex-end;width: 50%;}#sk-container-id-1 div.sk-parallel-item:last-child::after {align-self: flex-start;width: 50%;}#sk-container-id-1 div.sk-parallel-item:only-child::after {width: 0;}#sk-container-id-1 div.sk-dashed-wrapped {border: 1px dashed gray;margin: 0 0.4em 0.5em 0.4em;box-sizing: border-box;padding-bottom: 0.4em;background-color: white;}#sk-container-id-1 div.sk-label label {font-family: monospace;font-weight: bold;display: inline-block;line-height: 1.2em;}#sk-container-id-1 div.sk-label-container {text-align: center;}#sk-container-id-1 div.sk-container {/* jupyter's `normalize.less` sets `[hidden] { display: none; }` but bootstrap.min.css set `[hidden] { display: none !important; }` so we also need the `!important` here to be able to override the default hidden behavior on the sphinx rendered scikit-learn.org. See: https://github.com/scikit-learn/scikit-learn/issues/21755 */display: inline-block !important;position: relative;}#sk-container-id-1 div.sk-text-repr-fallback {display: none;}</style><div id=\"sk-container-id-1\" class=\"sk-top-container\"><div class=\"sk-text-repr-fallback\"><pre>LinearRegression()</pre><b>In a Jupyter environment, please rerun this cell to show the HTML representation or trust the notebook. <br />On GitHub, the HTML representation is unable to render, please try loading this page with nbviewer.org.</b></div><div class=\"sk-container\" hidden><div class=\"sk-item\"><div class=\"sk-estimator sk-toggleable\"><input class=\"sk-toggleable__control sk-hidden--visually\" id=\"sk-estimator-id-1\" type=\"checkbox\" checked><label for=\"sk-estimator-id-1\" class=\"sk-toggleable__label sk-toggleable__label-arrow\">LinearRegression</label><div class=\"sk-toggleable__content\"><pre>LinearRegression()</pre></div></div></div></div></div>"
      ],
      "text/plain": [
       "LinearRegression()"
      ]
     },
     "execution_count": 13,
     "metadata": {},
     "output_type": "execute_result"
    }
   ],
   "source": [
    "# Build the model by calling the fit method\n",
    "\n",
    "regr2.fit(X_train, y_train)"
   ]
  },
  {
   "cell_type": "code",
   "execution_count": 14,
   "metadata": {},
   "outputs": [
    {
     "name": "stdout",
     "output_type": "stream",
     "text": [
      "Test set predictions:\n",
      " [4.96107462 3.0549013  4.68673557 1.92296206 3.05819284 4.25048225\n",
      " 2.95362677 2.52043652 3.91544574 2.75030187 2.02845434 2.75339661\n",
      " 2.58626339 2.28940172 2.41351234 3.28281777 1.95957917 2.79688584\n",
      " 5.67071419 2.56739932 3.81974234 2.41567842 2.04200195 3.10838661\n",
      " 2.14536966 2.75877133 5.55590439 4.92044918 2.58108315 2.18058623\n",
      " 4.14644355 2.0606569  3.96958425 2.7452943  3.33194871 1.76897546\n",
      " 2.36292743 3.95551421 3.93662599 2.3355381  2.95131264 2.34616117\n",
      " 2.84404312 2.54679262 5.44300793 3.27800153 1.91200828 3.3655441\n",
      " 1.70985051 5.08648586 2.59080923 2.12800545 2.06022163 1.92087889\n",
      " 2.88100064 2.12939584 4.96376821 4.76745921 2.12812368 3.32627001\n",
      " 1.95997032]\n"
     ]
    }
   ],
   "source": [
    "# Predict the labels in the test set\n",
    "\n",
    "y_pred = regr2.predict(X_test)\n",
    "print(\"Test set predictions:\\n\", y_pred)"
   ]
  },
  {
   "cell_type": "code",
   "execution_count": 15,
   "metadata": {},
   "outputs": [
    {
     "name": "stdout",
     "output_type": "stream",
     "text": [
      "mae: 0.64 / mse: 0.82 / rmse: 0.91 / r2: 0.44\n"
     ]
    }
   ],
   "source": [
    "# Evaluate the model using evaluation metrics\n",
    "\n",
    "from sklearn import metrics\n",
    "import math\n",
    "\n",
    "mae = metrics.mean_absolute_error(y_test, y_pred)\n",
    "mse = metrics.mean_squared_error(y_test, y_pred)\n",
    "rmse = math.sqrt(mse)\n",
    "r2 = metrics.r2_score(y_test, y_pred)\n",
    "print(\"mae:\", round(mae, 2), \"/ mse:\", round(mse, 2), \"/ rmse:\", round(rmse, 2), \"/ r2:\", round(r2, 2))"
   ]
  },
  {
   "cell_type": "code",
   "execution_count": 16,
   "metadata": {},
   "outputs": [
    {
     "name": "stdout",
     "output_type": "stream",
     "text": [
      "X_New.shape: (1, 8)\n",
      "Prediction: 4.24\n"
     ]
    }
   ],
   "source": [
    "# Use the regression model to predict\n",
    "\n",
    "X_new = np.array([[30, 4, 1, 0, 0, 1, 0, 1]])\n",
    "print(\"X_New.shape:\", X_new.shape)\n",
    "prediction = round(float(regr2.predict(X_new)), 2)\n",
    "print(\"Prediction:\", prediction)"
   ]
  },
  {
   "cell_type": "markdown",
   "metadata": {},
   "source": [
    "## Some remarks about Assignment 1"
   ]
  },
  {
   "cell_type": "code",
   "execution_count": 17,
   "metadata": {},
   "outputs": [
    {
     "data": {
      "text/html": [
       "<div>\n",
       "<style scoped>\n",
       "    .dataframe tbody tr th:only-of-type {\n",
       "        vertical-align: middle;\n",
       "    }\n",
       "\n",
       "    .dataframe tbody tr th {\n",
       "        vertical-align: top;\n",
       "    }\n",
       "\n",
       "    .dataframe thead th {\n",
       "        text-align: right;\n",
       "    }\n",
       "</style>\n",
       "<table border=\"1\" class=\"dataframe\">\n",
       "  <thead>\n",
       "    <tr style=\"text-align: right;\">\n",
       "      <th></th>\n",
       "      <th>2018</th>\n",
       "      <th>2019</th>\n",
       "      <th>2020</th>\n",
       "    </tr>\n",
       "  </thead>\n",
       "  <tbody>\n",
       "    <tr>\n",
       "      <th>Net sales</th>\n",
       "      <td>485000.0</td>\n",
       "      <td>490000.0</td>\n",
       "      <td>510000.0</td>\n",
       "    </tr>\n",
       "    <tr>\n",
       "      <th>Cost of goods sold</th>\n",
       "      <td>NaN</td>\n",
       "      <td>NaN</td>\n",
       "      <td>NaN</td>\n",
       "    </tr>\n",
       "    <tr>\n",
       "      <th>SG&amp;A expenses</th>\n",
       "      <td>NaN</td>\n",
       "      <td>NaN</td>\n",
       "      <td>NaN</td>\n",
       "    </tr>\n",
       "    <tr>\n",
       "      <th>Operating income</th>\n",
       "      <td>NaN</td>\n",
       "      <td>NaN</td>\n",
       "      <td>NaN</td>\n",
       "    </tr>\n",
       "    <tr>\n",
       "      <th>Income taxes</th>\n",
       "      <td>NaN</td>\n",
       "      <td>NaN</td>\n",
       "      <td>NaN</td>\n",
       "    </tr>\n",
       "    <tr>\n",
       "      <th>Net income</th>\n",
       "      <td>NaN</td>\n",
       "      <td>NaN</td>\n",
       "      <td>NaN</td>\n",
       "    </tr>\n",
       "  </tbody>\n",
       "</table>\n",
       "</div>"
      ],
      "text/plain": [
       "                        2018      2019      2020\n",
       "Net sales           485000.0  490000.0  510000.0\n",
       "Cost of goods sold       NaN       NaN       NaN\n",
       "SG&A expenses            NaN       NaN       NaN\n",
       "Operating income         NaN       NaN       NaN\n",
       "Income taxes             NaN       NaN       NaN\n",
       "Net income               NaN       NaN       NaN"
      ]
     },
     "execution_count": 17,
     "metadata": {},
     "output_type": "execute_result"
    }
   ],
   "source": [
    "# Create the initial DataFrame\n",
    "\n",
    "df1 = pd.DataFrame({'Items': ['Net sales', 'Cost of goods sold', 'SG&A expenses', 'Operating income', 'Income taxes', 'Net income'],\n",
    "                    2018: [485000, np.nan, np.nan, np.nan, np.nan, np.nan],\n",
    "                    2019: [490000, np.nan, np.nan, np.nan, np.nan, np.nan],\n",
    "                    2020: [510000, np.nan, np.nan, np.nan, np.nan, np.nan]}).set_index('Items')\n",
    "df1.rename_axis(None, inplace=True)\n",
    "df1"
   ]
  },
  {
   "cell_type": "code",
   "execution_count": 18,
   "metadata": {},
   "outputs": [
    {
     "data": {
      "text/html": [
       "<div>\n",
       "<style scoped>\n",
       "    .dataframe tbody tr th:only-of-type {\n",
       "        vertical-align: middle;\n",
       "    }\n",
       "\n",
       "    .dataframe tbody tr th {\n",
       "        vertical-align: top;\n",
       "    }\n",
       "\n",
       "    .dataframe thead th {\n",
       "        text-align: right;\n",
       "    }\n",
       "</style>\n",
       "<table border=\"1\" class=\"dataframe\">\n",
       "  <thead>\n",
       "    <tr style=\"text-align: right;\">\n",
       "      <th></th>\n",
       "      <th>2018</th>\n",
       "      <th>2019</th>\n",
       "      <th>2020</th>\n",
       "    </tr>\n",
       "  </thead>\n",
       "  <tbody>\n",
       "    <tr>\n",
       "      <th>Cost of goods sold</th>\n",
       "      <td>335000</td>\n",
       "      <td>350000</td>\n",
       "      <td>360000</td>\n",
       "    </tr>\n",
       "    <tr>\n",
       "      <th>SG&amp;A expenses</th>\n",
       "      <td>95000</td>\n",
       "      <td>97500</td>\n",
       "      <td>100000</td>\n",
       "    </tr>\n",
       "    <tr>\n",
       "      <th>Income taxes</th>\n",
       "      <td>17500</td>\n",
       "      <td>13500</td>\n",
       "      <td>16000</td>\n",
       "    </tr>\n",
       "  </tbody>\n",
       "</table>\n",
       "</div>"
      ],
      "text/plain": [
       "                      2018    2019    2020\n",
       "Cost of goods sold  335000  350000  360000\n",
       "SG&A expenses        95000   97500  100000\n",
       "Income taxes         17500   13500   16000"
      ]
     },
     "execution_count": 18,
     "metadata": {},
     "output_type": "execute_result"
    }
   ],
   "source": [
    "# Import the data\n",
    "\n",
    "df2 = pd.read_excel('data/expenses.xlsx', sheet_name='Sheet1', header=0, index_col=0, skiprows=2)\n",
    "df2"
   ]
  },
  {
   "cell_type": "code",
   "execution_count": 19,
   "metadata": {},
   "outputs": [
    {
     "data": {
      "text/html": [
       "<div>\n",
       "<style scoped>\n",
       "    .dataframe tbody tr th:only-of-type {\n",
       "        vertical-align: middle;\n",
       "    }\n",
       "\n",
       "    .dataframe tbody tr th {\n",
       "        vertical-align: top;\n",
       "    }\n",
       "\n",
       "    .dataframe thead th {\n",
       "        text-align: right;\n",
       "    }\n",
       "</style>\n",
       "<table border=\"1\" class=\"dataframe\">\n",
       "  <thead>\n",
       "    <tr style=\"text-align: right;\">\n",
       "      <th></th>\n",
       "      <th>2018</th>\n",
       "      <th>2019</th>\n",
       "      <th>2020</th>\n",
       "    </tr>\n",
       "  </thead>\n",
       "  <tbody>\n",
       "    <tr>\n",
       "      <th>Net sales</th>\n",
       "      <td>485000.0</td>\n",
       "      <td>490000.0</td>\n",
       "      <td>510000.0</td>\n",
       "    </tr>\n",
       "    <tr>\n",
       "      <th>Cost of goods sold</th>\n",
       "      <td>335000.0</td>\n",
       "      <td>350000.0</td>\n",
       "      <td>360000.0</td>\n",
       "    </tr>\n",
       "    <tr>\n",
       "      <th>SG&amp;A expenses</th>\n",
       "      <td>95000.0</td>\n",
       "      <td>97500.0</td>\n",
       "      <td>100000.0</td>\n",
       "    </tr>\n",
       "    <tr>\n",
       "      <th>Operating income</th>\n",
       "      <td>NaN</td>\n",
       "      <td>NaN</td>\n",
       "      <td>NaN</td>\n",
       "    </tr>\n",
       "    <tr>\n",
       "      <th>Income taxes</th>\n",
       "      <td>17500.0</td>\n",
       "      <td>13500.0</td>\n",
       "      <td>16000.0</td>\n",
       "    </tr>\n",
       "    <tr>\n",
       "      <th>Net income</th>\n",
       "      <td>NaN</td>\n",
       "      <td>NaN</td>\n",
       "      <td>NaN</td>\n",
       "    </tr>\n",
       "  </tbody>\n",
       "</table>\n",
       "</div>"
      ],
      "text/plain": [
       "                        2018      2019      2020\n",
       "Net sales           485000.0  490000.0  510000.0\n",
       "Cost of goods sold  335000.0  350000.0  360000.0\n",
       "SG&A expenses        95000.0   97500.0  100000.0\n",
       "Operating income         NaN       NaN       NaN\n",
       "Income taxes         17500.0   13500.0   16000.0\n",
       "Net income               NaN       NaN       NaN"
      ]
     },
     "execution_count": 19,
     "metadata": {},
     "output_type": "execute_result"
    }
   ],
   "source": [
    "# Calculate (and fill in) the values (1)\n",
    "\n",
    "df1.loc['Cost of goods sold', :] = df2.loc['Cost of goods sold', :]\n",
    "df1.loc['SG&A expenses', :] = df2.loc['SG&A expenses', :]\n",
    "df1.loc['Income taxes', :] = df2.loc['Income taxes', :]\n",
    "df1"
   ]
  },
  {
   "cell_type": "code",
   "execution_count": 20,
   "metadata": {},
   "outputs": [
    {
     "data": {
      "text/html": [
       "<div>\n",
       "<style scoped>\n",
       "    .dataframe tbody tr th:only-of-type {\n",
       "        vertical-align: middle;\n",
       "    }\n",
       "\n",
       "    .dataframe tbody tr th {\n",
       "        vertical-align: top;\n",
       "    }\n",
       "\n",
       "    .dataframe thead th {\n",
       "        text-align: right;\n",
       "    }\n",
       "</style>\n",
       "<table border=\"1\" class=\"dataframe\">\n",
       "  <thead>\n",
       "    <tr style=\"text-align: right;\">\n",
       "      <th></th>\n",
       "      <th>2018</th>\n",
       "      <th>2019</th>\n",
       "      <th>2020</th>\n",
       "    </tr>\n",
       "  </thead>\n",
       "  <tbody>\n",
       "    <tr>\n",
       "      <th>Net sales</th>\n",
       "      <td>485000.0</td>\n",
       "      <td>490000.0</td>\n",
       "      <td>510000.0</td>\n",
       "    </tr>\n",
       "    <tr>\n",
       "      <th>Cost of goods sold</th>\n",
       "      <td>335000.0</td>\n",
       "      <td>350000.0</td>\n",
       "      <td>360000.0</td>\n",
       "    </tr>\n",
       "    <tr>\n",
       "      <th>SG&amp;A expenses</th>\n",
       "      <td>95000.0</td>\n",
       "      <td>97500.0</td>\n",
       "      <td>100000.0</td>\n",
       "    </tr>\n",
       "    <tr>\n",
       "      <th>Operating income</th>\n",
       "      <td>55000.0</td>\n",
       "      <td>42500.0</td>\n",
       "      <td>50000.0</td>\n",
       "    </tr>\n",
       "    <tr>\n",
       "      <th>Income taxes</th>\n",
       "      <td>17500.0</td>\n",
       "      <td>13500.0</td>\n",
       "      <td>16000.0</td>\n",
       "    </tr>\n",
       "    <tr>\n",
       "      <th>Net income</th>\n",
       "      <td>37500.0</td>\n",
       "      <td>29000.0</td>\n",
       "      <td>34000.0</td>\n",
       "    </tr>\n",
       "  </tbody>\n",
       "</table>\n",
       "</div>"
      ],
      "text/plain": [
       "                        2018      2019      2020\n",
       "Net sales           485000.0  490000.0  510000.0\n",
       "Cost of goods sold  335000.0  350000.0  360000.0\n",
       "SG&A expenses        95000.0   97500.0  100000.0\n",
       "Operating income     55000.0   42500.0   50000.0\n",
       "Income taxes         17500.0   13500.0   16000.0\n",
       "Net income           37500.0   29000.0   34000.0"
      ]
     },
     "execution_count": 20,
     "metadata": {},
     "output_type": "execute_result"
    }
   ],
   "source": [
    "# Calculate (and fill in) the values (2)\n",
    "\n",
    "df1.loc['Operating income', :] = (df1.loc['Net sales'] - df1.loc['Cost of goods sold'] - df1.loc['SG&A expenses'])\n",
    "df1.loc['Net income', :] = (df1.loc['Operating income'] - df1.loc['Income taxes'])\n",
    "df1"
   ]
  },
  {
   "cell_type": "code",
   "execution_count": 21,
   "metadata": {},
   "outputs": [
    {
     "data": {
      "text/html": [
       "<div>\n",
       "<style scoped>\n",
       "    .dataframe tbody tr th:only-of-type {\n",
       "        vertical-align: middle;\n",
       "    }\n",
       "\n",
       "    .dataframe tbody tr th {\n",
       "        vertical-align: top;\n",
       "    }\n",
       "\n",
       "    .dataframe thead th {\n",
       "        text-align: right;\n",
       "    }\n",
       "</style>\n",
       "<table border=\"1\" class=\"dataframe\">\n",
       "  <thead>\n",
       "    <tr style=\"text-align: right;\">\n",
       "      <th></th>\n",
       "      <th>2018</th>\n",
       "      <th>2019</th>\n",
       "      <th>2020</th>\n",
       "      <th>Total 2018-2020</th>\n",
       "    </tr>\n",
       "  </thead>\n",
       "  <tbody>\n",
       "    <tr>\n",
       "      <th>Net sales</th>\n",
       "      <td>485000.0</td>\n",
       "      <td>490000.0</td>\n",
       "      <td>510000.0</td>\n",
       "      <td>1485000.0</td>\n",
       "    </tr>\n",
       "    <tr>\n",
       "      <th>Cost of goods sold</th>\n",
       "      <td>335000.0</td>\n",
       "      <td>350000.0</td>\n",
       "      <td>360000.0</td>\n",
       "      <td>1045000.0</td>\n",
       "    </tr>\n",
       "    <tr>\n",
       "      <th>SG&amp;A expenses</th>\n",
       "      <td>95000.0</td>\n",
       "      <td>97500.0</td>\n",
       "      <td>100000.0</td>\n",
       "      <td>292500.0</td>\n",
       "    </tr>\n",
       "    <tr>\n",
       "      <th>Operating income</th>\n",
       "      <td>55000.0</td>\n",
       "      <td>42500.0</td>\n",
       "      <td>50000.0</td>\n",
       "      <td>147500.0</td>\n",
       "    </tr>\n",
       "    <tr>\n",
       "      <th>Income taxes</th>\n",
       "      <td>17500.0</td>\n",
       "      <td>13500.0</td>\n",
       "      <td>16000.0</td>\n",
       "      <td>47000.0</td>\n",
       "    </tr>\n",
       "    <tr>\n",
       "      <th>Net income</th>\n",
       "      <td>37500.0</td>\n",
       "      <td>29000.0</td>\n",
       "      <td>34000.0</td>\n",
       "      <td>100500.0</td>\n",
       "    </tr>\n",
       "  </tbody>\n",
       "</table>\n",
       "</div>"
      ],
      "text/plain": [
       "                        2018      2019      2020  Total 2018-2020\n",
       "Net sales           485000.0  490000.0  510000.0        1485000.0\n",
       "Cost of goods sold  335000.0  350000.0  360000.0        1045000.0\n",
       "SG&A expenses        95000.0   97500.0  100000.0         292500.0\n",
       "Operating income     55000.0   42500.0   50000.0         147500.0\n",
       "Income taxes         17500.0   13500.0   16000.0          47000.0\n",
       "Net income           37500.0   29000.0   34000.0         100500.0"
      ]
     },
     "execution_count": 21,
     "metadata": {},
     "output_type": "execute_result"
    }
   ],
   "source": [
    "# Calculate (and fill in) the values (3)\n",
    "\n",
    "df1['Total 2018-2020'] = df1.iloc[:, :3].sum(axis=1)\n",
    "df1"
   ]
  },
  {
   "cell_type": "markdown",
   "metadata": {},
   "source": [
    "## Some remarks about Assignment 2"
   ]
  },
  {
   "cell_type": "markdown",
   "metadata": {},
   "source": [
    "Some important considerations concerning the estimation of earnings management models, such as those used in this assignment:\n",
    "- With or without an intercept?\n",
    "- Single time-series, cross-sectional/industry or cross-sectional/sample?\n",
    "- Income-increasing EM (positive residuals) vs. Income-decreasing EM (negative residuals)?\n",
    "- Signed vs. Unsigned (absolute values)?"
   ]
  },
  {
   "cell_type": "markdown",
   "metadata": {},
   "source": [
    "The formula for curtailment of discretionary SG&A costs is:\n",
    "\n",
    "$$SG\\&A_{it}/Total Assets_{it-1} = {\\beta}_{1} + {\\beta}_{2}(1/Total Assets_{it-1}) + {\\beta}_{3}(Sales_{it-1}/Total Assets_{it-1}) + {\\epsilon}_{it}$$\n",
    "\n",
    "The abnormal level of discretionary SG&A costs is measured as __(the inverse of)__ the estimated __residual__ from this equation (i.e., *not* the standardized residual).\n",
    "\n",
    "Similarly, the formula for curtailment of discretionary R&D costs is:\n",
    "\n",
    "$$R\\&D_{it}/Total Assets_{it-1} = {\\beta}_{1} + {\\beta}_{2}(1/Total Assets_{it-1}) + {\\beta}_{3}(Sales_{it-1}/Total Assets_{it-1}) + {\\epsilon}_{it}$$\n",
    "\n",
    "The abnormal level of discretionary R&D costs is measured as __(the inverse of)__ the estimated __residual__ from this equation (i.e., *not* the standardized residual)."
   ]
  },
  {
   "cell_type": "markdown",
   "metadata": {},
   "source": [
    "## Some remarks about assignment 3"
   ]
  },
  {
   "cell_type": "markdown",
   "metadata": {},
   "source": [
    "No remarks. Relatively straightforward assignment."
   ]
  },
  {
   "cell_type": "code",
   "execution_count": null,
   "metadata": {},
   "outputs": [],
   "source": []
  }
 ],
 "metadata": {
  "kernelspec": {
   "display_name": "Python 3 (ipykernel)",
   "language": "python",
   "name": "python3"
  },
  "language_info": {
   "codemirror_mode": {
    "name": "ipython",
    "version": 3
   },
   "file_extension": ".py",
   "mimetype": "text/x-python",
   "name": "python",
   "nbconvert_exporter": "python",
   "pygments_lexer": "ipython3",
   "version": "3.10.9"
  }
 },
 "nbformat": 4,
 "nbformat_minor": 4
}
