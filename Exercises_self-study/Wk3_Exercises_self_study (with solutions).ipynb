{
 "cells": [
  {
   "cell_type": "markdown",
   "metadata": {},
   "source": [
    "# Wk3_Exercises_self_study (with solutions)"
   ]
  },
  {
   "cell_type": "markdown",
   "metadata": {},
   "source": [
    "Before you start, first import the pandas, NumPy, matplotlib, seaborn, SciPy and statsmodels libraries, for example as follows:\n",
    "```python\n",
    "# Import the libraries\n",
    "import pandas as pd\n",
    "import numpy as np\n",
    "import matplotlib.pyplot as plt\n",
    "import seaborn as sns\n",
    "import scipy.stats as stats\n",
    "import statsmodels.formula.api as smf\n",
    "\n",
    "%matplotlib inline\n",
    "```"
   ]
  },
  {
   "cell_type": "code",
   "execution_count": 1,
   "metadata": {},
   "outputs": [],
   "source": [
    "# Import the libraries\n",
    "\n",
    "import pandas as pd\n",
    "import numpy as np\n",
    "import matplotlib.pyplot as plt\n",
    "import seaborn as sns\n",
    "import scipy.stats as stats\n",
    "import statsmodels.formula.api as smf\n",
    "\n",
    "%matplotlib inline"
   ]
  },
  {
   "cell_type": "markdown",
   "metadata": {},
   "source": [
    "__Q1:__ Define a function ('calculate_summary_stats') that calculates and returns five basic summary statistics (mean, standard deviation, median, minimum and maximum) of all values in an array. Next, create an array ('arr_10') by manually entering the following values in NumPy's `array()` function: [1, 1, 1, 2, 2, 3, 3, 4, 5, 5]. Then perform the following operations: (1) call the function on the array, and (2) (in a separate cell) use `f-strings` to print the following statement: \"The mean and median of this array are respectively: MEAN and MEDIAN.\". Use calling the function to fill in the MEAN and MEDIAN in this statement."
   ]
  },
  {
   "cell_type": "code",
   "execution_count": 2,
   "metadata": {},
   "outputs": [
    {
     "data": {
      "text/plain": [
       "(2.7, 1.4866068747318506, 2.5, 1, 5)"
      ]
     },
     "execution_count": 2,
     "metadata": {},
     "output_type": "execute_result"
    }
   ],
   "source": [
    "# Define the function, create the array, and call the function\n",
    "\n",
    "def calculate_summary_stats(arr):\n",
    "    return np.mean(arr), np.std(arr), np.median(arr), np.min(arr), np.max(arr)\n",
    "\n",
    "arr_10 = np.array([1, 1, 1, 2, 2, 3, 3, 4, 5, 5])\n",
    "calculate_summary_stats(arr_10)"
   ]
  },
  {
   "cell_type": "code",
   "execution_count": 3,
   "metadata": {},
   "outputs": [
    {
     "name": "stdout",
     "output_type": "stream",
     "text": [
      "The mean and median of this array are respectively: 2.7 and 2.5.\n"
     ]
    }
   ],
   "source": [
    "# Print the sentence (by calling the function)\n",
    "\n",
    "print(f\"The mean and median of this array are respectively: {calculate_summary_stats(arr_10)[0]} and \\\n",
    "{calculate_summary_stats(arr_10)[2]}.\")"
   ]
  },
  {
   "cell_type": "markdown",
   "metadata": {},
   "source": [
    "__Q2:__ An important skill for a data analyst is being able to choose the most appropriate statistical test for analyzing a research question. For each of the following four research questions, choose the most appropriate bivariate statistical test, assuming that the underlying assumptions of this test are met: (a) Is there a difference in JIT usage between users and non-users of ABC?; (b) Is there a difference in organizational performance (measured as return on sales) between users and non-users of ABC?; (c) Is there a difference in organizational performance (measured as return on sales) for 2020 between firms that are listed as Blue chips (Segment A), Midcaps (Segment B), and Small caps (Segment C) at the \tAmsterdam Stock Exchange?; and (d) Is there a difference in disclosure of sales per segment (i.e., product group) in the annual reports of 2020 between firms that have more and firms that have less than 10.000 employees? (The correct answers are provided later in this document.)"
   ]
  },
  {
   "cell_type": "markdown",
   "metadata": {},
   "source": [
    "Data scientists regularly use a method called 'A/B testing'. As explained on Wikipedia, \"A/B tests consist of a randomized experiment with two variants, A and B. It includes application of statistical hypothesis testing or \"two-sample hypothesis testing\" as used in the field of statistics. A/B testing is a way to compare two versions of a single variable, typically by testing a subject's response to variant A against variant B, and determining which of the two variants is more effective.\"\n",
    "\n",
    "Suppose there is an e-commerce company that wants to make some changes in its newsletter format to increase the traffic on its website. It takes the original newsletter and marks it A, and makes some changes in the language of A and calls it B. Both newsletters are otherwise the same in color, headlines, and format. As a data scientist, you are asked to test which newsletter brings higher traffic on the website. That is, you are asked to test whether (as hypothesized) the daily conversion rate of customers who receive newsletter B is higher than the daily conversion rate of customers who receive newsletter A.\n",
    "\n",
    "For this experiment, you randomly select 1000 customers, and randomly assign each of these customers to either the control group or the treatment group, where the control group is the one that will receive newsletter A and the treatment group is the one that will receive newsletter B. Next, for a period of 30 days, you calculate the daily conversion rates for both groups."
   ]
  },
  {
   "cell_type": "markdown",
   "metadata": {},
   "source": [
    "__Q3:__ Use the `read_csv()` method to import the CSV file 'ab_test.csv' as a pandas DataFrame ('df_ab'). Next, explore this dataset using (at least) the `head()` and `info()` methods.\n",
    "\n",
    "__NOTE:__ The dataset for the exercises about A/B testing is taken from Analytics Vidhya."
   ]
  },
  {
   "cell_type": "code",
   "execution_count": 4,
   "metadata": {},
   "outputs": [
    {
     "data": {
      "text/html": [
       "<div>\n",
       "<style scoped>\n",
       "    .dataframe tbody tr th:only-of-type {\n",
       "        vertical-align: middle;\n",
       "    }\n",
       "\n",
       "    .dataframe tbody tr th {\n",
       "        vertical-align: top;\n",
       "    }\n",
       "\n",
       "    .dataframe thead th {\n",
       "        text-align: right;\n",
       "    }\n",
       "</style>\n",
       "<table border=\"1\" class=\"dataframe\">\n",
       "  <thead>\n",
       "    <tr style=\"text-align: right;\">\n",
       "      <th></th>\n",
       "      <th>Day</th>\n",
       "      <th>Conversion_A</th>\n",
       "      <th>Conversion_B</th>\n",
       "    </tr>\n",
       "  </thead>\n",
       "  <tbody>\n",
       "    <tr>\n",
       "      <th>0</th>\n",
       "      <td>1</td>\n",
       "      <td>0.15</td>\n",
       "      <td>0.19</td>\n",
       "    </tr>\n",
       "    <tr>\n",
       "      <th>1</th>\n",
       "      <td>2</td>\n",
       "      <td>0.12</td>\n",
       "      <td>0.20</td>\n",
       "    </tr>\n",
       "    <tr>\n",
       "      <th>2</th>\n",
       "      <td>3</td>\n",
       "      <td>0.18</td>\n",
       "      <td>0.18</td>\n",
       "    </tr>\n",
       "    <tr>\n",
       "      <th>3</th>\n",
       "      <td>4</td>\n",
       "      <td>0.19</td>\n",
       "      <td>0.22</td>\n",
       "    </tr>\n",
       "    <tr>\n",
       "      <th>4</th>\n",
       "      <td>5</td>\n",
       "      <td>0.17</td>\n",
       "      <td>0.19</td>\n",
       "    </tr>\n",
       "  </tbody>\n",
       "</table>\n",
       "</div>"
      ],
      "text/plain": [
       "   Day   Conversion_A  Conversion_B\n",
       "0     1          0.15          0.19\n",
       "1     2          0.12          0.20\n",
       "2     3          0.18          0.18\n",
       "3     4          0.19          0.22\n",
       "4     5          0.17          0.19"
      ]
     },
     "execution_count": 4,
     "metadata": {},
     "output_type": "execute_result"
    }
   ],
   "source": [
    "# Import the data\n",
    "\n",
    "df_ab = pd.read_csv(\"data/ab_test.csv\")\n",
    "df_ab.head()"
   ]
  },
  {
   "cell_type": "code",
   "execution_count": 5,
   "metadata": {},
   "outputs": [
    {
     "name": "stdout",
     "output_type": "stream",
     "text": [
      "<class 'pandas.core.frame.DataFrame'>\n",
      "RangeIndex: 30 entries, 0 to 29\n",
      "Data columns (total 3 columns):\n",
      " #   Column        Non-Null Count  Dtype  \n",
      "---  ------        --------------  -----  \n",
      " 0   Day           30 non-null     int64  \n",
      " 1   Conversion_A  30 non-null     float64\n",
      " 2   Conversion_B  30 non-null     float64\n",
      "dtypes: float64(2), int64(1)\n",
      "memory usage: 848.0 bytes\n"
     ]
    }
   ],
   "source": [
    "# Display general information\n",
    "\n",
    "df_ab.info()"
   ]
  },
  {
   "cell_type": "markdown",
   "metadata": {},
   "source": [
    "__Q4:__ Use the `describe()` method to display summary statistics for the 'Conversion_A' and 'Conversion_B' variables. Use the `round()` method to round the numbers to three digits after the decimal, and the `transpose()` method (or `T`) to transpose the displayed table."
   ]
  },
  {
   "cell_type": "code",
   "execution_count": 6,
   "metadata": {},
   "outputs": [
    {
     "data": {
      "text/html": [
       "<div>\n",
       "<style scoped>\n",
       "    .dataframe tbody tr th:only-of-type {\n",
       "        vertical-align: middle;\n",
       "    }\n",
       "\n",
       "    .dataframe tbody tr th {\n",
       "        vertical-align: top;\n",
       "    }\n",
       "\n",
       "    .dataframe thead th {\n",
       "        text-align: right;\n",
       "    }\n",
       "</style>\n",
       "<table border=\"1\" class=\"dataframe\">\n",
       "  <thead>\n",
       "    <tr style=\"text-align: right;\">\n",
       "      <th></th>\n",
       "      <th>count</th>\n",
       "      <th>mean</th>\n",
       "      <th>std</th>\n",
       "      <th>min</th>\n",
       "      <th>25%</th>\n",
       "      <th>50%</th>\n",
       "      <th>75%</th>\n",
       "      <th>max</th>\n",
       "    </tr>\n",
       "  </thead>\n",
       "  <tbody>\n",
       "    <tr>\n",
       "      <th>Conversion_A</th>\n",
       "      <td>30.0</td>\n",
       "      <td>0.162</td>\n",
       "      <td>0.036</td>\n",
       "      <td>0.10</td>\n",
       "      <td>0.132</td>\n",
       "      <td>0.165</td>\n",
       "      <td>0.188</td>\n",
       "      <td>0.23</td>\n",
       "    </tr>\n",
       "    <tr>\n",
       "      <th>Conversion_B</th>\n",
       "      <td>30.0</td>\n",
       "      <td>0.193</td>\n",
       "      <td>0.027</td>\n",
       "      <td>0.15</td>\n",
       "      <td>0.180</td>\n",
       "      <td>0.190</td>\n",
       "      <td>0.200</td>\n",
       "      <td>0.27</td>\n",
       "    </tr>\n",
       "  </tbody>\n",
       "</table>\n",
       "</div>"
      ],
      "text/plain": [
       "              count   mean    std   min    25%    50%    75%   max\n",
       "Conversion_A   30.0  0.162  0.036  0.10  0.132  0.165  0.188  0.23\n",
       "Conversion_B   30.0  0.193  0.027  0.15  0.180  0.190  0.200  0.27"
      ]
     },
     "execution_count": 6,
     "metadata": {},
     "output_type": "execute_result"
    }
   ],
   "source": [
    "# Display summary statistics\n",
    "\n",
    "df_ab[['Conversion_A', 'Conversion_B']].describe().round(3).T"
   ]
  },
  {
   "cell_type": "markdown",
   "metadata": {},
   "source": [
    "__Q5:__ Use the t-test for two independent samples to test whether (as hypothesized) the conversion rate of customers who receive newsletter B is higher than the conversion rate of customers who receive newsletter A."
   ]
  },
  {
   "cell_type": "code",
   "execution_count": 7,
   "metadata": {},
   "outputs": [
    {
     "data": {
      "text/plain": [
       "Ttest_indResult(statistic=-3.787367930919289, pvalue=0.00036379601282876257)"
      ]
     },
     "execution_count": 7,
     "metadata": {},
     "output_type": "execute_result"
    }
   ],
   "source": [
    "# Use the t-test for two independent samples\n",
    "\n",
    "stats.ttest_ind(df_ab.Conversion_A, df_ab.Conversion_B, equal_var=True)"
   ]
  },
  {
   "cell_type": "markdown",
   "metadata": {},
   "source": [
    "__Q6:__ Use the Welch's t-test to test whether (as hypothesized) the conversion rate of customers who receive newsletter B is higher than the conversion rate of customers who receive newsletter A. Would you draw the same conclusion about whether or not to reject the null hypothesis as you would based on the t-test for two independent samples?"
   ]
  },
  {
   "cell_type": "code",
   "execution_count": 8,
   "metadata": {},
   "outputs": [
    {
     "data": {
      "text/plain": [
       "Ttest_indResult(statistic=-3.78736793091929, pvalue=0.00038453573945864804)"
      ]
     },
     "execution_count": 8,
     "metadata": {},
     "output_type": "execute_result"
    }
   ],
   "source": [
    "# Use the Welch's t-test\n",
    "\n",
    "stats.ttest_ind(df_ab.Conversion_A, df_ab.Conversion_B, equal_var=False)"
   ]
  },
  {
   "cell_type": "markdown",
   "metadata": {},
   "source": [
    "__Q7:__ Use the Mann-Whitney test to test whether (as hypothesized) the conversion rate of customers who receive newsletter B is higher than the conversion rate of customers who receive newsletter A. Would you draw the same conclusion about whether or not to reject the null hypothesis as you would based on the t-test for two independent samples?"
   ]
  },
  {
   "cell_type": "code",
   "execution_count": 9,
   "metadata": {},
   "outputs": [
    {
     "data": {
      "text/plain": [
       "MannwhitneyuResult(statistic=235.0, pvalue=0.0014033058361468222)"
      ]
     },
     "execution_count": 9,
     "metadata": {},
     "output_type": "execute_result"
    }
   ],
   "source": [
    "# Use the Mann-Whitney test\n",
    "\n",
    "stats.mannwhitneyu(df_ab.Conversion_A, df_ab.Conversion_B)"
   ]
  },
  {
   "cell_type": "markdown",
   "metadata": {},
   "source": [
    "__Q8:__ Use the `read_csv()` method to import the CSV file 'expenditures_adj.csv' as a pandas DataFrame ('df_exp'). Next, explore this dataset using (at least) the `head()`, `info()` and `describe()` methods."
   ]
  },
  {
   "cell_type": "code",
   "execution_count": 10,
   "metadata": {},
   "outputs": [
    {
     "data": {
      "text/html": [
       "<div>\n",
       "<style scoped>\n",
       "    .dataframe tbody tr th:only-of-type {\n",
       "        vertical-align: middle;\n",
       "    }\n",
       "\n",
       "    .dataframe tbody tr th {\n",
       "        vertical-align: top;\n",
       "    }\n",
       "\n",
       "    .dataframe thead th {\n",
       "        text-align: right;\n",
       "    }\n",
       "</style>\n",
       "<table border=\"1\" class=\"dataframe\">\n",
       "  <thead>\n",
       "    <tr style=\"text-align: right;\">\n",
       "      <th></th>\n",
       "      <th>exp_no</th>\n",
       "      <th>employee_no</th>\n",
       "      <th>date</th>\n",
       "      <th>amount</th>\n",
       "    </tr>\n",
       "  </thead>\n",
       "  <tbody>\n",
       "    <tr>\n",
       "      <th>0</th>\n",
       "      <td>E00001</td>\n",
       "      <td>Emp0013</td>\n",
       "      <td>2020-01-03</td>\n",
       "      <td>586</td>\n",
       "    </tr>\n",
       "    <tr>\n",
       "      <th>1</th>\n",
       "      <td>E00002</td>\n",
       "      <td>Emp0016</td>\n",
       "      <td>2020-01-04</td>\n",
       "      <td>289</td>\n",
       "    </tr>\n",
       "    <tr>\n",
       "      <th>2</th>\n",
       "      <td>E00003</td>\n",
       "      <td>Emp0005</td>\n",
       "      <td>2020-01-05</td>\n",
       "      <td>73</td>\n",
       "    </tr>\n",
       "    <tr>\n",
       "      <th>3</th>\n",
       "      <td>E00004</td>\n",
       "      <td>Emp0004</td>\n",
       "      <td>2020-01-07</td>\n",
       "      <td>118</td>\n",
       "    </tr>\n",
       "    <tr>\n",
       "      <th>4</th>\n",
       "      <td>E00005</td>\n",
       "      <td>Emp0008</td>\n",
       "      <td>2020-01-07</td>\n",
       "      <td>97</td>\n",
       "    </tr>\n",
       "  </tbody>\n",
       "</table>\n",
       "</div>"
      ],
      "text/plain": [
       "   exp_no employee_no        date  amount\n",
       "0  E00001     Emp0013  2020-01-03     586\n",
       "1  E00002     Emp0016  2020-01-04     289\n",
       "2  E00003     Emp0005  2020-01-05      73\n",
       "3  E00004     Emp0004  2020-01-07     118\n",
       "4  E00005     Emp0008  2020-01-07      97"
      ]
     },
     "execution_count": 10,
     "metadata": {},
     "output_type": "execute_result"
    }
   ],
   "source": [
    "# Import the data\n",
    "\n",
    "df_exp = pd.read_csv('data/expenditures_adj.csv')\n",
    "df_exp.head()"
   ]
  },
  {
   "cell_type": "code",
   "execution_count": 11,
   "metadata": {},
   "outputs": [
    {
     "name": "stdout",
     "output_type": "stream",
     "text": [
      "<class 'pandas.core.frame.DataFrame'>\n",
      "RangeIndex: 331 entries, 0 to 330\n",
      "Data columns (total 4 columns):\n",
      " #   Column       Non-Null Count  Dtype \n",
      "---  ------       --------------  ----- \n",
      " 0   exp_no       331 non-null    object\n",
      " 1   employee_no  331 non-null    object\n",
      " 2   date         331 non-null    object\n",
      " 3   amount       331 non-null    int64 \n",
      "dtypes: int64(1), object(3)\n",
      "memory usage: 10.5+ KB\n"
     ]
    }
   ],
   "source": [
    "# Display general information\n",
    "\n",
    "df_exp.info()"
   ]
  },
  {
   "cell_type": "code",
   "execution_count": 12,
   "metadata": {},
   "outputs": [
    {
     "data": {
      "text/html": [
       "<div>\n",
       "<style scoped>\n",
       "    .dataframe tbody tr th:only-of-type {\n",
       "        vertical-align: middle;\n",
       "    }\n",
       "\n",
       "    .dataframe tbody tr th {\n",
       "        vertical-align: top;\n",
       "    }\n",
       "\n",
       "    .dataframe thead th {\n",
       "        text-align: right;\n",
       "    }\n",
       "</style>\n",
       "<table border=\"1\" class=\"dataframe\">\n",
       "  <thead>\n",
       "    <tr style=\"text-align: right;\">\n",
       "      <th></th>\n",
       "      <th>amount</th>\n",
       "    </tr>\n",
       "  </thead>\n",
       "  <tbody>\n",
       "    <tr>\n",
       "      <th>count</th>\n",
       "      <td>331.000000</td>\n",
       "    </tr>\n",
       "    <tr>\n",
       "      <th>mean</th>\n",
       "      <td>639.767372</td>\n",
       "    </tr>\n",
       "    <tr>\n",
       "      <th>std</th>\n",
       "      <td>296.709352</td>\n",
       "    </tr>\n",
       "    <tr>\n",
       "      <th>min</th>\n",
       "      <td>13.000000</td>\n",
       "    </tr>\n",
       "    <tr>\n",
       "      <th>25%</th>\n",
       "      <td>476.500000</td>\n",
       "    </tr>\n",
       "    <tr>\n",
       "      <th>50%</th>\n",
       "      <td>523.000000</td>\n",
       "    </tr>\n",
       "    <tr>\n",
       "      <th>75%</th>\n",
       "      <td>875.500000</td>\n",
       "    </tr>\n",
       "    <tr>\n",
       "      <th>max</th>\n",
       "      <td>1602.000000</td>\n",
       "    </tr>\n",
       "  </tbody>\n",
       "</table>\n",
       "</div>"
      ],
      "text/plain": [
       "            amount\n",
       "count   331.000000\n",
       "mean    639.767372\n",
       "std     296.709352\n",
       "min      13.000000\n",
       "25%     476.500000\n",
       "50%     523.000000\n",
       "75%     875.500000\n",
       "max    1602.000000"
      ]
     },
     "execution_count": 12,
     "metadata": {},
     "output_type": "execute_result"
    }
   ],
   "source": [
    "# Display summary statistics\n",
    "\n",
    "df_exp.describe()"
   ]
  },
  {
   "cell_type": "markdown",
   "metadata": {},
   "source": [
    "__Q9:__ Create a histogram of the 'amount' variable using 10 bins. Label the x-axis ('Amounts'), label the y-axis ('Frequency') and give the plot a title ('Frequency distribution of the expenditure amounts'). Next, also create this histogram using respectively 5 bins and 20 bins, and compare the three histograms. Which one do you think is the best representation of the data?"
   ]
  },
  {
   "cell_type": "code",
   "execution_count": 13,
   "metadata": {},
   "outputs": [
    {
     "data": {
      "image/png": "[encoded data removed]",
      "text/plain": [
       "<Figure size 640x480 with 1 Axes>"
      ]
     },
     "metadata": {},
     "output_type": "display_data"
    }
   ],
   "source": [
    "# Display the histograms of the 'amount' variable\n",
    "\n",
    "plt.hist(df_exp['amount'], bins=10)\n",
    "plt.xlabel('Amounts')\n",
    "plt.ylabel('Frequency')\n",
    "plt.title(\"Frequency distribution of the expenditure amounts\", fontsize=15);\n",
    "\n",
    "#plt.hist(df_exp['amount'], bins=5);\n",
    "#plt.hist(df_exp['amount'], bins=20);"
   ]
  },
  {
   "cell_type": "markdown",
   "metadata": {},
   "source": [
    "__Q10:__ Use the following Python code to analyze whether the frequency distribution of the 'amount' variable is consistent with a uniform distribution or not, when focussing on the last digit of the values of this variable:\n",
    "```python\n",
    "obs = df_exp['amount']\n",
    "\n",
    "#Create a list of the last digit of the amounts\n",
    "obs = [num % 10 for num in obs]\n",
    "\n",
    "#Create a dictionary with the observed frequencies (counts)\n",
    "dict1 = {x: 0 for x in range(0, 10)}\n",
    "for num in obs:\n",
    "    dict1[num] += 1\n",
    "\n",
    "#Convert the dictionary to a list\n",
    "obs = list(dict1.values())\n",
    "\n",
    "#Print the observed frequencies\n",
    "print(obs)\n",
    "\n",
    "#Test for differences using the one-sample Chi-Square test\n",
    "stats.chisquare(obs)\n",
    "```\n",
    "\n",
    "Next, adapt this Python code such that it does not only perform the calculations and provides the data that are necessary for the one-sample Chi-Square test, but also those that are necessary for the graphical analysis (see the next question).\n",
    "\n",
    "__NOTE:__ Consult the Wk3_Notebook when doing this exercise!"
   ]
  },
  {
   "cell_type": "code",
   "execution_count": 14,
   "metadata": {},
   "outputs": [
    {
     "name": "stdout",
     "output_type": "stream",
     "text": [
      "[37, 35, 35, 38, 29, 30, 27, 34, 36, 30]\n"
     ]
    },
    {
     "data": {
      "text/plain": [
       "Power_divergenceResult(statistic=3.894259818731117, pvalue=0.9182331212646249)"
      ]
     },
     "execution_count": 14,
     "metadata": {},
     "output_type": "execute_result"
    }
   ],
   "source": [
    "# Provided Python code to statistically analyze consistency with uniform distribution (last digit)\n",
    "obs = df_exp['amount']\n",
    "\n",
    "#Create a list of the last digit of the amounts\n",
    "obs = [num % 10 for num in obs]\n",
    "\n",
    "#Create a dictionary with the observed frequencies (counts)\n",
    "dict1 = {x: 0 for x in range(0, 10)}\n",
    "for num in obs:\n",
    "    dict1[num] += 1\n",
    "\n",
    "#Convert the dictionary to a list\n",
    "obs = list(dict1.values())\n",
    "\n",
    "#Print the observed frequencies\n",
    "print(obs)\n",
    "\n",
    "#Test for differences using the one-sample Chi-Square test\n",
    "stats.chisquare(obs)"
   ]
  },
  {
   "cell_type": "code",
   "execution_count": 15,
   "metadata": {},
   "outputs": [
    {
     "name": "stdout",
     "output_type": "stream",
     "text": [
      "[37, 35, 35, 38, 29, 30, 27, 34, 36, 30]\n",
      "[33.1, 33.1, 33.1, 33.1, 33.1, 33.1, 33.1, 33.1, 33.1, 33.1]\n"
     ]
    },
    {
     "data": {
      "text/plain": [
       "Power_divergenceResult(statistic=3.894259818731117, pvalue=0.9182331212646249)"
      ]
     },
     "execution_count": 15,
     "metadata": {},
     "output_type": "execute_result"
    }
   ],
   "source": [
    "# Adapted Python code to statistically analyze consistency with uniform distribution (last digit)\n",
    "obs = df_exp['amount']\n",
    "\n",
    "#Create a list of the last digit of the amounts\n",
    "obs = [num % 10 for num in obs]\n",
    "\n",
    "#Create a dictionary with the observed frequencies (counts)\n",
    "dict1 = {x: 0 for x in range(0, 10)}\n",
    "for num in obs:\n",
    "    dict1[num] += 1\n",
    "\n",
    "#Calculate the number of observations and assign it to a variable\n",
    "n = len(obs)\n",
    "\n",
    "#Create a dictionary with the expected frequencies\n",
    "dict2 = {x: round(n * 0.1, 1) for x in range(0, 10)}\n",
    "\n",
    "#Convert the dictionaries to lists\n",
    "obs = list(dict1.values())\n",
    "exp = list(dict2.values())\n",
    "x = list(dict1.keys())\n",
    "\n",
    "#Print the observed and expected frequencies\n",
    "print(obs)\n",
    "print(exp)\n",
    "\n",
    "#Test for differences using the one-sample Chi-Square test\n",
    "stats.chisquare(obs, f_exp=exp)"
   ]
  },
  {
   "cell_type": "markdown",
   "metadata": {},
   "source": [
    "__Q11:__ Create a figure that shows both the observed and expected frequencies as lines in one plot. Label the x-axis ('Last digit'), label the y-axis ('Frequency') and give the plot a title ('Observed vs. expected frequencies (uniform distribution)'). Interpret the graph!"
   ]
  },
  {
   "cell_type": "code",
   "execution_count": 16,
   "metadata": {},
   "outputs": [
    {
     "data": {
      "image/png": "[encoded data removed]",
      "text/plain": [
       "<Figure size 640x480 with 1 Axes>"
      ]
     },
     "metadata": {},
     "output_type": "display_data"
    }
   ],
   "source": [
    "# Graphically analyze consistency with uniform distribution (last digit)\n",
    "\n",
    "plt.plot(x, obs, c='r', marker= '.')\n",
    "plt.plot(x, exp, c='b', marker= '.')\n",
    "plt.ylim(0, 40)\n",
    "plt.xlabel('Last digit')\n",
    "plt.ylabel('Frequency')\n",
    "plt.title(\"Observed vs. expected frequencies (uniform distribution)\");"
   ]
  },
  {
   "cell_type": "markdown",
   "metadata": {},
   "source": [
    "__Q12:__ Analyze whether the frequency distribution of the 'amount' variable is consistent with Benford's law or not, when focussing on the first digit of the values of this variable.\n",
    "\n",
    "__NOTE:__ Consult the Wk3_Notebook when doing this exercise!"
   ]
  },
  {
   "cell_type": "code",
   "execution_count": 17,
   "metadata": {},
   "outputs": [
    {
     "name": "stdout",
     "output_type": "stream",
     "text": [
      "[49, 13, 8, 95, 41, 20, 28, 32, 45]\n",
      "[100.0, 58.0, 41.0, 32.0, 26.0, 22.0, 19.0, 17.0, 15.0]\n"
     ]
    },
    {
     "data": {
      "text/plain": [
       "Power_divergenceResult(statistic=296.9472645625782, pvalue=1.8378999966810903e-59)"
      ]
     },
     "execution_count": 17,
     "metadata": {},
     "output_type": "execute_result"
    }
   ],
   "source": [
    "# Statistically analyze consistency with Benford's law (first digit)\n",
    "import math\n",
    "\n",
    "obs = df_exp['amount']\n",
    "\n",
    "#Create a list of the first two digits of the amounts\n",
    "def first_digit(num):\n",
    "    return int(str(num)[0])\n",
    "obs = [first_digit(n) for n in obs]\n",
    "\n",
    "#Create a dictionary with the observed frequencies (counts)\n",
    "dict1 = {x: 0 for x in range(1, 10)}\n",
    "for num in obs:\n",
    "    dict1[num] += 1\n",
    "\n",
    "#Calculate the number of observations and assign it to a variable\n",
    "n = len(obs)\n",
    "\n",
    "#Create a dictionary with the expected frequencies    \n",
    "dict2 = {x: round(n * math.log10(1+(1/x)), 0) for x in range(1, 10)}\n",
    "\n",
    "#Convert the dictionaries to lists\n",
    "obs = list(dict1.values())\n",
    "exp = list(dict2.values())\n",
    "x = list(dict2.keys())\n",
    "\n",
    "#Print the observed and expected frequencies\n",
    "print(obs)\n",
    "print(exp)\n",
    "\n",
    "#Normalize the data such that the observed and expected frequencies have the same sum\n",
    "if sum(obs) != sum(exp):\n",
    "    exp = [i * (sum(obs)/sum(exp)) for i in exp]\n",
    "\n",
    "#Test for differences using the one-sample Chi-Square test\n",
    "stats.chisquare(obs, f_exp=exp)"
   ]
  },
  {
   "cell_type": "markdown",
   "metadata": {},
   "source": [
    "__Q13:__ Create a figure that shows both the observed and expected frequencies as lines in one plot. Label the x-axis ('First digit'), label the y-axis ('Frequency') and give the plot a title ('Observed vs. expected frequencies (Benford's law)'). Interpret the graph, also by comparing it with the graph that was created during one of the lectures based on the first two digits! (The correct answers for Q2 are: (a) chi-square test of independence; (b) t-test for two independent samples; (c) one-way ANOVA test; and (d) chi-square test of independence.)"
   ]
  },
  {
   "cell_type": "code",
   "execution_count": 18,
   "metadata": {},
   "outputs": [
    {
     "data": {
      "image/png": "[encoded data removed]",
      "text/plain": [
       "<Figure size 640x480 with 1 Axes>"
      ]
     },
     "metadata": {},
     "output_type": "display_data"
    }
   ],
   "source": [
    "# Graphically analyze consistency with Benford's law (first digit)\n",
    "\n",
    "plt.plot(x, obs, c='r', marker= '.')\n",
    "plt.plot(x, exp, c='b', marker= '.')\n",
    "plt.ylim(0, 120)\n",
    "\n",
    "plt.xlabel('First digit')\n",
    "plt.ylabel('Frequency')\n",
    "plt.title(\"Observed vs. expected frequencies (Benford's law)\");"
   ]
  },
  {
   "cell_type": "code",
   "execution_count": null,
   "metadata": {},
   "outputs": [],
   "source": []
  }
 ],
 "metadata": {
  "kernelspec": {
   "display_name": "Python 3 (ipykernel)",
   "language": "python",
   "name": "python3"
  },
  "language_info": {
   "codemirror_mode": {
    "name": "ipython",
    "version": 3
   },
   "file_extension": ".py",
   "mimetype": "text/x-python",
   "name": "python",
   "nbconvert_exporter": "python",
   "pygments_lexer": "ipython3",
   "version": "3.10.9"
  }
 },
 "nbformat": 4,
 "nbformat_minor": 4
}
