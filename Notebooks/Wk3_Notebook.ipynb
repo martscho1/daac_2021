{
 "cells": [
  {
   "cell_type": "markdown",
   "metadata": {},
   "source": [
    "# Wk3_Notebook (Basic statistical analysis using Python)"
   ]
  },
  {
   "cell_type": "markdown",
   "metadata": {},
   "source": [
    "In this Notebook, I will show you how you can use several libraries from the Python ecosystem to perform some widely used statistical tests. More specifically, the following topics will be discussed:\n",
    "- [Developing a routine for exploring a new dataset](#Wk3_a)\n",
    "- [Univariate statistics](#Wk3_b)\n",
    "- [Bivariate statistics](#Wk3_c)\n",
    "- [Potential remedies for violation of the normality assumption](#Wk3_d)\n",
    "- [Application of basic statistical analysis - Anomaly detection](#Wk3_e)\n",
    "\n",
    "The tests will mostly be illustrated using the 'tips' dataset that is included in the seaborn library."
   ]
  },
  {
   "cell_type": "code",
   "execution_count": 1,
   "metadata": {},
   "outputs": [],
   "source": [
    "# Import the libraries\n",
    "\n",
    "import pandas as pd\n",
    "import numpy as np\n",
    "import matplotlib.pyplot as plt\n",
    "import seaborn as sns\n",
    "import scipy.stats as stats\n",
    "\n",
    "import statsmodels\n",
    "import statsmodels.api as sm\n",
    "import statsmodels.formula.api as smf\n",
    "\n",
    "%matplotlib inline\n",
    "\n",
    "import warnings\n",
    "warnings.filterwarnings('ignore')"
   ]
  },
  {
   "cell_type": "code",
   "execution_count": 2,
   "metadata": {},
   "outputs": [],
   "source": [
    "# Import the data\n",
    "\n",
    "df_tips = sns.load_dataset('tips')"
   ]
  },
  {
   "cell_type": "markdown",
   "metadata": {},
   "source": [
    "## Developing a routine for exploring a new dataset <a name=\"Wk3_a\"></a>"
   ]
  },
  {
   "cell_type": "markdown",
   "metadata": {},
   "source": [
    "Although there is no standard approach when beginning a data analysis, it is typically a good idea to develop a routine for yourself when first examining a dataset. This routine can manifest itself as a dynamic checklist of tasks that evolves as your familiarity with pandas and data analysis expands. This checklist of tasks will typically entail examining both metadata and descriptive statistics in a routine and systematic way, where metadata describes the dataset (or, more aptly, data about the data) and (univariate) descriptive statistics are summary statistics about variables (columns) of the dataset. Experienced data analysts generally recommend to at least examine the following aspects of a new dataset:\n",
    "- a sample of rows with the `head()`, `tail()` and `sample()` methods.\n",
    "- the dimensionality with the `shape` attribute.\n",
    "- general information including the index dtype and columns, non-null values and memory usage with the `info()` method.\n",
    "- summary statistics for the numerical, object (string) and/or categorical columns with the `describe()` method.  \n",
    "\n",
    "But examining additional aspects may also be helpful, including:\n",
    "- the column names with the `columns` attribute.\n",
    "- the unique values for the categorical variables with the `select_dtypes()` method."
   ]
  },
  {
   "cell_type": "code",
   "execution_count": 3,
   "metadata": {},
   "outputs": [
    {
     "data": {
      "text/html": [
       "<div>\n",
       "<style scoped>\n",
       "    .dataframe tbody tr th:only-of-type {\n",
       "        vertical-align: middle;\n",
       "    }\n",
       "\n",
       "    .dataframe tbody tr th {\n",
       "        vertical-align: top;\n",
       "    }\n",
       "\n",
       "    .dataframe thead th {\n",
       "        text-align: right;\n",
       "    }\n",
       "</style>\n",
       "<table border=\"1\" class=\"dataframe\">\n",
       "  <thead>\n",
       "    <tr style=\"text-align: right;\">\n",
       "      <th></th>\n",
       "      <th>total_bill</th>\n",
       "      <th>tip</th>\n",
       "      <th>sex</th>\n",
       "      <th>smoker</th>\n",
       "      <th>day</th>\n",
       "      <th>time</th>\n",
       "      <th>size</th>\n",
       "    </tr>\n",
       "  </thead>\n",
       "  <tbody>\n",
       "    <tr>\n",
       "      <th>112</th>\n",
       "      <td>38.07</td>\n",
       "      <td>4.00</td>\n",
       "      <td>Male</td>\n",
       "      <td>No</td>\n",
       "      <td>Sun</td>\n",
       "      <td>Dinner</td>\n",
       "      <td>3</td>\n",
       "    </tr>\n",
       "    <tr>\n",
       "      <th>19</th>\n",
       "      <td>20.65</td>\n",
       "      <td>3.35</td>\n",
       "      <td>Male</td>\n",
       "      <td>No</td>\n",
       "      <td>Sat</td>\n",
       "      <td>Dinner</td>\n",
       "      <td>3</td>\n",
       "    </tr>\n",
       "    <tr>\n",
       "      <th>187</th>\n",
       "      <td>30.46</td>\n",
       "      <td>2.00</td>\n",
       "      <td>Male</td>\n",
       "      <td>Yes</td>\n",
       "      <td>Sun</td>\n",
       "      <td>Dinner</td>\n",
       "      <td>5</td>\n",
       "    </tr>\n",
       "    <tr>\n",
       "      <th>169</th>\n",
       "      <td>10.63</td>\n",
       "      <td>2.00</td>\n",
       "      <td>Female</td>\n",
       "      <td>Yes</td>\n",
       "      <td>Sat</td>\n",
       "      <td>Dinner</td>\n",
       "      <td>2</td>\n",
       "    </tr>\n",
       "    <tr>\n",
       "      <th>31</th>\n",
       "      <td>18.35</td>\n",
       "      <td>2.50</td>\n",
       "      <td>Male</td>\n",
       "      <td>No</td>\n",
       "      <td>Sat</td>\n",
       "      <td>Dinner</td>\n",
       "      <td>4</td>\n",
       "    </tr>\n",
       "  </tbody>\n",
       "</table>\n",
       "</div>"
      ],
      "text/plain": [
       "     total_bill   tip     sex smoker  day    time  size\n",
       "112       38.07  4.00    Male     No  Sun  Dinner     3\n",
       "19        20.65  3.35    Male     No  Sat  Dinner     3\n",
       "187       30.46  2.00    Male    Yes  Sun  Dinner     5\n",
       "169       10.63  2.00  Female    Yes  Sat  Dinner     2\n",
       "31        18.35  2.50    Male     No  Sat  Dinner     4"
      ]
     },
     "execution_count": 3,
     "metadata": {},
     "output_type": "execute_result"
    }
   ],
   "source": [
    "# Display a sample of rows\n",
    "\n",
    "#df_tips.head()  # for the first five rows\n",
    "#df_tips.tail()  # for the last five rows\n",
    "df_tips.sample(5, random_state=123)  # for five random rows"
   ]
  },
  {
   "cell_type": "code",
   "execution_count": 4,
   "metadata": {},
   "outputs": [
    {
     "data": {
      "text/plain": [
       "(244, 7)"
      ]
     },
     "execution_count": 4,
     "metadata": {},
     "output_type": "execute_result"
    }
   ],
   "source": [
    "# Display the dimensionality\n",
    "\n",
    "df_tips.shape"
   ]
  },
  {
   "cell_type": "code",
   "execution_count": 5,
   "metadata": {},
   "outputs": [
    {
     "name": "stdout",
     "output_type": "stream",
     "text": [
      "<class 'pandas.core.frame.DataFrame'>\n",
      "RangeIndex: 244 entries, 0 to 243\n",
      "Data columns (total 7 columns):\n",
      " #   Column      Non-Null Count  Dtype   \n",
      "---  ------      --------------  -----   \n",
      " 0   total_bill  244 non-null    float64 \n",
      " 1   tip         244 non-null    float64 \n",
      " 2   sex         244 non-null    category\n",
      " 3   smoker      244 non-null    category\n",
      " 4   day         244 non-null    category\n",
      " 5   time        244 non-null    category\n",
      " 6   size        244 non-null    int64   \n",
      "dtypes: category(4), float64(2), int64(1)\n",
      "memory usage: 7.4 KB\n"
     ]
    }
   ],
   "source": [
    "# Display general information\n",
    "\n",
    "df_tips.info()"
   ]
  },
  {
   "cell_type": "code",
   "execution_count": 6,
   "metadata": {},
   "outputs": [
    {
     "data": {
      "text/html": [
       "<div>\n",
       "<style scoped>\n",
       "    .dataframe tbody tr th:only-of-type {\n",
       "        vertical-align: middle;\n",
       "    }\n",
       "\n",
       "    .dataframe tbody tr th {\n",
       "        vertical-align: top;\n",
       "    }\n",
       "\n",
       "    .dataframe thead th {\n",
       "        text-align: right;\n",
       "    }\n",
       "</style>\n",
       "<table border=\"1\" class=\"dataframe\">\n",
       "  <thead>\n",
       "    <tr style=\"text-align: right;\">\n",
       "      <th></th>\n",
       "      <th>count</th>\n",
       "      <th>unique</th>\n",
       "      <th>top</th>\n",
       "      <th>freq</th>\n",
       "      <th>mean</th>\n",
       "      <th>std</th>\n",
       "      <th>min</th>\n",
       "      <th>25%</th>\n",
       "      <th>50%</th>\n",
       "      <th>75%</th>\n",
       "      <th>max</th>\n",
       "    </tr>\n",
       "  </thead>\n",
       "  <tbody>\n",
       "    <tr>\n",
       "      <th>total_bill</th>\n",
       "      <td>244.0</td>\n",
       "      <td>NaN</td>\n",
       "      <td>NaN</td>\n",
       "      <td>NaN</td>\n",
       "      <td>19.786</td>\n",
       "      <td>8.902</td>\n",
       "      <td>3.07</td>\n",
       "      <td>13.348</td>\n",
       "      <td>17.795</td>\n",
       "      <td>24.127</td>\n",
       "      <td>50.81</td>\n",
       "    </tr>\n",
       "    <tr>\n",
       "      <th>tip</th>\n",
       "      <td>244.0</td>\n",
       "      <td>NaN</td>\n",
       "      <td>NaN</td>\n",
       "      <td>NaN</td>\n",
       "      <td>2.998</td>\n",
       "      <td>1.384</td>\n",
       "      <td>1.0</td>\n",
       "      <td>2.0</td>\n",
       "      <td>2.9</td>\n",
       "      <td>3.562</td>\n",
       "      <td>10.0</td>\n",
       "    </tr>\n",
       "    <tr>\n",
       "      <th>sex</th>\n",
       "      <td>244</td>\n",
       "      <td>2</td>\n",
       "      <td>Male</td>\n",
       "      <td>157</td>\n",
       "      <td>NaN</td>\n",
       "      <td>NaN</td>\n",
       "      <td>NaN</td>\n",
       "      <td>NaN</td>\n",
       "      <td>NaN</td>\n",
       "      <td>NaN</td>\n",
       "      <td>NaN</td>\n",
       "    </tr>\n",
       "    <tr>\n",
       "      <th>smoker</th>\n",
       "      <td>244</td>\n",
       "      <td>2</td>\n",
       "      <td>No</td>\n",
       "      <td>151</td>\n",
       "      <td>NaN</td>\n",
       "      <td>NaN</td>\n",
       "      <td>NaN</td>\n",
       "      <td>NaN</td>\n",
       "      <td>NaN</td>\n",
       "      <td>NaN</td>\n",
       "      <td>NaN</td>\n",
       "    </tr>\n",
       "    <tr>\n",
       "      <th>day</th>\n",
       "      <td>244</td>\n",
       "      <td>4</td>\n",
       "      <td>Sat</td>\n",
       "      <td>87</td>\n",
       "      <td>NaN</td>\n",
       "      <td>NaN</td>\n",
       "      <td>NaN</td>\n",
       "      <td>NaN</td>\n",
       "      <td>NaN</td>\n",
       "      <td>NaN</td>\n",
       "      <td>NaN</td>\n",
       "    </tr>\n",
       "    <tr>\n",
       "      <th>time</th>\n",
       "      <td>244</td>\n",
       "      <td>2</td>\n",
       "      <td>Dinner</td>\n",
       "      <td>176</td>\n",
       "      <td>NaN</td>\n",
       "      <td>NaN</td>\n",
       "      <td>NaN</td>\n",
       "      <td>NaN</td>\n",
       "      <td>NaN</td>\n",
       "      <td>NaN</td>\n",
       "      <td>NaN</td>\n",
       "    </tr>\n",
       "    <tr>\n",
       "      <th>size</th>\n",
       "      <td>244.0</td>\n",
       "      <td>NaN</td>\n",
       "      <td>NaN</td>\n",
       "      <td>NaN</td>\n",
       "      <td>2.57</td>\n",
       "      <td>0.951</td>\n",
       "      <td>1.0</td>\n",
       "      <td>2.0</td>\n",
       "      <td>2.0</td>\n",
       "      <td>3.0</td>\n",
       "      <td>6.0</td>\n",
       "    </tr>\n",
       "  </tbody>\n",
       "</table>\n",
       "</div>"
      ],
      "text/plain": [
       "            count unique     top freq    mean    std   min     25%     50%  \\\n",
       "total_bill  244.0    NaN     NaN  NaN  19.786  8.902  3.07  13.348  17.795   \n",
       "tip         244.0    NaN     NaN  NaN   2.998  1.384   1.0     2.0     2.9   \n",
       "sex           244      2    Male  157     NaN    NaN   NaN     NaN     NaN   \n",
       "smoker        244      2      No  151     NaN    NaN   NaN     NaN     NaN   \n",
       "day           244      4     Sat   87     NaN    NaN   NaN     NaN     NaN   \n",
       "time          244      2  Dinner  176     NaN    NaN   NaN     NaN     NaN   \n",
       "size        244.0    NaN     NaN  NaN    2.57  0.951   1.0     2.0     2.0   \n",
       "\n",
       "               75%    max  \n",
       "total_bill  24.127  50.81  \n",
       "tip          3.562   10.0  \n",
       "sex            NaN    NaN  \n",
       "smoker         NaN    NaN  \n",
       "day            NaN    NaN  \n",
       "time           NaN    NaN  \n",
       "size           3.0    6.0  "
      ]
     },
     "execution_count": 6,
     "metadata": {},
     "output_type": "execute_result"
    }
   ],
   "source": [
    "# Display summary statistics\n",
    "\n",
    "#df_tips.describe()\n",
    "#df_tips.describe(include=[np.number]).round(3).T  # for the numerical columns only\n",
    "#df_tips.describe(include=[np.object]).T  # for the object (string) columns only\n",
    "#df_tips.describe(include='category').T  # for the categorical columns only\n",
    "df_tips.describe(include='all').round(3).T  # for all types of columns"
   ]
  },
  {
   "cell_type": "code",
   "execution_count": 7,
   "metadata": {},
   "outputs": [
    {
     "name": "stdout",
     "output_type": "stream",
     "text": [
      "['total_bill', 'tip', 'sex', 'smoker', 'day', 'time', 'size']\n"
     ]
    }
   ],
   "source": [
    "# Display the column names\n",
    "\n",
    "#df_tips.columns\n",
    "#df_tips.columns.tolist()\n",
    "print(df_tips.columns.tolist())"
   ]
  },
  {
   "cell_type": "code",
   "execution_count": 8,
   "metadata": {},
   "outputs": [
    {
     "name": "stdout",
     "output_type": "stream",
     "text": [
      "['Female', 'Male']\n",
      "Categories (2, object): ['Male', 'Female']\n",
      "['No', 'Yes']\n",
      "Categories (2, object): ['Yes', 'No']\n",
      "['Sun', 'Sat', 'Thur', 'Fri']\n",
      "Categories (4, object): ['Thur', 'Fri', 'Sat', 'Sun']\n",
      "['Dinner', 'Lunch']\n",
      "Categories (2, object): ['Lunch', 'Dinner']\n"
     ]
    }
   ],
   "source": [
    "# Display all unique values for the categorical variables\n",
    "\n",
    "for col in df_tips.select_dtypes(include='category'):\n",
    "    print(df_tips[col].unique())"
   ]
  },
  {
   "cell_type": "markdown",
   "metadata": {},
   "source": [
    "## Univariate statistics <a name=\"Wk3_b\"></a>"
   ]
  },
  {
   "cell_type": "markdown",
   "metadata": {},
   "source": [
    "Univariate statistics refers to all statistical analyses in which the frequency distribution of a single variable is described and/or analyzed. In the latter case, univariate statistical tests are used. Such tests either test if:\n",
    "1. some population parameter (usually a mean or median) is equal to some hypothesized value, or\n",
    "2. some population distribution is equal to some function, often the normal distribution.\n",
    "\n",
    "In the application of basic statistical analysis that I will discuss later, I will use univariate statistical tests. In this section, I will discuss the use of univariate statistics to describe the frequency distribution of a variable, where I will make a distinction between generating frequencies for categorical variables and generating summary statistics for continuous variables. In addition, I will also show some possibilities for visualizing the frequency distribution for both categorical and continuous variables."
   ]
  },
  {
   "cell_type": "markdown",
   "metadata": {},
   "source": [
    "### Generating frequencies for categorical variables"
   ]
  },
  {
   "cell_type": "markdown",
   "metadata": {},
   "source": [
    "A basic way to describe the frequency distribution of a categorical variable is with frequency counts. The `value_counts()` method from pandas can be used to count the observed prevalence of each value that occurs in a variable (i.e., a vector or a column in a DataFrame). By default, the `value_counts()` method sorts by the descending count, but if 'sort=False' is passed as an argument, it will not be sorted. Another useful argument is 'normalize=True', which will return proportions rather than counts."
   ]
  },
  {
   "cell_type": "code",
   "execution_count": 9,
   "metadata": {},
   "outputs": [
    {
     "data": {
      "text/plain": [
       "Dinner    176\n",
       "Lunch      68\n",
       "Name: time, dtype: int64"
      ]
     },
     "execution_count": 9,
     "metadata": {},
     "output_type": "execute_result"
    }
   ],
   "source": [
    "# Display observed counts for the 'time' variable\n",
    "\n",
    "df_tips.time.value_counts()\n",
    "\n",
    "# Note: this is the same as:\n",
    "#df_tips['time'].value_counts()"
   ]
  },
  {
   "cell_type": "code",
   "execution_count": 10,
   "metadata": {},
   "outputs": [
    {
     "data": {
      "text/plain": [
       "Lunch      68\n",
       "Dinner    176\n",
       "Name: time, dtype: int64"
      ]
     },
     "execution_count": 10,
     "metadata": {},
     "output_type": "execute_result"
    }
   ],
   "source": [
    "# Display observed counts for the 'time' variable (unsorted)\n",
    "\n",
    "df_tips.time.value_counts(sort=False)"
   ]
  },
  {
   "cell_type": "code",
   "execution_count": 11,
   "metadata": {},
   "outputs": [
    {
     "data": {
      "text/plain": [
       "Dinner    0.72\n",
       "Lunch     0.28\n",
       "Name: time, dtype: float64"
      ]
     },
     "execution_count": 11,
     "metadata": {},
     "output_type": "execute_result"
    }
   ],
   "source": [
    "# Display proportions for the 'time' variable\n",
    "\n",
    "df_tips.time.value_counts(normalize=True).round(2)"
   ]
  },
  {
   "cell_type": "markdown",
   "metadata": {},
   "source": [
    "### Visualizing a categorical variable"
   ]
  },
  {
   "cell_type": "markdown",
   "metadata": {},
   "source": [
    "The Python ecosystem offers many, often disjoint solutions for data visualization (i.e., plotting), and in this course we use plots as appropriate without going deeply into their details. The base plotting system is matplotlib.pyplot, which is leveraged by most other plotting libraries (such as seaborn) and is integrated into pandas. A basic way to plot the frequency distribution of a categorical variable is with a bar chart."
   ]
  },
  {
   "cell_type": "code",
   "execution_count": 12,
   "metadata": {},
   "outputs": [
    {
     "data": {
      "image/png": "[encoded data removed]",
      "text/plain": [
       "<Figure size 640x480 with 1 Axes>"
      ]
     },
     "metadata": {},
     "output_type": "display_data"
    }
   ],
   "source": [
    "# Basic bar chart of the 'sex' variable with pandas\n",
    "\n",
    "df_tips.sex.value_counts().plot.bar();\n",
    "\n",
    "#df_tips.sex.value_counts().plot(kind='bar');"
   ]
  },
  {
   "cell_type": "markdown",
   "metadata": {},
   "source": [
    "### Generating summary statistics for continuous variables"
   ]
  },
  {
   "cell_type": "markdown",
   "metadata": {},
   "source": [
    "Counts are useful when we have a small number of categories, but with continuous data it is more helpful to summarize the\n",
    "data in terms of its distribution. The most common way to do that is with mathematical functions that describe the range of\n",
    "the data, its center, the degree to which it is concentrated or dispersed, and specific points that may be of interest (such as\n",
    "the 90th percentile). Table 1 lists some pandas functions to calculate statistics for continuous variables (i.e., that operate on a numeric vector, such as a column with a numeric data type in a DataFrame)."
   ]
  },
  {
   "cell_type": "markdown",
   "metadata": {},
   "source": [
    "#### Table 1: Distribution functions that operate on a numeric vector\n",
    "\n",
    "| Describe | Function | Value |\n",
    "| --- | --- | --- |\n",
    "| Extremes | min(x) | Minimum value |\n",
    "|  | max(x) | Maximum value |\n",
    "| Central tendency | mean(x) | Arithmetic mean |\n",
    "|  | median(x) | Median |\n",
    "| Dispersion | var(x) | Variance around the mean |\n",
    "|  | std(x) | Standard deviation (sqrt(var(x))) |\n",
    "| Points | x.quantile(q=[...]) | Percentiles |"
   ]
  },
  {
   "cell_type": "code",
   "execution_count": 13,
   "metadata": {},
   "outputs": [
    {
     "data": {
      "text/plain": [
       "0.25    2.0000\n",
       "0.50    2.9000\n",
       "0.75    3.5625\n",
       "Name: tip, dtype: float64"
      ]
     },
     "execution_count": 13,
     "metadata": {},
     "output_type": "execute_result"
    }
   ],
   "source": [
    "# Examples of using the distribution functions\n",
    "\n",
    "df_tips.tip.min()\n",
    "df_tips.tip.max()\n",
    "df_tips.tip.mean()\n",
    "df_tips.tip.median()\n",
    "df_tips.tip.var()\n",
    "df_tips.tip.std()\n",
    "df_tips.tip.quantile(q=[0.25, 0.5, 0.75])"
   ]
  },
  {
   "cell_type": "markdown",
   "metadata": {},
   "source": [
    "For skewed and asymmetric distributions, the arithmetic `mean()` and standard deviation (`std()`) may be misleading; in those cases, the `median()` and interquartile range (IQR, the range of the middle 50% of the data) are often more useful to summarize a distribution. The pandas library does not have a built-in IQR function, but we can define one and apply it to the 'tip' variable."
   ]
  },
  {
   "cell_type": "code",
   "execution_count": 14,
   "metadata": {},
   "outputs": [
    {
     "data": {
      "text/plain": [
       "1.5625"
      ]
     },
     "execution_count": 14,
     "metadata": {},
     "output_type": "execute_result"
    }
   ],
   "source": [
    "# Define the 'calculate_iqr' function\n",
    "\n",
    "def calculate_iqr(x):\n",
    "    return x.quantile(q=0.75) - x.quantile(q=0.25)\n",
    "\n",
    "calculate_iqr(df_tips.tip)"
   ]
  },
  {
   "cell_type": "markdown",
   "metadata": {},
   "source": [
    "### Visualizing a continuous variable"
   ]
  },
  {
   "cell_type": "markdown",
   "metadata": {},
   "source": [
    "__Histograms__  \n",
    "A fundamental plot for a single continuous variable is the histogram. Such a plot can be produced using the `hist()` method\n",
    "on a Series or a column of a DataFrame. A basic histogram is easy to make but the visual elements are less than pleasing, so we will next improve it by changing, among others, the title and axis labels by using several matplotlib.pyplot functions. Some of the most widely used functions are the following:\n",
    "- plt.title('...') : sets the main title.\n",
    "- plt.xlabel('...') : sets the x-axis label.\n",
    "- plt.ylabel('...') : sets the y-axis label.\n",
    "- plt.box(False) : removes the plot background.\n",
    "- plt.grid(False) : removes the grid.\n",
    "- plt.xticks() : sets the x-axis tick marks.\n",
    "- plt.yticks() : sets the y-axis tick marks.\n",
    "- plt.xlim() : specifies the x-axis range.\n",
    "- plt.ylim() : specifies the y-axis range.\n",
    "- density() : adds a smoothed estimation line.\n",
    "\n",
    "And some of the most widely used arguments are:\n",
    "- bins=NUM : call for NUM bars in the result.\n",
    "- facecolor=\"...\" : color the bars.\n",
    "- edgecolor=\"...\" : color the bar borders.\n",
    "- density=True : using relative frequencies (i.e., the density estimate) instead of counts."
   ]
  },
  {
   "cell_type": "code",
   "execution_count": 15,
   "metadata": {},
   "outputs": [
    {
     "data": {
      "image/png": "[encoded data removed]",
      "text/plain": [
       "<Figure size 640x480 with 1 Axes>"
      ]
     },
     "metadata": {},
     "output_type": "display_data"
    }
   ],
   "source": [
    "# Basic histogram of the 'tip' variable with matplotlib\n",
    "\n",
    "plt.hist(df_tips.tip);\n",
    "\n",
    "# Or with pandas: df_tips.tip.plot.hist();"
   ]
  },
  {
   "cell_type": "code",
   "execution_count": 16,
   "metadata": {},
   "outputs": [
    {
     "data": {
      "image/png": "[encoded data removed]",
      "text/plain": [
       "<Figure size 640x480 with 1 Axes>"
      ]
     },
     "metadata": {},
     "output_type": "display_data"
    }
   ],
   "source": [
    "# Adjusted histogram of the 'tip' variable (displaying the counts) with matplotlib\n",
    "\n",
    "plt.hist(df_tips.tip, bins=10,\n",
    "         edgecolor='k',\n",
    "         facecolor='lightblue')\n",
    "plt.title(\"Histogram of tip\")\n",
    "plt.xlabel('Amount')\n",
    "plt.ylabel('Count')\n",
    "plt.box(False);"
   ]
  },
  {
   "cell_type": "code",
   "execution_count": 17,
   "metadata": {},
   "outputs": [
    {
     "data": {
      "image/png": "[encoded data removed]",
      "text/plain": [
       "<Figure size 640x480 with 1 Axes>"
      ]
     },
     "metadata": {},
     "output_type": "display_data"
    }
   ],
   "source": [
    "# Adjusted histogram of the 'tip' variable (displaying the relative frequencies) with matplotlib\n",
    "\n",
    "plt.hist(df_tips.tip, bins=10,\n",
    "         edgecolor='k',\n",
    "         facecolor='lightblue',\n",
    "         density=True)\n",
    "plt.title(\"Histogram of tip\")\n",
    "plt.xlabel('Amount')\n",
    "plt.ylabel('Density')\n",
    "plt.box(False)\n",
    "plt.xticks(range(int(df_tips['tip'].min()-1), int(df_tips['tip'].max()+1), 1))\n",
    "plt.xlim((df_tips['tip'].min()-1, df_tips['tip'].max()+1))\n",
    "df_tips.tip.plot.density(color='red');"
   ]
  },
  {
   "cell_type": "markdown",
   "metadata": {},
   "source": [
    "__Boxplots__  \n",
    "Boxplots are a compact way to represent a distribution. The `plot.box()` method from pandas is straightforward, and we can (for example) add labels, use the argument 'vert=False' to rotate the plot 90◦ to look better, and use sym=’k.’ to specify the outlier marker."
   ]
  },
  {
   "cell_type": "code",
   "execution_count": 18,
   "metadata": {},
   "outputs": [
    {
     "data": {
      "image/png": "[encoded data removed]",
      "text/plain": [
       "<Figure size 640x480 with 1 Axes>"
      ]
     },
     "metadata": {},
     "output_type": "display_data"
    }
   ],
   "source": [
    "# Basic boxplot of the 'tip' variable with pandas\n",
    "\n",
    "df_tips.tip.plot.box();\n",
    "\n",
    "# Or with matplotlib: plt.boxplot(df_tips.tip);"
   ]
  },
  {
   "cell_type": "code",
   "execution_count": 19,
   "metadata": {},
   "outputs": [
    {
     "data": {
      "image/png": "[encoded data removed]",
      "text/plain": [
       "<Figure size 640x480 with 1 Axes>"
      ]
     },
     "metadata": {},
     "output_type": "display_data"
    }
   ],
   "source": [
    "# Adjusted boxplot of the 'tip' variable with pandas\n",
    "\n",
    "df_tips.tip.plot.box(vert=False, sym='k.')\n",
    "plt.title('Boxplot of tip')\n",
    "plt.xlabel('Amount');"
   ]
  },
  {
   "cell_type": "markdown",
   "metadata": {},
   "source": [
    "Boxplots are even more useful when you use them to compare distributions by some other factor. The `boxplot()` method makes it easy to compare these with the 'by' argument, which specifies the column by which to group. The 'column' argument indicates the column represented by the boxplot distribution."
   ]
  },
  {
   "cell_type": "code",
   "execution_count": 20,
   "metadata": {},
   "outputs": [
    {
     "data": {
      "image/png": "[encoded data removed]",
      "text/plain": [
       "<Figure size 640x480 with 1 Axes>"
      ]
     },
     "metadata": {},
     "output_type": "display_data"
    }
   ],
   "source": [
    "# Adjusted boxplot of the 'tip' variable by time of the day with pandas\n",
    "\n",
    "df_tips.boxplot(column='tip', by='time', vert=False, sym='k.')\n",
    "plt.suptitle('')\n",
    "plt.title('Boxplot of tip')\n",
    "plt.xlabel('Amount')\n",
    "plt.ylabel('Time of the day')\n",
    "plt.box(False);"
   ]
  },
  {
   "cell_type": "code",
   "execution_count": 21,
   "metadata": {},
   "outputs": [
    {
     "data": {
      "image/png": "[encoded data removed]",
      "text/plain": [
       "<Figure size 640x480 with 1 Axes>"
      ]
     },
     "metadata": {},
     "output_type": "display_data"
    }
   ],
   "source": [
    "# Adjusted boxplot of the 'tip' variable by time of the day with seaborn\n",
    "\n",
    "sns.boxplot(x=df_tips.tip, y=df_tips.time)\n",
    "plt.show()"
   ]
  },
  {
   "cell_type": "markdown",
   "metadata": {},
   "source": [
    "__QQ plot to check normality__  \n",
    "Quantile-quantile (QQ) plots are a good way to check one’s data against a distribution that you think it should come from. Some common statistics such as correlation coefficients are interpreted under an assumption that data are normally distributed. A QQ plot can confirm that the distribution is, in fact, normal by plotting the observed quantiles of your data against the quantiles that would be expected for a normal distribution. To do this, you can use the `probplot()` function from the SciPy library, which compares data versus a specified distribution, for example the normal distribution."
   ]
  },
  {
   "cell_type": "code",
   "execution_count": 22,
   "metadata": {},
   "outputs": [
    {
     "data": {
      "image/png": "[encoded data removed]",
      "text/plain": [
       "<Figure size 640x480 with 1 Axes>"
      ]
     },
     "metadata": {},
     "output_type": "display_data"
    }
   ],
   "source": [
    "# QQ plot of the 'tip' variable with SciPy\n",
    "\n",
    "stats.probplot(df_tips.tip, dist='norm', plot=plt);"
   ]
  },
  {
   "cell_type": "code",
   "execution_count": 23,
   "metadata": {},
   "outputs": [
    {
     "data": {
      "image/png": "[encoded data removed]",
      "text/plain": [
       "<Figure size 640x480 with 1 Axes>"
      ]
     },
     "metadata": {},
     "output_type": "display_data"
    }
   ],
   "source": [
    "# QQ plot of the natural logarithm of the 'tips' variable with SciPy\n",
    "\n",
    "stats.probplot(np.log(df_tips.tip), dist='norm', plot=plt);"
   ]
  },
  {
   "cell_type": "markdown",
   "metadata": {},
   "source": [
    "## Bivariate statistics <a name=\"Wk3_c\"></a>"
   ]
  },
  {
   "cell_type": "markdown",
   "metadata": {},
   "source": [
    "Bivariate statistics refers to all statistical analyses in which the relationship between two variables is described and/or analyzed. In the latter case, bivariate statistical tests are used. Basically, three categories of such tests can be distinguished:\n",
    "- Within-subjects tests : to compare two or more variables measured on related subjects.\n",
    "- Between-subjects tests : to examine whether two or more subpopulations are identical with regard to:\n",
    "  - a parameter (population mean, standard deviation or proportion), or\n",
    "  - a distribution.\n",
    "- Association measures : statistics that indicate to what extent two variables are associated.\n",
    "\n",
    "The essential difference between the first two categories is that within-subjects tests are used when the units of analysis are related (i.e., not independent), whereas the between-subjects tests are used when the units of analysis are not related (i.e., independent). In this section, I will discuss some important and widely used statistical tests from each of the three categories."
   ]
  },
  {
   "cell_type": "markdown",
   "metadata": {},
   "source": [
    "### Within-subjects tests"
   ]
  },
  {
   "cell_type": "markdown",
   "metadata": {},
   "source": [
    "Within-subjects tests are used to compare two or more variables measured on related subjects. That is, these tests are used when the units of analysis are related (i.e., not independent)."
   ]
  },
  {
   "cell_type": "markdown",
   "metadata": {},
   "source": [
    "### Relationships between a categorical variable with two categories and a continuous variable"
   ]
  },
  {
   "cell_type": "markdown",
   "metadata": {},
   "source": [
    "A t-test compares the mean of one sample against the mean of another sample (or against a specific value such as 0). The\n",
    "important point is that it compares the mean for exactly two sets of data. The __dependent t-test for paired samples__ can be used to test whether two related or repeated samples have identical average (expected) values. So, for example, to test the following research question: Is there a difference in return on sales among S&P 500 firms between the years 2019 and 2020? In Python, we can use the `ttest_rel()` function from SciPy to conduct this test. The dependent t-test for paired samples has two underlying assumptions:\n",
    "- The observations should be drawn from normally distributed populations.\n",
    "- The measurement level of the dependent variable should be at least interval.\n",
    "\n",
    "If these assumptions are not met, it may be possible to use the non-parametric alternative for this test, which is the __Wilcoxon signed-rank test__.\n",
    "\n",
    "For more information about the `ttest_rel()` function, see: https://docs.scipy.org/doc/scipy/reference/generated/scipy.stats.ttest_rel.html  \n",
    "For more information about the `wilcoxon()` function, see: https://docs.scipy.org/doc/scipy/reference/generated/scipy.stats.wilcoxon.html"
   ]
  },
  {
   "cell_type": "code",
   "execution_count": 24,
   "metadata": {},
   "outputs": [
    {
     "data": {
      "text/html": [
       "<div>\n",
       "<style scoped>\n",
       "    .dataframe tbody tr th:only-of-type {\n",
       "        vertical-align: middle;\n",
       "    }\n",
       "\n",
       "    .dataframe tbody tr th {\n",
       "        vertical-align: top;\n",
       "    }\n",
       "\n",
       "    .dataframe thead th {\n",
       "        text-align: right;\n",
       "    }\n",
       "</style>\n",
       "<table border=\"1\" class=\"dataframe\">\n",
       "  <thead>\n",
       "    <tr style=\"text-align: right;\">\n",
       "      <th></th>\n",
       "      <th>Data Year - Fiscal_19</th>\n",
       "      <th>Ticker Symbol</th>\n",
       "      <th>Company Name</th>\n",
       "      <th>Return on Sales_19</th>\n",
       "      <th>Data Year - Fiscal_20</th>\n",
       "      <th>Return on Sales_20</th>\n",
       "    </tr>\n",
       "  </thead>\n",
       "  <tbody>\n",
       "    <tr>\n",
       "      <th>0</th>\n",
       "      <td>2019</td>\n",
       "      <td>AAL</td>\n",
       "      <td>AMERICAN AIRLINES GROUP INC</td>\n",
       "      <td>0.036838</td>\n",
       "      <td>2020</td>\n",
       "      <td>-0.512488</td>\n",
       "    </tr>\n",
       "    <tr>\n",
       "      <th>1</th>\n",
       "      <td>2019</td>\n",
       "      <td>PNW</td>\n",
       "      <td>PINNACLE WEST CAPITAL CORP</td>\n",
       "      <td>0.155081</td>\n",
       "      <td>2020</td>\n",
       "      <td>0.153488</td>\n",
       "    </tr>\n",
       "    <tr>\n",
       "      <th>2</th>\n",
       "      <td>2019</td>\n",
       "      <td>ABT</td>\n",
       "      <td>ABBOTT LABORATORIES</td>\n",
       "      <td>0.115565</td>\n",
       "      <td>2020</td>\n",
       "      <td>0.129883</td>\n",
       "    </tr>\n",
       "    <tr>\n",
       "      <th>3</th>\n",
       "      <td>2019</td>\n",
       "      <td>AMD</td>\n",
       "      <td>ADVANCED MICRO DEVICES</td>\n",
       "      <td>0.050661</td>\n",
       "      <td>2020</td>\n",
       "      <td>0.255045</td>\n",
       "    </tr>\n",
       "    <tr>\n",
       "      <th>4</th>\n",
       "      <td>2019</td>\n",
       "      <td>ALK</td>\n",
       "      <td>ALASKA AIR GROUP INC</td>\n",
       "      <td>0.087575</td>\n",
       "      <td>2020</td>\n",
       "      <td>-0.371284</td>\n",
       "    </tr>\n",
       "    <tr>\n",
       "      <th>...</th>\n",
       "      <td>...</td>\n",
       "      <td>...</td>\n",
       "      <td>...</td>\n",
       "      <td>...</td>\n",
       "      <td>...</td>\n",
       "      <td>...</td>\n",
       "    </tr>\n",
       "    <tr>\n",
       "      <th>435</th>\n",
       "      <td>2019</td>\n",
       "      <td>FBHS</td>\n",
       "      <td>FORTUNE BRANDS HOME &amp; SECUR</td>\n",
       "      <td>0.074923</td>\n",
       "      <td>2020</td>\n",
       "      <td>0.090817</td>\n",
       "    </tr>\n",
       "    <tr>\n",
       "      <th>436</th>\n",
       "      <td>2019</td>\n",
       "      <td>XYL</td>\n",
       "      <td>XYLEM INC</td>\n",
       "      <td>0.076396</td>\n",
       "      <td>2020</td>\n",
       "      <td>0.052092</td>\n",
       "    </tr>\n",
       "    <tr>\n",
       "      <th>437</th>\n",
       "      <td>2019</td>\n",
       "      <td>CBRE</td>\n",
       "      <td>CBRE GROUP INC</td>\n",
       "      <td>0.053668</td>\n",
       "      <td>2020</td>\n",
       "      <td>0.031561</td>\n",
       "    </tr>\n",
       "    <tr>\n",
       "      <th>438</th>\n",
       "      <td>2019</td>\n",
       "      <td>LYB</td>\n",
       "      <td>LYONDELLBASELL INDUSTRIES NV</td>\n",
       "      <td>0.097619</td>\n",
       "      <td>2020</td>\n",
       "      <td>0.051166</td>\n",
       "    </tr>\n",
       "    <tr>\n",
       "      <th>439</th>\n",
       "      <td>2019</td>\n",
       "      <td>ALLE</td>\n",
       "      <td>ALLEGION PLC</td>\n",
       "      <td>0.140785</td>\n",
       "      <td>2020</td>\n",
       "      <td>0.115556</td>\n",
       "    </tr>\n",
       "  </tbody>\n",
       "</table>\n",
       "<p>440 rows × 6 columns</p>\n",
       "</div>"
      ],
      "text/plain": [
       "     Data Year - Fiscal_19 Ticker Symbol                  Company Name  \\\n",
       "0                     2019           AAL   AMERICAN AIRLINES GROUP INC   \n",
       "1                     2019           PNW    PINNACLE WEST CAPITAL CORP   \n",
       "2                     2019           ABT           ABBOTT LABORATORIES   \n",
       "3                     2019           AMD        ADVANCED MICRO DEVICES   \n",
       "4                     2019           ALK          ALASKA AIR GROUP INC   \n",
       "..                     ...           ...                           ...   \n",
       "435                   2019          FBHS   FORTUNE BRANDS HOME & SECUR   \n",
       "436                   2019           XYL                     XYLEM INC   \n",
       "437                   2019          CBRE                CBRE GROUP INC   \n",
       "438                   2019           LYB  LYONDELLBASELL INDUSTRIES NV   \n",
       "439                   2019          ALLE                  ALLEGION PLC   \n",
       "\n",
       "     Return on Sales_19  Data Year - Fiscal_20  Return on Sales_20  \n",
       "0              0.036838                   2020           -0.512488  \n",
       "1              0.155081                   2020            0.153488  \n",
       "2              0.115565                   2020            0.129883  \n",
       "3              0.050661                   2020            0.255045  \n",
       "4              0.087575                   2020           -0.371284  \n",
       "..                  ...                    ...                 ...  \n",
       "435            0.074923                   2020            0.090817  \n",
       "436            0.076396                   2020            0.052092  \n",
       "437            0.053668                   2020            0.031561  \n",
       "438            0.097619                   2020            0.051166  \n",
       "439            0.140785                   2020            0.115556  \n",
       "\n",
       "[440 rows x 6 columns]"
      ]
     },
     "execution_count": 24,
     "metadata": {},
     "output_type": "execute_result"
    }
   ],
   "source": [
    "# Import the data\n",
    "\n",
    "df = pd.read_csv('data/data_ros_1920.csv')\n",
    "df"
   ]
  },
  {
   "cell_type": "code",
   "execution_count": 25,
   "metadata": {},
   "outputs": [
    {
     "name": "stdout",
     "output_type": "stream",
     "text": [
      "['Data Year - Fiscal_19', 'Ticker Symbol', 'Company Name', 'Return on Sales_19', 'Data Year - Fiscal_20', 'Return on Sales_20']\n"
     ]
    }
   ],
   "source": [
    "# Display the column names\n",
    "\n",
    "print(df.columns.tolist())"
   ]
  },
  {
   "cell_type": "code",
   "execution_count": 26,
   "metadata": {},
   "outputs": [
    {
     "data": {
      "text/html": [
       "<div>\n",
       "<style scoped>\n",
       "    .dataframe tbody tr th:only-of-type {\n",
       "        vertical-align: middle;\n",
       "    }\n",
       "\n",
       "    .dataframe tbody tr th {\n",
       "        vertical-align: top;\n",
       "    }\n",
       "\n",
       "    .dataframe thead th {\n",
       "        text-align: right;\n",
       "    }\n",
       "</style>\n",
       "<table border=\"1\" class=\"dataframe\">\n",
       "  <thead>\n",
       "    <tr style=\"text-align: right;\">\n",
       "      <th></th>\n",
       "      <th>count</th>\n",
       "      <th>mean</th>\n",
       "      <th>std</th>\n",
       "      <th>min</th>\n",
       "      <th>25%</th>\n",
       "      <th>50%</th>\n",
       "      <th>75%</th>\n",
       "      <th>max</th>\n",
       "    </tr>\n",
       "  </thead>\n",
       "  <tbody>\n",
       "    <tr>\n",
       "      <th>Return on Sales_19</th>\n",
       "      <td>440.0</td>\n",
       "      <td>0.142</td>\n",
       "      <td>0.162</td>\n",
       "      <td>-0.719</td>\n",
       "      <td>0.066</td>\n",
       "      <td>0.115</td>\n",
       "      <td>0.203</td>\n",
       "      <td>1.638</td>\n",
       "    </tr>\n",
       "    <tr>\n",
       "      <th>Return on Sales_20</th>\n",
       "      <td>440.0</td>\n",
       "      <td>0.078</td>\n",
       "      <td>0.301</td>\n",
       "      <td>-3.135</td>\n",
       "      <td>0.043</td>\n",
       "      <td>0.104</td>\n",
       "      <td>0.181</td>\n",
       "      <td>1.514</td>\n",
       "    </tr>\n",
       "  </tbody>\n",
       "</table>\n",
       "</div>"
      ],
      "text/plain": [
       "                    count   mean    std    min    25%    50%    75%    max\n",
       "Return on Sales_19  440.0  0.142  0.162 -0.719  0.066  0.115  0.203  1.638\n",
       "Return on Sales_20  440.0  0.078  0.301 -3.135  0.043  0.104  0.181  1.514"
      ]
     },
     "execution_count": 26,
     "metadata": {},
     "output_type": "execute_result"
    }
   ],
   "source": [
    "# Display summary statistics\n",
    "\n",
    "df[['Return on Sales_19', 'Return on Sales_20']].describe().round(3).T"
   ]
  },
  {
   "cell_type": "code",
   "execution_count": 27,
   "metadata": {},
   "outputs": [
    {
     "data": {
      "text/plain": [
       "TtestResult(statistic=4.582062708140576, pvalue=6.008641386650885e-06, df=439)"
      ]
     },
     "execution_count": 27,
     "metadata": {},
     "output_type": "execute_result"
    }
   ],
   "source": [
    "# Use the dependent t-test for paired samples\n",
    "\n",
    "stats.ttest_rel(df['Return on Sales_19'], df['Return on Sales_20'])"
   ]
  },
  {
   "cell_type": "code",
   "execution_count": 28,
   "metadata": {},
   "outputs": [
    {
     "name": "stdout",
     "output_type": "stream",
     "text": [
      "paired t-test statistic = 4.582; p-value = <0.01\n"
     ]
    }
   ],
   "source": [
    "# Display the output in a more readable format\n",
    "\n",
    "ttest = stats.ttest_rel(df['Return on Sales_19'], df['Return on Sales_20'])\n",
    "ttest_stat = (ttest[0].round(3))\n",
    "ttest_pvalue = (\"<0.01\" if ttest[1] < 0.01 else (ttest[1].round(3)))\n",
    "print(f\"paired t-test statistic = {ttest_stat}; p-value = {ttest_pvalue}\")"
   ]
  },
  {
   "cell_type": "markdown",
   "metadata": {},
   "source": [
    "The null hypothesis in this case is that, on average, there is no significant difference in return on sales among S&P 500 firms between the years 2019 and 2020. In this case, based on the *p*-value of <0.01, we reject the null hypothesis with “95% confidence.”"
   ]
  },
  {
   "cell_type": "markdown",
   "metadata": {},
   "source": [
    "Before we can definitely draw this conclusion, however, we first have to test whether the assumptions of the parametric dependent t-test for paired samples are met, in particular whether the difference scores are normally distributed."
   ]
  },
  {
   "cell_type": "code",
   "execution_count": 29,
   "metadata": {},
   "outputs": [
    {
     "data": {
      "text/html": [
       "<div>\n",
       "<style scoped>\n",
       "    .dataframe tbody tr th:only-of-type {\n",
       "        vertical-align: middle;\n",
       "    }\n",
       "\n",
       "    .dataframe tbody tr th {\n",
       "        vertical-align: top;\n",
       "    }\n",
       "\n",
       "    .dataframe thead th {\n",
       "        text-align: right;\n",
       "    }\n",
       "</style>\n",
       "<table border=\"1\" class=\"dataframe\">\n",
       "  <thead>\n",
       "    <tr style=\"text-align: right;\">\n",
       "      <th></th>\n",
       "      <th>Data Year - Fiscal_19</th>\n",
       "      <th>Ticker Symbol</th>\n",
       "      <th>Company Name</th>\n",
       "      <th>Return on Sales_19</th>\n",
       "      <th>Data Year - Fiscal_20</th>\n",
       "      <th>Return on Sales_20</th>\n",
       "      <th>Difference in ROS</th>\n",
       "    </tr>\n",
       "  </thead>\n",
       "  <tbody>\n",
       "    <tr>\n",
       "      <th>0</th>\n",
       "      <td>2019</td>\n",
       "      <td>AAL</td>\n",
       "      <td>AMERICAN AIRLINES GROUP INC</td>\n",
       "      <td>0.036838</td>\n",
       "      <td>2020</td>\n",
       "      <td>-0.512488</td>\n",
       "      <td>-0.549326</td>\n",
       "    </tr>\n",
       "    <tr>\n",
       "      <th>1</th>\n",
       "      <td>2019</td>\n",
       "      <td>PNW</td>\n",
       "      <td>PINNACLE WEST CAPITAL CORP</td>\n",
       "      <td>0.155081</td>\n",
       "      <td>2020</td>\n",
       "      <td>0.153488</td>\n",
       "      <td>-0.001593</td>\n",
       "    </tr>\n",
       "    <tr>\n",
       "      <th>2</th>\n",
       "      <td>2019</td>\n",
       "      <td>ABT</td>\n",
       "      <td>ABBOTT LABORATORIES</td>\n",
       "      <td>0.115565</td>\n",
       "      <td>2020</td>\n",
       "      <td>0.129883</td>\n",
       "      <td>0.014318</td>\n",
       "    </tr>\n",
       "    <tr>\n",
       "      <th>3</th>\n",
       "      <td>2019</td>\n",
       "      <td>AMD</td>\n",
       "      <td>ADVANCED MICRO DEVICES</td>\n",
       "      <td>0.050661</td>\n",
       "      <td>2020</td>\n",
       "      <td>0.255045</td>\n",
       "      <td>0.204383</td>\n",
       "    </tr>\n",
       "    <tr>\n",
       "      <th>4</th>\n",
       "      <td>2019</td>\n",
       "      <td>ALK</td>\n",
       "      <td>ALASKA AIR GROUP INC</td>\n",
       "      <td>0.087575</td>\n",
       "      <td>2020</td>\n",
       "      <td>-0.371284</td>\n",
       "      <td>-0.458860</td>\n",
       "    </tr>\n",
       "    <tr>\n",
       "      <th>...</th>\n",
       "      <td>...</td>\n",
       "      <td>...</td>\n",
       "      <td>...</td>\n",
       "      <td>...</td>\n",
       "      <td>...</td>\n",
       "      <td>...</td>\n",
       "      <td>...</td>\n",
       "    </tr>\n",
       "    <tr>\n",
       "      <th>435</th>\n",
       "      <td>2019</td>\n",
       "      <td>FBHS</td>\n",
       "      <td>FORTUNE BRANDS HOME &amp; SECUR</td>\n",
       "      <td>0.074923</td>\n",
       "      <td>2020</td>\n",
       "      <td>0.090817</td>\n",
       "      <td>0.015894</td>\n",
       "    </tr>\n",
       "    <tr>\n",
       "      <th>436</th>\n",
       "      <td>2019</td>\n",
       "      <td>XYL</td>\n",
       "      <td>XYLEM INC</td>\n",
       "      <td>0.076396</td>\n",
       "      <td>2020</td>\n",
       "      <td>0.052092</td>\n",
       "      <td>-0.024304</td>\n",
       "    </tr>\n",
       "    <tr>\n",
       "      <th>437</th>\n",
       "      <td>2019</td>\n",
       "      <td>CBRE</td>\n",
       "      <td>CBRE GROUP INC</td>\n",
       "      <td>0.053668</td>\n",
       "      <td>2020</td>\n",
       "      <td>0.031561</td>\n",
       "      <td>-0.022107</td>\n",
       "    </tr>\n",
       "    <tr>\n",
       "      <th>438</th>\n",
       "      <td>2019</td>\n",
       "      <td>LYB</td>\n",
       "      <td>LYONDELLBASELL INDUSTRIES NV</td>\n",
       "      <td>0.097619</td>\n",
       "      <td>2020</td>\n",
       "      <td>0.051166</td>\n",
       "      <td>-0.046453</td>\n",
       "    </tr>\n",
       "    <tr>\n",
       "      <th>439</th>\n",
       "      <td>2019</td>\n",
       "      <td>ALLE</td>\n",
       "      <td>ALLEGION PLC</td>\n",
       "      <td>0.140785</td>\n",
       "      <td>2020</td>\n",
       "      <td>0.115556</td>\n",
       "      <td>-0.025229</td>\n",
       "    </tr>\n",
       "  </tbody>\n",
       "</table>\n",
       "<p>440 rows × 7 columns</p>\n",
       "</div>"
      ],
      "text/plain": [
       "     Data Year - Fiscal_19 Ticker Symbol                  Company Name  \\\n",
       "0                     2019           AAL   AMERICAN AIRLINES GROUP INC   \n",
       "1                     2019           PNW    PINNACLE WEST CAPITAL CORP   \n",
       "2                     2019           ABT           ABBOTT LABORATORIES   \n",
       "3                     2019           AMD        ADVANCED MICRO DEVICES   \n",
       "4                     2019           ALK          ALASKA AIR GROUP INC   \n",
       "..                     ...           ...                           ...   \n",
       "435                   2019          FBHS   FORTUNE BRANDS HOME & SECUR   \n",
       "436                   2019           XYL                     XYLEM INC   \n",
       "437                   2019          CBRE                CBRE GROUP INC   \n",
       "438                   2019           LYB  LYONDELLBASELL INDUSTRIES NV   \n",
       "439                   2019          ALLE                  ALLEGION PLC   \n",
       "\n",
       "     Return on Sales_19  Data Year - Fiscal_20  Return on Sales_20  \\\n",
       "0              0.036838                   2020           -0.512488   \n",
       "1              0.155081                   2020            0.153488   \n",
       "2              0.115565                   2020            0.129883   \n",
       "3              0.050661                   2020            0.255045   \n",
       "4              0.087575                   2020           -0.371284   \n",
       "..                  ...                    ...                 ...   \n",
       "435            0.074923                   2020            0.090817   \n",
       "436            0.076396                   2020            0.052092   \n",
       "437            0.053668                   2020            0.031561   \n",
       "438            0.097619                   2020            0.051166   \n",
       "439            0.140785                   2020            0.115556   \n",
       "\n",
       "     Difference in ROS  \n",
       "0            -0.549326  \n",
       "1            -0.001593  \n",
       "2             0.014318  \n",
       "3             0.204383  \n",
       "4            -0.458860  \n",
       "..                 ...  \n",
       "435           0.015894  \n",
       "436          -0.024304  \n",
       "437          -0.022107  \n",
       "438          -0.046453  \n",
       "439          -0.025229  \n",
       "\n",
       "[440 rows x 7 columns]"
      ]
     },
     "execution_count": 29,
     "metadata": {},
     "output_type": "execute_result"
    }
   ],
   "source": [
    "# Calculate the 'Difference in ROS' variable\n",
    "\n",
    "df['Difference in ROS'] = df['Return on Sales_20'] - df['Return on Sales_19']\n",
    "df"
   ]
  },
  {
   "cell_type": "code",
   "execution_count": 30,
   "metadata": {},
   "outputs": [
    {
     "data": {
      "image/png": "[encoded data removed]",
      "text/plain": [
       "<Figure size 640x480 with 1 Axes>"
      ]
     },
     "metadata": {},
     "output_type": "display_data"
    }
   ],
   "source": [
    "# Basic histogram of the 'Difference in ROS' variable with pandas\n",
    "\n",
    "df['Difference in ROS'].plot.hist();"
   ]
  },
  {
   "cell_type": "code",
   "execution_count": 31,
   "metadata": {},
   "outputs": [
    {
     "data": {
      "image/png": "[encoded data removed]",
      "text/plain": [
       "<Figure size 640x480 with 1 Axes>"
      ]
     },
     "metadata": {},
     "output_type": "display_data"
    }
   ],
   "source": [
    "# Display the Q-Q plot for the 'Difference in ROS' variable with SciPy\n",
    "\n",
    "stats.probplot(df['Difference in ROS'], dist=\"norm\", plot=plt);"
   ]
  },
  {
   "cell_type": "markdown",
   "metadata": {},
   "source": [
    "Overall, these plots clearly indicate that the normality assumption is not met. We can either solve this by doing a data transformation (more about this later) or by using a non-parametric test instead, which in case of the dependent t-test for paired samples would be the __Wilcoxon signed-rank test__. In Python, we can use the `wilcoxon()` function from SciPy to conduct this test."
   ]
  },
  {
   "cell_type": "code",
   "execution_count": 32,
   "metadata": {},
   "outputs": [
    {
     "data": {
      "text/plain": [
       "WilcoxonResult(statistic=32558.0, pvalue=2.2720899481232332e-09)"
      ]
     },
     "execution_count": 32,
     "metadata": {},
     "output_type": "execute_result"
    }
   ],
   "source": [
    "# Use the Wilcoxon signed-rank test\n",
    "\n",
    "stats.wilcoxon(df['Return on Sales_19'], df['Return on Sales_20'])"
   ]
  },
  {
   "cell_type": "code",
   "execution_count": 33,
   "metadata": {},
   "outputs": [
    {
     "name": "stdout",
     "output_type": "stream",
     "text": [
      "wilcoxon signed-rank test statistic = 32558.0; p-value = <0.01\n"
     ]
    }
   ],
   "source": [
    "# Display the output in a more readable format\n",
    "\n",
    "wilcoxon = stats.wilcoxon(df['Return on Sales_19'], df['Return on Sales_20'])\n",
    "wilcoxon_stat = (wilcoxon[0].round(3))\n",
    "wilcoxon_pvalue = (\"<0.01\" if wilcoxon[1] < 0.01 else (wilcoxon[1].round(3)))\n",
    "print(f\"wilcoxon signed-rank test statistic = {wilcoxon_stat}; p-value = {wilcoxon_pvalue}\")"
   ]
  },
  {
   "cell_type": "markdown",
   "metadata": {},
   "source": [
    "Based on the Wilcoxon signed-rank test, which in this case seems to be the most appropriate one, given the *p*-value of <0.01, we would reject the null hypothesis and thus conclude that, on average, there is a significant difference in return on sales among S&P 500 firms between the years 2019 and 2020."
   ]
  },
  {
   "cell_type": "markdown",
   "metadata": {},
   "source": [
    "### Between-subjects tests"
   ]
  },
  {
   "cell_type": "markdown",
   "metadata": {},
   "source": [
    "Between-subjects tests are used to examine whether two or more subpopulations are identical with regard to a parameter (population mean, standard deviation or proportion) or a distribution. That is, these tests are used when the units of analysis are unrelated (i.e., independent)."
   ]
  },
  {
   "cell_type": "markdown",
   "metadata": {},
   "source": [
    "### Relationships between two categorical variables"
   ]
  },
  {
   "cell_type": "markdown",
   "metadata": {},
   "source": [
    "The `crosstab()` function from pandas produces counts of observations at each level for two variables, i.e. a two-way crosstabulation. Alternatively, you can also use a combination of the `groupby()` and `unstack()` methods to produce this two-way crosstabulation. In this alternative approach, the `unstack()` method is not crucial, but pivots the multi-index series returned by the `groupby()` method into a DataFrame, which offers a more intuitive display of the data and simplifies downstream analysis."
   ]
  },
  {
   "cell_type": "code",
   "execution_count": 34,
   "metadata": {},
   "outputs": [
    {
     "data": {
      "text/html": [
       "<div>\n",
       "<style scoped>\n",
       "    .dataframe tbody tr th:only-of-type {\n",
       "        vertical-align: middle;\n",
       "    }\n",
       "\n",
       "    .dataframe tbody tr th {\n",
       "        vertical-align: top;\n",
       "    }\n",
       "\n",
       "    .dataframe thead th {\n",
       "        text-align: right;\n",
       "    }\n",
       "</style>\n",
       "<table border=\"1\" class=\"dataframe\">\n",
       "  <thead>\n",
       "    <tr style=\"text-align: right;\">\n",
       "      <th>time</th>\n",
       "      <th>Lunch</th>\n",
       "      <th>Dinner</th>\n",
       "    </tr>\n",
       "    <tr>\n",
       "      <th>sex</th>\n",
       "      <th></th>\n",
       "      <th></th>\n",
       "    </tr>\n",
       "  </thead>\n",
       "  <tbody>\n",
       "    <tr>\n",
       "      <th>Male</th>\n",
       "      <td>33</td>\n",
       "      <td>124</td>\n",
       "    </tr>\n",
       "    <tr>\n",
       "      <th>Female</th>\n",
       "      <td>35</td>\n",
       "      <td>52</td>\n",
       "    </tr>\n",
       "  </tbody>\n",
       "</table>\n",
       "</div>"
      ],
      "text/plain": [
       "time    Lunch  Dinner\n",
       "sex                  \n",
       "Male       33     124\n",
       "Female     35      52"
      ]
     },
     "execution_count": 34,
     "metadata": {},
     "output_type": "execute_result"
    }
   ],
   "source": [
    "# Create a two-way crosstabulation using the crosstab() function\n",
    "\n",
    "pd.crosstab(df_tips.sex, df_tips.time)"
   ]
  },
  {
   "cell_type": "code",
   "execution_count": 35,
   "metadata": {},
   "outputs": [
    {
     "data": {
      "text/plain": [
       "sex     time  \n",
       "Male    Dinner    124\n",
       "        Lunch      33\n",
       "Female  Dinner     52\n",
       "        Lunch      35\n",
       "Name: time, dtype: int64"
      ]
     },
     "execution_count": 35,
     "metadata": {},
     "output_type": "execute_result"
    }
   ],
   "source": [
    "# Create a two-way crosstabulation using the groupby() and unstack() methods (1)\n",
    "\n",
    "df_tips.groupby('sex').time.value_counts()"
   ]
  },
  {
   "cell_type": "code",
   "execution_count": 36,
   "metadata": {},
   "outputs": [
    {
     "data": {
      "text/html": [
       "<div>\n",
       "<style scoped>\n",
       "    .dataframe tbody tr th:only-of-type {\n",
       "        vertical-align: middle;\n",
       "    }\n",
       "\n",
       "    .dataframe tbody tr th {\n",
       "        vertical-align: top;\n",
       "    }\n",
       "\n",
       "    .dataframe thead th {\n",
       "        text-align: right;\n",
       "    }\n",
       "</style>\n",
       "<table border=\"1\" class=\"dataframe\">\n",
       "  <thead>\n",
       "    <tr style=\"text-align: right;\">\n",
       "      <th>time</th>\n",
       "      <th>Dinner</th>\n",
       "      <th>Lunch</th>\n",
       "    </tr>\n",
       "    <tr>\n",
       "      <th>sex</th>\n",
       "      <th></th>\n",
       "      <th></th>\n",
       "    </tr>\n",
       "  </thead>\n",
       "  <tbody>\n",
       "    <tr>\n",
       "      <th>Male</th>\n",
       "      <td>124</td>\n",
       "      <td>33</td>\n",
       "    </tr>\n",
       "    <tr>\n",
       "      <th>Female</th>\n",
       "      <td>52</td>\n",
       "      <td>35</td>\n",
       "    </tr>\n",
       "  </tbody>\n",
       "</table>\n",
       "</div>"
      ],
      "text/plain": [
       "time    Dinner  Lunch\n",
       "sex                  \n",
       "Male       124     33\n",
       "Female      52     35"
      ]
     },
     "execution_count": 36,
     "metadata": {},
     "output_type": "execute_result"
    }
   ],
   "source": [
    "# Create a two-way crosstabulation using the groupby() and unstack() methods (2)\n",
    "\n",
    "df_tips.groupby('sex').time.value_counts().unstack()"
   ]
  },
  {
   "cell_type": "code",
   "execution_count": 37,
   "metadata": {},
   "outputs": [
    {
     "data": {
      "text/html": [
       "<div>\n",
       "<style scoped>\n",
       "    .dataframe tbody tr th:only-of-type {\n",
       "        vertical-align: middle;\n",
       "    }\n",
       "\n",
       "    .dataframe tbody tr th {\n",
       "        vertical-align: top;\n",
       "    }\n",
       "\n",
       "    .dataframe thead th {\n",
       "        text-align: right;\n",
       "    }\n",
       "</style>\n",
       "<table border=\"1\" class=\"dataframe\">\n",
       "  <thead>\n",
       "    <tr style=\"text-align: right;\">\n",
       "      <th>time</th>\n",
       "      <th>Lunch</th>\n",
       "      <th>Dinner</th>\n",
       "      <th>Total</th>\n",
       "    </tr>\n",
       "    <tr>\n",
       "      <th>sex</th>\n",
       "      <th></th>\n",
       "      <th></th>\n",
       "      <th></th>\n",
       "    </tr>\n",
       "  </thead>\n",
       "  <tbody>\n",
       "    <tr>\n",
       "      <th>Male</th>\n",
       "      <td>33</td>\n",
       "      <td>124</td>\n",
       "      <td>157</td>\n",
       "    </tr>\n",
       "    <tr>\n",
       "      <th>Female</th>\n",
       "      <td>35</td>\n",
       "      <td>52</td>\n",
       "      <td>87</td>\n",
       "    </tr>\n",
       "    <tr>\n",
       "      <th>Total</th>\n",
       "      <td>68</td>\n",
       "      <td>176</td>\n",
       "      <td>244</td>\n",
       "    </tr>\n",
       "  </tbody>\n",
       "</table>\n",
       "</div>"
      ],
      "text/plain": [
       "time    Lunch  Dinner  Total\n",
       "sex                         \n",
       "Male       33     124    157\n",
       "Female     35      52     87\n",
       "Total      68     176    244"
      ]
     },
     "execution_count": 37,
     "metadata": {},
     "output_type": "execute_result"
    }
   ],
   "source": [
    "# Create a two-way crosstabulation using the crosstab() function\n",
    "\n",
    "pd.crosstab(df_tips.sex, df_tips.time, margins=True, margins_name='Total')"
   ]
  },
  {
   "cell_type": "markdown",
   "metadata": {},
   "source": [
    "In general, a chi-square test determines whether the frequencies in cells are significantly different from what one would expect on the basis of their total counts. The __chi-square test of independence__ can be used to test whether two categorical variables in a contingency table (i.e., crosstabulation) are independent of each other. So, for example, to test the following research question using the 'tips' dataset: Are males and females just as likely to eat (or actually, pay the bill after eating) at the restaurant at lunch time and dinner time? In Python, we can use the `chi2_contingency()` function from SciPy to conduct this test. This test has two underlying assumptions:\n",
    "- None of the expected frequencies are smaller than 1.\n",
    "- No more than 20% of the expected frequencies are smaller than 5.\n",
    "\n",
    "For more information about the `chi2_contingency()` function, see: https://docs.scipy.org/doc/scipy/reference/generated/scipy.stats.chi2_contingency.html"
   ]
  },
  {
   "cell_type": "code",
   "execution_count": 38,
   "metadata": {},
   "outputs": [
    {
     "data": {
      "text/plain": [
       "Chi2ContingencyResult(statistic=9.343808982970623, pvalue=0.002237400118075248, dof=1, expected_freq=array([[ 43.75409836, 113.24590164],\n",
       "       [ 24.24590164,  62.75409836]]))"
      ]
     },
     "execution_count": 38,
     "metadata": {},
     "output_type": "execute_result"
    }
   ],
   "source": [
    "# Use the chi-square test of independence\n",
    "\n",
    "dfObserved = pd.crosstab(df_tips.sex, df_tips.time)\n",
    "stats.chi2_contingency(dfObserved.values)"
   ]
  },
  {
   "cell_type": "code",
   "execution_count": 39,
   "metadata": {},
   "outputs": [
    {
     "data": {
      "text/html": [
       "<div>\n",
       "<style scoped>\n",
       "    .dataframe tbody tr th:only-of-type {\n",
       "        vertical-align: middle;\n",
       "    }\n",
       "\n",
       "    .dataframe tbody tr th {\n",
       "        vertical-align: top;\n",
       "    }\n",
       "\n",
       "    .dataframe thead th {\n",
       "        text-align: right;\n",
       "    }\n",
       "</style>\n",
       "<table border=\"1\" class=\"dataframe\">\n",
       "  <thead>\n",
       "    <tr style=\"text-align: right;\">\n",
       "      <th>time</th>\n",
       "      <th>Lunch</th>\n",
       "      <th>Dinner</th>\n",
       "    </tr>\n",
       "    <tr>\n",
       "      <th>sex</th>\n",
       "      <th></th>\n",
       "      <th></th>\n",
       "    </tr>\n",
       "  </thead>\n",
       "  <tbody>\n",
       "    <tr>\n",
       "      <th>Male</th>\n",
       "      <td>43.754098</td>\n",
       "      <td>113.245902</td>\n",
       "    </tr>\n",
       "    <tr>\n",
       "      <th>Female</th>\n",
       "      <td>24.245902</td>\n",
       "      <td>62.754098</td>\n",
       "    </tr>\n",
       "  </tbody>\n",
       "</table>\n",
       "</div>"
      ],
      "text/plain": [
       "time        Lunch      Dinner\n",
       "sex                          \n",
       "Male    43.754098  113.245902\n",
       "Female  24.245902   62.754098"
      ]
     },
     "execution_count": 39,
     "metadata": {},
     "output_type": "execute_result"
    }
   ],
   "source": [
    "# Obtain the different parts of the output\n",
    "\n",
    "results = []\n",
    "\n",
    "# Chi-square statistic, p-value, degrees of freedom, and the expected frequencies\n",
    "results = stats.chi2_contingency(dfObserved.values)\n",
    "chi2    = results[0] \n",
    "pvalue  = results[1]\n",
    "free    = results[2]\n",
    "efreq   = results[3]\n",
    "\n",
    "dfExpected = pd.DataFrame(efreq, columns=dfObserved.columns, index=dfObserved.index)\n",
    "\n",
    "# Display dfExpected\n",
    "dfExpected"
   ]
  },
  {
   "cell_type": "code",
   "execution_count": 40,
   "metadata": {},
   "outputs": [
    {
     "name": "stdout",
     "output_type": "stream",
     "text": [
      "chi-square test statistic = 9.344; p-value = 0.002\n"
     ]
    }
   ],
   "source": [
    "# Display the output in a more readable format\n",
    "\n",
    "print(f\"chi-square test statistic = {chi2:.3f}; p-value = {pvalue:.3f}\")"
   ]
  },
  {
   "cell_type": "markdown",
   "metadata": {},
   "source": [
    "The null hypothesis in this case is that the two categorical variables are unrelated (i.e. independent), i.e., that the counts in the cells are as one might expect from the marginal proportions. In this case, based on the *p*-value of 0.002, we reject the null hypothesis of independence between the two variables with “95% confidence.”"
   ]
  },
  {
   "cell_type": "markdown",
   "metadata": {},
   "source": [
    "### Relationships between a categorical variable with two categories and a continuous variable"
   ]
  },
  {
   "cell_type": "markdown",
   "metadata": {},
   "source": [
    "A t-test compares the mean of one sample against the mean of another sample (or against a specific value such as 0). The\n",
    "important point is that it compares the mean for exactly two sets of data. The __t-test for two independent samples__ can be used to test whether two independent samples have identical average (expected) values. So, for example, to test the following research question using the 'tips' dataset: Is there a significant difference in tips between lunch time and dinner time? In Python, we can use the `ttest_ind()` function from SciPy to conduct this test. The t-test for two independent samples has four underlying assumptions:\n",
    "-  The observations must be independent.\n",
    "-  The observations should be drawn from normally distributed populations.\n",
    "-  These populations should have equal variances.\n",
    "-  The measurement level of the dependent variable should be at least interval.\n",
    "\n",
    "The `ttest_ind()` function assumes that the populations have equal variances by default. If this assumption is not met, we can simply add the argument 'equal_var=False', and as a result perform __Welch’s t-test__, which does not assume that the populations have equal variances. Also, if the normality assumption is not met, it may be possible to use the non-parametric alternative for the t-test for two independent samples, which is the __Mann-Whitney test__.\n",
    "\n",
    "For more information about the `ttest_ind()` function, see: https://docs.scipy.org/doc/scipy/reference/generated/scipy.stats.ttest_ind.html  \n",
    "For more information about the `mannwhitneyu()` function, see: https://docs.scipy.org/doc/scipy/reference/generated/scipy.stats.mannwhitneyu.html"
   ]
  },
  {
   "cell_type": "code",
   "execution_count": 41,
   "metadata": {},
   "outputs": [
    {
     "data": {
      "text/html": [
       "<div>\n",
       "<style scoped>\n",
       "    .dataframe tbody tr th:only-of-type {\n",
       "        vertical-align: middle;\n",
       "    }\n",
       "\n",
       "    .dataframe tbody tr th {\n",
       "        vertical-align: top;\n",
       "    }\n",
       "\n",
       "    .dataframe thead th {\n",
       "        text-align: right;\n",
       "    }\n",
       "</style>\n",
       "<table border=\"1\" class=\"dataframe\">\n",
       "  <thead>\n",
       "    <tr style=\"text-align: right;\">\n",
       "      <th></th>\n",
       "      <th>count</th>\n",
       "      <th>mean</th>\n",
       "      <th>std</th>\n",
       "      <th>min</th>\n",
       "      <th>25%</th>\n",
       "      <th>50%</th>\n",
       "      <th>75%</th>\n",
       "      <th>max</th>\n",
       "    </tr>\n",
       "    <tr>\n",
       "      <th>time</th>\n",
       "      <th></th>\n",
       "      <th></th>\n",
       "      <th></th>\n",
       "      <th></th>\n",
       "      <th></th>\n",
       "      <th></th>\n",
       "      <th></th>\n",
       "      <th></th>\n",
       "    </tr>\n",
       "  </thead>\n",
       "  <tbody>\n",
       "    <tr>\n",
       "      <th>Lunch</th>\n",
       "      <td>68.0</td>\n",
       "      <td>2.728088</td>\n",
       "      <td>1.205345</td>\n",
       "      <td>1.25</td>\n",
       "      <td>2.0</td>\n",
       "      <td>2.25</td>\n",
       "      <td>3.2875</td>\n",
       "      <td>6.7</td>\n",
       "    </tr>\n",
       "    <tr>\n",
       "      <th>Dinner</th>\n",
       "      <td>176.0</td>\n",
       "      <td>3.102670</td>\n",
       "      <td>1.436243</td>\n",
       "      <td>1.00</td>\n",
       "      <td>2.0</td>\n",
       "      <td>3.00</td>\n",
       "      <td>3.6875</td>\n",
       "      <td>10.0</td>\n",
       "    </tr>\n",
       "  </tbody>\n",
       "</table>\n",
       "</div>"
      ],
      "text/plain": [
       "        count      mean       std   min  25%   50%     75%   max\n",
       "time                                                            \n",
       "Lunch    68.0  2.728088  1.205345  1.25  2.0  2.25  3.2875   6.7\n",
       "Dinner  176.0  3.102670  1.436243  1.00  2.0  3.00  3.6875  10.0"
      ]
     },
     "execution_count": 41,
     "metadata": {},
     "output_type": "execute_result"
    }
   ],
   "source": [
    "# Display summary statistics\n",
    "\n",
    "df_tips.groupby('time').tip.describe()"
   ]
  },
  {
   "cell_type": "code",
   "execution_count": 42,
   "metadata": {},
   "outputs": [
    {
     "data": {
      "text/html": [
       "<div>\n",
       "<style scoped>\n",
       "    .dataframe tbody tr th:only-of-type {\n",
       "        vertical-align: middle;\n",
       "    }\n",
       "\n",
       "    .dataframe tbody tr th {\n",
       "        vertical-align: top;\n",
       "    }\n",
       "\n",
       "    .dataframe thead tr th {\n",
       "        text-align: left;\n",
       "    }\n",
       "\n",
       "    .dataframe thead tr:last-of-type th {\n",
       "        text-align: right;\n",
       "    }\n",
       "</style>\n",
       "<table border=\"1\" class=\"dataframe\">\n",
       "  <thead>\n",
       "    <tr>\n",
       "      <th></th>\n",
       "      <th colspan=\"3\" halign=\"left\">tip</th>\n",
       "    </tr>\n",
       "    <tr>\n",
       "      <th></th>\n",
       "      <th>mean</th>\n",
       "      <th>std</th>\n",
       "      <th>size</th>\n",
       "    </tr>\n",
       "    <tr>\n",
       "      <th>time</th>\n",
       "      <th></th>\n",
       "      <th></th>\n",
       "      <th></th>\n",
       "    </tr>\n",
       "  </thead>\n",
       "  <tbody>\n",
       "    <tr>\n",
       "      <th>Lunch</th>\n",
       "      <td>2.728088</td>\n",
       "      <td>1.205345</td>\n",
       "      <td>68</td>\n",
       "    </tr>\n",
       "    <tr>\n",
       "      <th>Dinner</th>\n",
       "      <td>3.102670</td>\n",
       "      <td>1.436243</td>\n",
       "      <td>176</td>\n",
       "    </tr>\n",
       "  </tbody>\n",
       "</table>\n",
       "</div>"
      ],
      "text/plain": [
       "             tip               \n",
       "            mean       std size\n",
       "time                           \n",
       "Lunch   2.728088  1.205345   68\n",
       "Dinner  3.102670  1.436243  176"
      ]
     },
     "execution_count": 42,
     "metadata": {},
     "output_type": "execute_result"
    }
   ],
   "source": [
    "# Display summary statistics\n",
    "\n",
    "df_tips.groupby('time').agg({'tip': [np.mean, np.std, np.size]})"
   ]
  },
  {
   "cell_type": "code",
   "execution_count": 43,
   "metadata": {},
   "outputs": [
    {
     "data": {
      "text/plain": [
       "Ttest_indResult(statistic=-1.9062569301202392, pvalue=0.05780153475171558)"
      ]
     },
     "execution_count": 43,
     "metadata": {},
     "output_type": "execute_result"
    }
   ],
   "source": [
    "# Use the t-test for two independent samples (or Welch's t-test)\n",
    "\n",
    "lunch = df_tips.tip[df_tips.time == 'Lunch']\n",
    "dinner = df_tips.tip[df_tips.time == 'Dinner']\n",
    "\n",
    "stats.ttest_ind(lunch, dinner, equal_var=True)  # t-test for two independent samples\n",
    "#stats.ttest_ind(lunch, dinner, equal_var=False)  # Welch's t-test"
   ]
  },
  {
   "cell_type": "code",
   "execution_count": 44,
   "metadata": {},
   "outputs": [
    {
     "name": "stdout",
     "output_type": "stream",
     "text": [
      "independent t-test statistic = -1.906; p-value = 0.058\n"
     ]
    }
   ],
   "source": [
    "# Display the output in a more readable format\n",
    "\n",
    "ttest_ind = stats.ttest_ind(lunch, dinner, equal_var=True)\n",
    "ttest_ind_stat = (ttest_ind[0].round(3))\n",
    "ttest_ind_pvalue = (\"<0.01\" if ttest_ind[1] < 0.01 else (ttest_ind[1].round(3)))\n",
    "print(f\"independent t-test statistic = {ttest_ind_stat}; p-value = {ttest_ind_pvalue}\")"
   ]
  },
  {
   "cell_type": "markdown",
   "metadata": {},
   "source": [
    "The null hypothesis in this case is that, on average, there is no significant difference in tips between lunch time and dinner time. In this case, based on the *p*-value of 0.058, we do not reject the null hypothesis with “95% confidence.”"
   ]
  },
  {
   "cell_type": "markdown",
   "metadata": {},
   "source": [
    "Before we can definitely draw this conclusion, however, we first have to test whether the assumptions of the parametric t-test for two independent samples are met. Let's first test whether both populations have equal variances. In Python, we can use the `levene()` function from SciPy to conduct this test."
   ]
  },
  {
   "cell_type": "code",
   "execution_count": 45,
   "metadata": {},
   "outputs": [
    {
     "data": {
      "text/plain": [
       "LeveneResult(statistic=0.4469478252669618, pvalue=0.5044251392890907)"
      ]
     },
     "execution_count": 45,
     "metadata": {},
     "output_type": "execute_result"
    }
   ],
   "source": [
    "# Use the levene test\n",
    "\n",
    "stats.levene(lunch, dinner, center='mean')"
   ]
  },
  {
   "cell_type": "code",
   "execution_count": 46,
   "metadata": {},
   "outputs": [
    {
     "name": "stdout",
     "output_type": "stream",
     "text": [
      "Levene test statistic = 0.447; p-value = 0.504\n"
     ]
    }
   ],
   "source": [
    "# Display the output in a more readable format\n",
    "\n",
    "levene = stats.levene(lunch, dinner, center='mean')\n",
    "levene_stat = (levene[0].round(3))\n",
    "levene_pvalue = (\"<0.01\" if levene[1] < 0.01 else (levene[1].round(3)))\n",
    "print(f\"Levene test statistic = {levene_stat}; p-value = {levene_pvalue}\")"
   ]
  },
  {
   "cell_type": "markdown",
   "metadata": {},
   "source": [
    "The null hypothesis in this case is that both populations have equal variances. In this case, based on the *p*-value of 0.504, we do not reject the null hypothesis with “95% confidence.” This means that the assumption of equal variances is met. The other assumption that we need to test is the normality assumption."
   ]
  },
  {
   "cell_type": "code",
   "execution_count": 47,
   "metadata": {},
   "outputs": [
    {
     "data": {
      "image/png": "[encoded data removed]",
      "text/plain": [
       "<Figure size 640x480 with 2 Axes>"
      ]
     },
     "metadata": {},
     "output_type": "display_data"
    }
   ],
   "source": [
    "# Display the histograms for both samples with pandas\n",
    "\n",
    "df_tips.tip.hist(by=df_tips.time, sharey=True, sharex=True);"
   ]
  },
  {
   "cell_type": "code",
   "execution_count": 48,
   "metadata": {},
   "outputs": [
    {
     "data": {
      "image/png": "[encoded data removed]",
      "text/plain": [
       "<Figure size 640x480 with 1 Axes>"
      ]
     },
     "metadata": {},
     "output_type": "display_data"
    }
   ],
   "source": [
    "# Display the Q-Q plot for the 'lunch' sample with SciPy\n",
    "\n",
    "stats.probplot(lunch, dist=\"norm\", plot=plt);"
   ]
  },
  {
   "cell_type": "code",
   "execution_count": 49,
   "metadata": {},
   "outputs": [
    {
     "data": {
      "image/png": "[encoded data removed]",
      "text/plain": [
       "<Figure size 640x480 with 1 Axes>"
      ]
     },
     "metadata": {},
     "output_type": "display_data"
    }
   ],
   "source": [
    "# Display the Q-Q plot for the 'dinner' sample with SciPy\n",
    "\n",
    "stats.probplot(dinner, dist=\"norm\", plot=plt);"
   ]
  },
  {
   "cell_type": "code",
   "execution_count": 50,
   "metadata": {},
   "outputs": [
    {
     "data": {
      "text/plain": [
       "SkewtestResult(statistic=3.709534060944889, pvalue=0.00020764102301399384)"
      ]
     },
     "execution_count": 50,
     "metadata": {},
     "output_type": "execute_result"
    }
   ],
   "source": [
    "# Test the skewness of the 'lunch' sample\n",
    "\n",
    "stats.skewtest(lunch)"
   ]
  },
  {
   "cell_type": "code",
   "execution_count": 51,
   "metadata": {},
   "outputs": [
    {
     "name": "stdout",
     "output_type": "stream",
     "text": [
      "skewtest statistic = 3.71; p-value = <0.01\n"
     ]
    }
   ],
   "source": [
    "# Display the output in a more readable format\n",
    "\n",
    "skew = stats.skewtest(lunch)\n",
    "skew_stat = (skew[0].round(3))\n",
    "skew_pvalue = (\"<0.01\" if skew[1] < 0.01 else (skew[1].round(3)))\n",
    "print(f\"skewtest statistic = {skew_stat}; p-value = {skew_pvalue}\")"
   ]
  },
  {
   "cell_type": "code",
   "execution_count": 52,
   "metadata": {},
   "outputs": [
    {
     "data": {
      "text/plain": [
       "KurtosistestResult(statistic=1.643711009142367, pvalue=0.10023591080813385)"
      ]
     },
     "execution_count": 52,
     "metadata": {},
     "output_type": "execute_result"
    }
   ],
   "source": [
    "# Test the kurtosis of the 'lunch' sample\n",
    "\n",
    "stats.kurtosistest(lunch)"
   ]
  },
  {
   "cell_type": "code",
   "execution_count": 53,
   "metadata": {},
   "outputs": [
    {
     "name": "stdout",
     "output_type": "stream",
     "text": [
      "kurtosistest statistic = 1.644; p-value = 0.1\n"
     ]
    }
   ],
   "source": [
    "# Display the output in a more readable format\n",
    "\n",
    "kurt = stats.kurtosistest(lunch)\n",
    "kurt_stat = (kurt[0].round(3))\n",
    "kurt_pvalue = (\"<0.01\" if kurt[1] < 0.01 else (kurt[1].round(3)))\n",
    "print(f\"kurtosistest statistic = {kurt_stat}; p-value = {kurt_pvalue}\")"
   ]
  },
  {
   "cell_type": "code",
   "execution_count": 54,
   "metadata": {},
   "outputs": [
    {
     "data": {
      "text/plain": [
       "NormaltestResult(statistic=16.462428830886097, pvalue=0.00026621284088202676)"
      ]
     },
     "execution_count": 54,
     "metadata": {},
     "output_type": "execute_result"
    }
   ],
   "source": [
    "# Use the normality test on the 'lunch' sample\n",
    "\n",
    "stats.normaltest(lunch)"
   ]
  },
  {
   "cell_type": "code",
   "execution_count": 55,
   "metadata": {},
   "outputs": [
    {
     "name": "stdout",
     "output_type": "stream",
     "text": [
      "normaltest statistic = 16.462; p-value = <0.01\n"
     ]
    }
   ],
   "source": [
    "# Display the output in a more readable format\n",
    "\n",
    "norm = stats.normaltest(lunch)\n",
    "norm_stat = (norm[0].round(3))\n",
    "norm_pvalue = (\"<0.01\" if norm[1] < 0.01 else (norm[1].round(3)))\n",
    "print(f\"normaltest statistic = {norm_stat}; p-value = {norm_pvalue}\")"
   ]
  },
  {
   "cell_type": "code",
   "execution_count": 56,
   "metadata": {},
   "outputs": [
    {
     "data": {
      "text/plain": [
       "SkewtestResult(statistic=6.343458600760778, pvalue=2.2466336509080644e-10)"
      ]
     },
     "execution_count": 56,
     "metadata": {},
     "output_type": "execute_result"
    }
   ],
   "source": [
    "# Test the skewness of the 'dinner' sample\n",
    "\n",
    "stats.skewtest(dinner)"
   ]
  },
  {
   "cell_type": "code",
   "execution_count": 57,
   "metadata": {},
   "outputs": [
    {
     "name": "stdout",
     "output_type": "stream",
     "text": [
      "skewtest statistic = 6.343; p-value = <0.01\n"
     ]
    }
   ],
   "source": [
    "# Display the output in a more readable format\n",
    "\n",
    "skew = stats.skewtest(dinner)\n",
    "skew_stat = (skew[0].round(3))\n",
    "skew_pvalue = (\"<0.01\" if skew[1] < 0.01 else (skew[1].round(3)))\n",
    "print(f\"skewtest statistic = {skew_stat}; p-value = {skew_pvalue}\")"
   ]
  },
  {
   "cell_type": "code",
   "execution_count": 58,
   "metadata": {},
   "outputs": [
    {
     "data": {
      "text/plain": [
       "KurtosistestResult(statistic=4.656101749322831, pvalue=3.2225271963025848e-06)"
      ]
     },
     "execution_count": 58,
     "metadata": {},
     "output_type": "execute_result"
    }
   ],
   "source": [
    "# Test the kurtosis of the 'dinner' sample\n",
    "\n",
    "stats.kurtosistest(dinner)"
   ]
  },
  {
   "cell_type": "code",
   "execution_count": 59,
   "metadata": {},
   "outputs": [
    {
     "name": "stdout",
     "output_type": "stream",
     "text": [
      "kutosistest statistic = 4.656; p-value = <0.01\n"
     ]
    }
   ],
   "source": [
    "# Display the output in a more readable format\n",
    "\n",
    "kurt = stats.kurtosistest(dinner)\n",
    "kurt_stat = (kurt[0].round(3))\n",
    "kurt_pvalue = (\"<0.01\" if kurt[1] < 0.01 else (kurt[1].round(3)))\n",
    "print(f\"kutosistest statistic = {kurt_stat}; p-value = {kurt_pvalue}\")"
   ]
  },
  {
   "cell_type": "code",
   "execution_count": 60,
   "metadata": {},
   "outputs": [
    {
     "data": {
      "text/plain": [
       "NormaltestResult(statistic=61.91875051961301, pvalue=3.585206387430502e-14)"
      ]
     },
     "execution_count": 60,
     "metadata": {},
     "output_type": "execute_result"
    }
   ],
   "source": [
    "# Use the normality test on the 'dinner' sample\n",
    "\n",
    "stats.normaltest(dinner)"
   ]
  },
  {
   "cell_type": "code",
   "execution_count": 61,
   "metadata": {},
   "outputs": [
    {
     "name": "stdout",
     "output_type": "stream",
     "text": [
      "normaltest statistic = 61.919; p-value = <0.01\n"
     ]
    }
   ],
   "source": [
    "# Display the output in a more readable format\n",
    "\n",
    "norm = stats.normaltest(dinner)\n",
    "norm_stat = (norm[0].round(3))\n",
    "norm_pvalue = (\"<0.01\" if norm[1] < 0.01 else (norm[1].round(3)))\n",
    "print(f\"normaltest statistic = {norm_stat}; p-value = {norm_pvalue}\")"
   ]
  },
  {
   "cell_type": "markdown",
   "metadata": {},
   "source": [
    "Overall, these plots and statistics clearly indicate that the normality assumption is not met. We can either solve this by doing a data transformation (more about this later) or by using a non-parametric test instead, which in case of the t-test for two independent samples would be the __Mann-Whitney test__. In Python, we can use the `mannwhitneyu()` function from SciPy to conduct this test."
   ]
  },
  {
   "cell_type": "code",
   "execution_count": 62,
   "metadata": {},
   "outputs": [
    {
     "data": {
      "text/plain": [
       "MannwhitneyuResult(statistic=4905.0, pvalue=0.028828045676793167)"
      ]
     },
     "execution_count": 62,
     "metadata": {},
     "output_type": "execute_result"
    }
   ],
   "source": [
    "# Use the Mann-Whitney test\n",
    "\n",
    "stats.mannwhitneyu(lunch, dinner)"
   ]
  },
  {
   "cell_type": "code",
   "execution_count": 63,
   "metadata": {},
   "outputs": [
    {
     "name": "stdout",
     "output_type": "stream",
     "text": [
      "mann-whitney test statistic = 4905.0; p-value = 0.029\n"
     ]
    }
   ],
   "source": [
    "# Display the output in a more readable format\n",
    "\n",
    "mannwhitneyu = stats.mannwhitneyu(lunch, dinner)\n",
    "mannwhitneyu_stat = (mannwhitneyu[0].round(3))\n",
    "mannwhitneyu_pvalue = (\"<0.01\" if mannwhitneyu[1] < 0.01 else (mannwhitneyu[1].round(3)))\n",
    "print(f\"mann-whitney test statistic = {mannwhitneyu_stat}; p-value = {mannwhitneyu_pvalue}\")"
   ]
  },
  {
   "cell_type": "markdown",
   "metadata": {},
   "source": [
    "Based on the Mann-Whitney test, which in this case seems to be the most appropriate one, given the *p*-value of 0.014, we would reject the null hypothesis and thus conclude that there is a significant difference in tips between lunch time and dinner time."
   ]
  },
  {
   "cell_type": "markdown",
   "metadata": {},
   "source": [
    "### Relationships between a categorical variable with more than two categories and a continuous variable"
   ]
  },
  {
   "cell_type": "markdown",
   "metadata": {},
   "source": [
    "The __one-way ANOVA test__ tests the null hypothesis that two or more groups have the same population mean. The test is applied to samples from two or more groups, possibly with differing sizes. So, for example, to test the following research question using the 'tips' dataset: Is there a significant difference in tips between the four days of the week? In Python, we can use the `f_oneway()` function from SciPy to conduct this test. The one-way anova test has four underlying assumptions:\n",
    "-  The observations must be independent.\n",
    "-  The observations should be drawn from normally distributed populations.\n",
    "-  These populations should have equal variances.\n",
    "-  The measurement level of the dependent variable should be at least interval.\n",
    "\n",
    "Given that these assumptions are exactly the same as for the t-test for two independent samples, you can use the same plots and tests to examine these assumptions. (This (important) step will therefore be skipped in this notebook.) If the assumptions are not met, it may be possible to use the non-parametric alternative for the one-way anova test, which is the __Kruskal-Wallis test__.\n",
    "\n",
    "For more information about the `f_oneway()` function, see: https://docs.scipy.org/doc/scipy/reference/generated/scipy.stats.f_oneway.html  \n",
    "For more information about the `kruskal()` function, see: https://docs.scipy.org/doc/scipy/reference/generated/scipy.stats.kruskal.html"
   ]
  },
  {
   "cell_type": "code",
   "execution_count": 64,
   "metadata": {},
   "outputs": [
    {
     "data": {
      "text/plain": [
       "F_onewayResult(statistic=1.6723551980998699, pvalue=0.1735885553040592)"
      ]
     },
     "execution_count": 64,
     "metadata": {},
     "output_type": "execute_result"
    }
   ],
   "source": [
    "# Use the one-way anova test\n",
    "\n",
    "stats.f_oneway(df_tips.tip[df_tips.day == 'Thur'],\n",
    "               df_tips.tip[df_tips.day == 'Fri'],\n",
    "               df_tips.tip[df_tips.day == 'Sat'],\n",
    "               df_tips.tip[df_tips.day == 'Sun'])"
   ]
  },
  {
   "cell_type": "code",
   "execution_count": 65,
   "metadata": {},
   "outputs": [
    {
     "name": "stdout",
     "output_type": "stream",
     "text": [
      "one-way anova statistic = 1.672; p-value = 0.174\n"
     ]
    }
   ],
   "source": [
    "# Display the output in a more readable format\n",
    "\n",
    "thur = df_tips.tip[df_tips.day == 'Thur']\n",
    "fri = df_tips.tip[df_tips.day == 'Fri']\n",
    "sat = df_tips.tip[df_tips.day == 'Sat']\n",
    "sun = df_tips.tip[df_tips.day == 'Sun']\n",
    "\n",
    "f_oneway = stats.f_oneway(thur, fri, sat, sun)\n",
    "f_oneway_stat = (f_oneway[0].round(3))\n",
    "f_oneway_pvalue = (\"<0.01\" if f_oneway[1] < 0.01 else (f_oneway[1].round(3)))\n",
    "print(f\"one-way anova statistic = {f_oneway_stat}; p-value = {f_oneway_pvalue}\")"
   ]
  },
  {
   "cell_type": "markdown",
   "metadata": {},
   "source": [
    "The null hypothesis in this case is that, on average, there is no significant difference in tips between the four days of the week. In this case, based on the *p*-value of 0.174, we do not reject the null hypothesis with “95% confidence.”"
   ]
  },
  {
   "cell_type": "code",
   "execution_count": 66,
   "metadata": {},
   "outputs": [
    {
     "data": {
      "text/plain": [
       "KruskalResult(statistic=8.565587588927167, pvalue=0.03566056019447427)"
      ]
     },
     "execution_count": 66,
     "metadata": {},
     "output_type": "execute_result"
    }
   ],
   "source": [
    "# Use the Kruskal-Wallis test\n",
    "\n",
    "stats.kruskal(df_tips.tip[df_tips.day == 'Thur'],\n",
    "              df_tips.tip[df_tips.day == 'Fri'],\n",
    "              df_tips.tip[df_tips.day == 'Sat'],\n",
    "              df_tips.tip[df_tips.day == 'Sun'])"
   ]
  },
  {
   "cell_type": "code",
   "execution_count": 67,
   "metadata": {},
   "outputs": [
    {
     "name": "stdout",
     "output_type": "stream",
     "text": [
      "kruskal-wallis statistic = 8.566; p-value = 0.036\n"
     ]
    }
   ],
   "source": [
    "# Display the output in a more readable format\n",
    "\n",
    "kruskal = stats.kruskal(thur, fri, sat, sun)\n",
    "kruskal_stat = (kruskal[0].round(3))\n",
    "kruskal_pvalue = (\"<0.01\" if kruskal[1] < 0.01 else (kruskal[1].round(3)))\n",
    "print(f\"kruskal-wallis statistic = {kruskal_stat}; p-value = {kruskal_pvalue}\")"
   ]
  },
  {
   "cell_type": "markdown",
   "metadata": {},
   "source": [
    "Based on the Kruskal-Wallis test, given the *p*-value of 0.036, we would reject the null hypothesis and thus conclude that there is a significant difference in tips between the four days of the week. The different conclusion compared to the one-way anova test suggests that it is likely that the underlying assumptions of the latter test are not met."
   ]
  },
  {
   "cell_type": "markdown",
   "metadata": {},
   "source": [
    "### Association measures"
   ]
  },
  {
   "cell_type": "markdown",
   "metadata": {},
   "source": [
    "Association measures are statistics that indicate to what extent two variables are associated."
   ]
  },
  {
   "cell_type": "markdown",
   "metadata": {},
   "source": [
    "### Relationships between two continuous variables"
   ]
  },
  {
   "cell_type": "markdown",
   "metadata": {},
   "source": [
    "Before statistically analyzing a relationship between two continuous variables, it is typically informative to first explore this relationship using data visualizations (i.e., a scatterplot)."
   ]
  },
  {
   "cell_type": "code",
   "execution_count": 68,
   "metadata": {},
   "outputs": [
    {
     "data": {
      "image/png": "[encoded data removed]",
      "text/plain": [
       "<Figure size 640x480 with 1 Axes>"
      ]
     },
     "metadata": {},
     "output_type": "display_data"
    }
   ],
   "source": [
    "# Display the basic scatterplot with pandas\n",
    "\n",
    "df_tips.plot.scatter('total_bill', 'tip');\n",
    "\n",
    "#df_tips.plot(kind='scatter', x='total_bill', y='tip');"
   ]
  },
  {
   "cell_type": "code",
   "execution_count": 69,
   "metadata": {},
   "outputs": [
    {
     "data": {
      "image/png": "[encoded data removed]",
      "text/plain": [
       "<Figure size 640x480 with 1 Axes>"
      ]
     },
     "metadata": {},
     "output_type": "display_data"
    }
   ],
   "source": [
    "# Display a more informative scatterplot with pandas\n",
    "\n",
    "df_tips.plot(kind='scatter',\n",
    "             x='total_bill',\n",
    "             y='tip',\n",
    "             c='none',\n",
    "             edgecolor='darkblue',\n",
    "             xlim=[0, 50],\n",
    "             ylim=[0, 10])\n",
    "plt.plot([0, 50], [df_tips.tip.mean(),\n",
    "                   df_tips.tip.mean()], 'k:')\n",
    "plt.plot([df_tips.total_bill.mean(), df_tips.total_bill.mean()],\n",
    "         [0, 10], 'k:')\n",
    "plt.title('Scatterplot of total bill and tip')\n",
    "plt.xlabel('Total bill')\n",
    "plt.ylabel('Tip');"
   ]
  },
  {
   "cell_type": "code",
   "execution_count": 70,
   "metadata": {},
   "outputs": [
    {
     "data": {
      "image/png": "[encoded data removed]",
      "text/plain": [
       "<Figure size 640x480 with 1 Axes>"
      ]
     },
     "metadata": {},
     "output_type": "display_data"
    }
   ],
   "source": [
    "# Display a more informative scatterplot with seaborn\n",
    "\n",
    "sns.regplot(x='total_bill', y='tip', data=df_tips,  marker='.')\n",
    "plt.xlabel('Total bill')\n",
    "plt.ylabel('Tip')\n",
    "plt.title(\"Relationship between total bill and tip\", fontsize=15);"
   ]
  },
  {
   "cell_type": "code",
   "execution_count": 71,
   "metadata": {},
   "outputs": [
    {
     "data": {
      "image/png": "[encoded data removed]",
      "text/plain": [
       "<Figure size 640x480 with 1 Axes>"
      ]
     },
     "metadata": {},
     "output_type": "display_data"
    }
   ],
   "source": [
    "# Display a more informative scatterplot with seaborn\n",
    "\n",
    "sns.regplot(x='total_bill', y='tip', data=df_tips, scatter_kws={'s':3}, ci=False)\n",
    "plt.xlabel('Total bill')\n",
    "plt.ylabel('Tip')\n",
    "plt.title(\"Relationship between total bill and tip\", fontsize=15);"
   ]
  },
  {
   "cell_type": "markdown",
   "metadata": {},
   "source": [
    "The most widely used association measure is the __Pearson correlation coefficient__. The Pearson correlation coefficient measures the linear relationship between two continuous variables. So it can, for example, be used to test the following research question using the 'tips' dataset: Is there a significant relationship between the total bill amounts and the paid tips? Like other correlation coefficients, this one varies between -1 and +1 with 0 implying no correlation. Correlations of -1 or +1 imply an exact linear relationship. Positive correlations imply that as x increases, so does y. Negative correlations imply that as x increases, y decreases. In Python, we can use the `pearsonr()` function from SciPy to conduct this test. The Pearson correlation coefficent has four underlying assumptions:\n",
    "-  The observations must be independent.\n",
    "-  The observations should be drawn from normally distributed populations.\n",
    "-  The relationship between the two continuous variables is linear.\n",
    "-  The measurement level of the dependent variable should be at least interval.\n",
    "\n",
    "If these assumptions are not met, it may be possible to use the non-parametric alternative for the Pearson correlation coefficient, which is the __Spearman correlation coefficient__.\n",
    "\n",
    "For more information about the `pearsonr()` function, see: https://docs.scipy.org/doc/scipy/reference/generated/scipy.stats.pearsonr.html  \n",
    "For more information about the `spearmanr()` function, see: https://docs.scipy.org/doc/scipy/reference/generated/scipy.stats.spearmanr.html"
   ]
  },
  {
   "cell_type": "code",
   "execution_count": 72,
   "metadata": {},
   "outputs": [
    {
     "data": {
      "text/plain": [
       "0.6757341092113641"
      ]
     },
     "execution_count": 72,
     "metadata": {},
     "output_type": "execute_result"
    }
   ],
   "source": [
    "# Calculate the Pearson correlation with pandas\n",
    "\n",
    "df_tips.total_bill.corr(df_tips.tip)"
   ]
  },
  {
   "cell_type": "code",
   "execution_count": 73,
   "metadata": {},
   "outputs": [
    {
     "data": {
      "text/plain": [
       "PearsonRResult(statistic=0.6757341092113645, pvalue=6.692470646863477e-34)"
      ]
     },
     "execution_count": 73,
     "metadata": {},
     "output_type": "execute_result"
    }
   ],
   "source": [
    "# Calculate the Pearson correlation with SciPy\n",
    "\n",
    "stats.pearsonr(df_tips.total_bill, df_tips.tip)"
   ]
  },
  {
   "cell_type": "code",
   "execution_count": 74,
   "metadata": {},
   "outputs": [
    {
     "name": "stdout",
     "output_type": "stream",
     "text": [
      "Pearson r statistic = 0.676; p-value = <0.01\n"
     ]
    }
   ],
   "source": [
    "# Display the output in a more readable format\n",
    "\n",
    "pearsonr = stats.pearsonr(df_tips.total_bill, df_tips.tip)\n",
    "pearsonr_stat = (pearsonr[0].round(3))\n",
    "pearsonr_pvalue = (\"<0.01\" if pearsonr[1] < 0.01 else (pearsonr[1].round(3)))\n",
    "print(f\"Pearson r statistic = {pearsonr_stat}; p-value = {pearsonr_pvalue}\")"
   ]
  },
  {
   "cell_type": "markdown",
   "metadata": {},
   "source": [
    "Based on the Pearson correlation coefficient, given the *p*-value of <0.01, we would reject the null hypothesis and thus conclude that there is a significant relationship between the total bill amounts and the paid tips."
   ]
  },
  {
   "cell_type": "code",
   "execution_count": 75,
   "metadata": {},
   "outputs": [
    {
     "data": {
      "text/plain": [
       "SignificanceResult(statistic=0.6789681219001009, pvalue=2.501158440923619e-34)"
      ]
     },
     "execution_count": 75,
     "metadata": {},
     "output_type": "execute_result"
    }
   ],
   "source": [
    "# Calculate the Spearman correlation with SciPy\n",
    "\n",
    "from scipy.stats import spearmanr\n",
    "spearmanr(df_tips.total_bill, df_tips.tip)"
   ]
  },
  {
   "cell_type": "code",
   "execution_count": 76,
   "metadata": {},
   "outputs": [
    {
     "name": "stdout",
     "output_type": "stream",
     "text": [
      "Spearman r statistic = 0.679; p-value = <0.01\n"
     ]
    }
   ],
   "source": [
    "# Display the output in a more readable format\n",
    "\n",
    "spearmanr = spearmanr(df_tips.total_bill, df_tips.tip)\n",
    "spearmanr_stat = (spearmanr[0].round(3))\n",
    "spearmanr_pvalue = (\"<0.01\" if spearmanr[1] < 0.01 else (spearmanr[1].round(3)))\n",
    "print(f\"Spearman r statistic = {spearmanr_stat}; p-value = {spearmanr_pvalue}\")"
   ]
  },
  {
   "cell_type": "markdown",
   "metadata": {},
   "source": [
    "Based on the Spearman correlation coefficient, given the *p*-value of <0.01, we would reject the null hypothesis and thus conclude that there is a significant relationship between the total bill amounts and the paid tips."
   ]
  },
  {
   "cell_type": "markdown",
   "metadata": {},
   "source": [
    "Instead of calculating the correlation coefficient between just two variables, you can also calculate the correlation coefficients among all continuous variables (i.e., all columns with a numeric data type in a DataFrame) simultaneously."
   ]
  },
  {
   "cell_type": "code",
   "execution_count": 77,
   "metadata": {},
   "outputs": [
    {
     "data": {
      "text/html": [
       "<div>\n",
       "<style scoped>\n",
       "    .dataframe tbody tr th:only-of-type {\n",
       "        vertical-align: middle;\n",
       "    }\n",
       "\n",
       "    .dataframe tbody tr th {\n",
       "        vertical-align: top;\n",
       "    }\n",
       "\n",
       "    .dataframe thead th {\n",
       "        text-align: right;\n",
       "    }\n",
       "</style>\n",
       "<table border=\"1\" class=\"dataframe\">\n",
       "  <thead>\n",
       "    <tr style=\"text-align: right;\">\n",
       "      <th></th>\n",
       "      <th>total_bill</th>\n",
       "      <th>tip</th>\n",
       "      <th>size</th>\n",
       "    </tr>\n",
       "  </thead>\n",
       "  <tbody>\n",
       "    <tr>\n",
       "      <th>total_bill</th>\n",
       "      <td>1.000000</td>\n",
       "      <td>0.675734</td>\n",
       "      <td>0.598315</td>\n",
       "    </tr>\n",
       "    <tr>\n",
       "      <th>tip</th>\n",
       "      <td>0.675734</td>\n",
       "      <td>1.000000</td>\n",
       "      <td>0.489299</td>\n",
       "    </tr>\n",
       "    <tr>\n",
       "      <th>size</th>\n",
       "      <td>0.598315</td>\n",
       "      <td>0.489299</td>\n",
       "      <td>1.000000</td>\n",
       "    </tr>\n",
       "  </tbody>\n",
       "</table>\n",
       "</div>"
      ],
      "text/plain": [
       "            total_bill       tip      size\n",
       "total_bill    1.000000  0.675734  0.598315\n",
       "tip           0.675734  1.000000  0.489299\n",
       "size          0.598315  0.489299  1.000000"
      ]
     },
     "execution_count": 77,
     "metadata": {},
     "output_type": "execute_result"
    }
   ],
   "source": [
    "# Calculate the correlation coefficients among all continuous variables using pandas\n",
    "\n",
    "df_tips.corr(method='pearson')\n",
    "#df_tips.corr(method='spearman')"
   ]
  },
  {
   "cell_type": "markdown",
   "metadata": {},
   "source": [
    "## Potential remedies for violation of the normality assumption <a name=\"Wk3_d\"></a>"
   ]
  },
  {
   "cell_type": "markdown",
   "metadata": {},
   "source": [
    "An important assumption for many statistical tests is the normality assumption. There are many approaches for handling a situation in which this assumption is not met, such as using a non-parametric alternative instead of a parametric statistical test. Two other widely used approaches are:\n",
    "- winsorizing : With this approach, the extreme values, or outliers, are all set to a specified percentile (or to specified percentiles) of the data. In Python, we can use the `mstats.winsorize()` function from SciPy to winsorize a continuous variable, where the (limits[0])th lowest values are set to the (limits[0])th percentile, and the (limits[1])th highest values are set to the (1 - limits[1])th percentile.\n",
    "- data transformations : With this approach, the data are transformed, for example by calculating their natural logarithm. An important point of attention with logarithmic transformations is that observations may be treated differently depending on their value. More specifically, the logarithm of negative values and 0 doesn't exist, and positive values are treated differently when calculating their logarithm depending on whether they are smaller or larger than 1. Below, following recommendations by methodologists, I define a function ('natural_log') that avoids these potential problems by, if necessary, shifting a variable's distribution such that its minimum value becomes 1 before calculating its natural logarithm.\n",
    "\n",
    "\n",
    "\n",
    "\n",
    "For more information about the `mstats.winsorize()` function, see: https://docs.scipy.org/doc/scipy/reference/generated/scipy.stats.mstats.winsorize.html"
   ]
  },
  {
   "cell_type": "code",
   "execution_count": 78,
   "metadata": {},
   "outputs": [
    {
     "data": {
      "text/html": [
       "<div>\n",
       "<style scoped>\n",
       "    .dataframe tbody tr th:only-of-type {\n",
       "        vertical-align: middle;\n",
       "    }\n",
       "\n",
       "    .dataframe tbody tr th {\n",
       "        vertical-align: top;\n",
       "    }\n",
       "\n",
       "    .dataframe thead th {\n",
       "        text-align: right;\n",
       "    }\n",
       "</style>\n",
       "<table border=\"1\" class=\"dataframe\">\n",
       "  <thead>\n",
       "    <tr style=\"text-align: right;\">\n",
       "      <th></th>\n",
       "      <th>total_bill</th>\n",
       "      <th>tip</th>\n",
       "      <th>sex</th>\n",
       "      <th>smoker</th>\n",
       "      <th>day</th>\n",
       "      <th>time</th>\n",
       "      <th>size</th>\n",
       "      <th>tip_wins</th>\n",
       "    </tr>\n",
       "  </thead>\n",
       "  <tbody>\n",
       "    <tr>\n",
       "      <th>0</th>\n",
       "      <td>16.99</td>\n",
       "      <td>1.01</td>\n",
       "      <td>Female</td>\n",
       "      <td>No</td>\n",
       "      <td>Sun</td>\n",
       "      <td>Dinner</td>\n",
       "      <td>2</td>\n",
       "      <td>1.44</td>\n",
       "    </tr>\n",
       "    <tr>\n",
       "      <th>1</th>\n",
       "      <td>10.34</td>\n",
       "      <td>1.66</td>\n",
       "      <td>Male</td>\n",
       "      <td>No</td>\n",
       "      <td>Sun</td>\n",
       "      <td>Dinner</td>\n",
       "      <td>3</td>\n",
       "      <td>1.66</td>\n",
       "    </tr>\n",
       "    <tr>\n",
       "      <th>2</th>\n",
       "      <td>21.01</td>\n",
       "      <td>3.50</td>\n",
       "      <td>Male</td>\n",
       "      <td>No</td>\n",
       "      <td>Sun</td>\n",
       "      <td>Dinner</td>\n",
       "      <td>3</td>\n",
       "      <td>3.50</td>\n",
       "    </tr>\n",
       "    <tr>\n",
       "      <th>3</th>\n",
       "      <td>23.68</td>\n",
       "      <td>3.31</td>\n",
       "      <td>Male</td>\n",
       "      <td>No</td>\n",
       "      <td>Sun</td>\n",
       "      <td>Dinner</td>\n",
       "      <td>2</td>\n",
       "      <td>3.31</td>\n",
       "    </tr>\n",
       "    <tr>\n",
       "      <th>4</th>\n",
       "      <td>24.59</td>\n",
       "      <td>3.61</td>\n",
       "      <td>Female</td>\n",
       "      <td>No</td>\n",
       "      <td>Sun</td>\n",
       "      <td>Dinner</td>\n",
       "      <td>4</td>\n",
       "      <td>3.61</td>\n",
       "    </tr>\n",
       "    <tr>\n",
       "      <th>...</th>\n",
       "      <td>...</td>\n",
       "      <td>...</td>\n",
       "      <td>...</td>\n",
       "      <td>...</td>\n",
       "      <td>...</td>\n",
       "      <td>...</td>\n",
       "      <td>...</td>\n",
       "      <td>...</td>\n",
       "    </tr>\n",
       "    <tr>\n",
       "      <th>239</th>\n",
       "      <td>29.03</td>\n",
       "      <td>5.92</td>\n",
       "      <td>Male</td>\n",
       "      <td>No</td>\n",
       "      <td>Sat</td>\n",
       "      <td>Dinner</td>\n",
       "      <td>3</td>\n",
       "      <td>5.20</td>\n",
       "    </tr>\n",
       "    <tr>\n",
       "      <th>240</th>\n",
       "      <td>27.18</td>\n",
       "      <td>2.00</td>\n",
       "      <td>Female</td>\n",
       "      <td>Yes</td>\n",
       "      <td>Sat</td>\n",
       "      <td>Dinner</td>\n",
       "      <td>2</td>\n",
       "      <td>2.00</td>\n",
       "    </tr>\n",
       "    <tr>\n",
       "      <th>241</th>\n",
       "      <td>22.67</td>\n",
       "      <td>2.00</td>\n",
       "      <td>Male</td>\n",
       "      <td>Yes</td>\n",
       "      <td>Sat</td>\n",
       "      <td>Dinner</td>\n",
       "      <td>2</td>\n",
       "      <td>2.00</td>\n",
       "    </tr>\n",
       "    <tr>\n",
       "      <th>242</th>\n",
       "      <td>17.82</td>\n",
       "      <td>1.75</td>\n",
       "      <td>Male</td>\n",
       "      <td>No</td>\n",
       "      <td>Sat</td>\n",
       "      <td>Dinner</td>\n",
       "      <td>2</td>\n",
       "      <td>1.75</td>\n",
       "    </tr>\n",
       "    <tr>\n",
       "      <th>243</th>\n",
       "      <td>18.78</td>\n",
       "      <td>3.00</td>\n",
       "      <td>Female</td>\n",
       "      <td>No</td>\n",
       "      <td>Thur</td>\n",
       "      <td>Dinner</td>\n",
       "      <td>2</td>\n",
       "      <td>3.00</td>\n",
       "    </tr>\n",
       "  </tbody>\n",
       "</table>\n",
       "<p>244 rows × 8 columns</p>\n",
       "</div>"
      ],
      "text/plain": [
       "     total_bill   tip     sex smoker   day    time  size  tip_wins\n",
       "0         16.99  1.01  Female     No   Sun  Dinner     2      1.44\n",
       "1         10.34  1.66    Male     No   Sun  Dinner     3      1.66\n",
       "2         21.01  3.50    Male     No   Sun  Dinner     3      3.50\n",
       "3         23.68  3.31    Male     No   Sun  Dinner     2      3.31\n",
       "4         24.59  3.61  Female     No   Sun  Dinner     4      3.61\n",
       "..          ...   ...     ...    ...   ...     ...   ...       ...\n",
       "239       29.03  5.92    Male     No   Sat  Dinner     3      5.20\n",
       "240       27.18  2.00  Female    Yes   Sat  Dinner     2      2.00\n",
       "241       22.67  2.00    Male    Yes   Sat  Dinner     2      2.00\n",
       "242       17.82  1.75    Male     No   Sat  Dinner     2      1.75\n",
       "243       18.78  3.00  Female     No  Thur  Dinner     2      3.00\n",
       "\n",
       "[244 rows x 8 columns]"
      ]
     },
     "execution_count": 78,
     "metadata": {},
     "output_type": "execute_result"
    }
   ],
   "source": [
    "# Create a new variable ('tip_wins') by winsorizing the 'tip' variable\n",
    "\n",
    "df_tips['tip_wins'] = stats.mstats.winsorize(df_tips.tip, limits=[0.05, 0.05])\n",
    "df_tips"
   ]
  },
  {
   "cell_type": "code",
   "execution_count": 79,
   "metadata": {},
   "outputs": [
    {
     "data": {
      "text/html": [
       "<div>\n",
       "<style scoped>\n",
       "    .dataframe tbody tr th:only-of-type {\n",
       "        vertical-align: middle;\n",
       "    }\n",
       "\n",
       "    .dataframe tbody tr th {\n",
       "        vertical-align: top;\n",
       "    }\n",
       "\n",
       "    .dataframe thead th {\n",
       "        text-align: right;\n",
       "    }\n",
       "</style>\n",
       "<table border=\"1\" class=\"dataframe\">\n",
       "  <thead>\n",
       "    <tr style=\"text-align: right;\">\n",
       "      <th></th>\n",
       "      <th>count</th>\n",
       "      <th>mean</th>\n",
       "      <th>std</th>\n",
       "      <th>min</th>\n",
       "      <th>25%</th>\n",
       "      <th>50%</th>\n",
       "      <th>75%</th>\n",
       "      <th>max</th>\n",
       "    </tr>\n",
       "  </thead>\n",
       "  <tbody>\n",
       "    <tr>\n",
       "      <th>tip</th>\n",
       "      <td>244.0</td>\n",
       "      <td>2.998</td>\n",
       "      <td>1.384</td>\n",
       "      <td>1.00</td>\n",
       "      <td>2.0</td>\n",
       "      <td>2.9</td>\n",
       "      <td>3.562</td>\n",
       "      <td>10.0</td>\n",
       "    </tr>\n",
       "    <tr>\n",
       "      <th>tip_wins</th>\n",
       "      <td>244.0</td>\n",
       "      <td>2.932</td>\n",
       "      <td>1.134</td>\n",
       "      <td>1.44</td>\n",
       "      <td>2.0</td>\n",
       "      <td>2.9</td>\n",
       "      <td>3.562</td>\n",
       "      <td>5.2</td>\n",
       "    </tr>\n",
       "  </tbody>\n",
       "</table>\n",
       "</div>"
      ],
      "text/plain": [
       "          count   mean    std   min  25%  50%    75%   max\n",
       "tip       244.0  2.998  1.384  1.00  2.0  2.9  3.562  10.0\n",
       "tip_wins  244.0  2.932  1.134  1.44  2.0  2.9  3.562   5.2"
      ]
     },
     "execution_count": 79,
     "metadata": {},
     "output_type": "execute_result"
    }
   ],
   "source": [
    "# Display summary statistics\n",
    "\n",
    "df_tips[['tip', 'tip_wins']].describe().round(3).T"
   ]
  },
  {
   "cell_type": "code",
   "execution_count": 80,
   "metadata": {},
   "outputs": [],
   "source": [
    "# Define the 'natural_log' function\n",
    "\n",
    "def natural_log(x):\n",
    "    if min(x) < 1:\n",
    "        if min(x) < 0:\n",
    "            x += (min(x)*-1) + 1\n",
    "        else:\n",
    "            x += (1 - min(x))\n",
    "    return np.log(x)"
   ]
  },
  {
   "cell_type": "code",
   "execution_count": 81,
   "metadata": {},
   "outputs": [
    {
     "data": {
      "text/html": [
       "<div>\n",
       "<style scoped>\n",
       "    .dataframe tbody tr th:only-of-type {\n",
       "        vertical-align: middle;\n",
       "    }\n",
       "\n",
       "    .dataframe tbody tr th {\n",
       "        vertical-align: top;\n",
       "    }\n",
       "\n",
       "    .dataframe thead th {\n",
       "        text-align: right;\n",
       "    }\n",
       "</style>\n",
       "<table border=\"1\" class=\"dataframe\">\n",
       "  <thead>\n",
       "    <tr style=\"text-align: right;\">\n",
       "      <th></th>\n",
       "      <th>total_bill</th>\n",
       "      <th>tip</th>\n",
       "      <th>sex</th>\n",
       "      <th>smoker</th>\n",
       "      <th>day</th>\n",
       "      <th>time</th>\n",
       "      <th>size</th>\n",
       "      <th>tip_wins</th>\n",
       "      <th>tip_ln</th>\n",
       "    </tr>\n",
       "  </thead>\n",
       "  <tbody>\n",
       "    <tr>\n",
       "      <th>0</th>\n",
       "      <td>16.99</td>\n",
       "      <td>1.01</td>\n",
       "      <td>Female</td>\n",
       "      <td>No</td>\n",
       "      <td>Sun</td>\n",
       "      <td>Dinner</td>\n",
       "      <td>2</td>\n",
       "      <td>1.44</td>\n",
       "      <td>0.009950</td>\n",
       "    </tr>\n",
       "    <tr>\n",
       "      <th>1</th>\n",
       "      <td>10.34</td>\n",
       "      <td>1.66</td>\n",
       "      <td>Male</td>\n",
       "      <td>No</td>\n",
       "      <td>Sun</td>\n",
       "      <td>Dinner</td>\n",
       "      <td>3</td>\n",
       "      <td>1.66</td>\n",
       "      <td>0.506818</td>\n",
       "    </tr>\n",
       "    <tr>\n",
       "      <th>2</th>\n",
       "      <td>21.01</td>\n",
       "      <td>3.50</td>\n",
       "      <td>Male</td>\n",
       "      <td>No</td>\n",
       "      <td>Sun</td>\n",
       "      <td>Dinner</td>\n",
       "      <td>3</td>\n",
       "      <td>3.50</td>\n",
       "      <td>1.252763</td>\n",
       "    </tr>\n",
       "    <tr>\n",
       "      <th>3</th>\n",
       "      <td>23.68</td>\n",
       "      <td>3.31</td>\n",
       "      <td>Male</td>\n",
       "      <td>No</td>\n",
       "      <td>Sun</td>\n",
       "      <td>Dinner</td>\n",
       "      <td>2</td>\n",
       "      <td>3.31</td>\n",
       "      <td>1.196948</td>\n",
       "    </tr>\n",
       "    <tr>\n",
       "      <th>4</th>\n",
       "      <td>24.59</td>\n",
       "      <td>3.61</td>\n",
       "      <td>Female</td>\n",
       "      <td>No</td>\n",
       "      <td>Sun</td>\n",
       "      <td>Dinner</td>\n",
       "      <td>4</td>\n",
       "      <td>3.61</td>\n",
       "      <td>1.283708</td>\n",
       "    </tr>\n",
       "    <tr>\n",
       "      <th>...</th>\n",
       "      <td>...</td>\n",
       "      <td>...</td>\n",
       "      <td>...</td>\n",
       "      <td>...</td>\n",
       "      <td>...</td>\n",
       "      <td>...</td>\n",
       "      <td>...</td>\n",
       "      <td>...</td>\n",
       "      <td>...</td>\n",
       "    </tr>\n",
       "    <tr>\n",
       "      <th>239</th>\n",
       "      <td>29.03</td>\n",
       "      <td>5.92</td>\n",
       "      <td>Male</td>\n",
       "      <td>No</td>\n",
       "      <td>Sat</td>\n",
       "      <td>Dinner</td>\n",
       "      <td>3</td>\n",
       "      <td>5.20</td>\n",
       "      <td>1.778336</td>\n",
       "    </tr>\n",
       "    <tr>\n",
       "      <th>240</th>\n",
       "      <td>27.18</td>\n",
       "      <td>2.00</td>\n",
       "      <td>Female</td>\n",
       "      <td>Yes</td>\n",
       "      <td>Sat</td>\n",
       "      <td>Dinner</td>\n",
       "      <td>2</td>\n",
       "      <td>2.00</td>\n",
       "      <td>0.693147</td>\n",
       "    </tr>\n",
       "    <tr>\n",
       "      <th>241</th>\n",
       "      <td>22.67</td>\n",
       "      <td>2.00</td>\n",
       "      <td>Male</td>\n",
       "      <td>Yes</td>\n",
       "      <td>Sat</td>\n",
       "      <td>Dinner</td>\n",
       "      <td>2</td>\n",
       "      <td>2.00</td>\n",
       "      <td>0.693147</td>\n",
       "    </tr>\n",
       "    <tr>\n",
       "      <th>242</th>\n",
       "      <td>17.82</td>\n",
       "      <td>1.75</td>\n",
       "      <td>Male</td>\n",
       "      <td>No</td>\n",
       "      <td>Sat</td>\n",
       "      <td>Dinner</td>\n",
       "      <td>2</td>\n",
       "      <td>1.75</td>\n",
       "      <td>0.559616</td>\n",
       "    </tr>\n",
       "    <tr>\n",
       "      <th>243</th>\n",
       "      <td>18.78</td>\n",
       "      <td>3.00</td>\n",
       "      <td>Female</td>\n",
       "      <td>No</td>\n",
       "      <td>Thur</td>\n",
       "      <td>Dinner</td>\n",
       "      <td>2</td>\n",
       "      <td>3.00</td>\n",
       "      <td>1.098612</td>\n",
       "    </tr>\n",
       "  </tbody>\n",
       "</table>\n",
       "<p>244 rows × 9 columns</p>\n",
       "</div>"
      ],
      "text/plain": [
       "     total_bill   tip     sex smoker   day    time  size  tip_wins    tip_ln\n",
       "0         16.99  1.01  Female     No   Sun  Dinner     2      1.44  0.009950\n",
       "1         10.34  1.66    Male     No   Sun  Dinner     3      1.66  0.506818\n",
       "2         21.01  3.50    Male     No   Sun  Dinner     3      3.50  1.252763\n",
       "3         23.68  3.31    Male     No   Sun  Dinner     2      3.31  1.196948\n",
       "4         24.59  3.61  Female     No   Sun  Dinner     4      3.61  1.283708\n",
       "..          ...   ...     ...    ...   ...     ...   ...       ...       ...\n",
       "239       29.03  5.92    Male     No   Sat  Dinner     3      5.20  1.778336\n",
       "240       27.18  2.00  Female    Yes   Sat  Dinner     2      2.00  0.693147\n",
       "241       22.67  2.00    Male    Yes   Sat  Dinner     2      2.00  0.693147\n",
       "242       17.82  1.75    Male     No   Sat  Dinner     2      1.75  0.559616\n",
       "243       18.78  3.00  Female     No  Thur  Dinner     2      3.00  1.098612\n",
       "\n",
       "[244 rows x 9 columns]"
      ]
     },
     "execution_count": 81,
     "metadata": {},
     "output_type": "execute_result"
    }
   ],
   "source": [
    "# Create a new variable ('tip_ln') by transforming the 'tip' variable\n",
    "\n",
    "df_tips['tip_ln'] = natural_log(df_tips.tip)\n",
    "df_tips"
   ]
  },
  {
   "cell_type": "code",
   "execution_count": 82,
   "metadata": {},
   "outputs": [
    {
     "data": {
      "text/html": [
       "<div>\n",
       "<style scoped>\n",
       "    .dataframe tbody tr th:only-of-type {\n",
       "        vertical-align: middle;\n",
       "    }\n",
       "\n",
       "    .dataframe tbody tr th {\n",
       "        vertical-align: top;\n",
       "    }\n",
       "\n",
       "    .dataframe thead th {\n",
       "        text-align: right;\n",
       "    }\n",
       "</style>\n",
       "<table border=\"1\" class=\"dataframe\">\n",
       "  <thead>\n",
       "    <tr style=\"text-align: right;\">\n",
       "      <th></th>\n",
       "      <th>count</th>\n",
       "      <th>mean</th>\n",
       "      <th>std</th>\n",
       "      <th>min</th>\n",
       "      <th>25%</th>\n",
       "      <th>50%</th>\n",
       "      <th>75%</th>\n",
       "      <th>max</th>\n",
       "    </tr>\n",
       "  </thead>\n",
       "  <tbody>\n",
       "    <tr>\n",
       "      <th>tip</th>\n",
       "      <td>244.0</td>\n",
       "      <td>2.998</td>\n",
       "      <td>1.384</td>\n",
       "      <td>1.0</td>\n",
       "      <td>2.000</td>\n",
       "      <td>2.900</td>\n",
       "      <td>3.562</td>\n",
       "      <td>10.000</td>\n",
       "    </tr>\n",
       "    <tr>\n",
       "      <th>tip_ln</th>\n",
       "      <td>244.0</td>\n",
       "      <td>1.003</td>\n",
       "      <td>0.436</td>\n",
       "      <td>0.0</td>\n",
       "      <td>0.693</td>\n",
       "      <td>1.065</td>\n",
       "      <td>1.270</td>\n",
       "      <td>2.303</td>\n",
       "    </tr>\n",
       "  </tbody>\n",
       "</table>\n",
       "</div>"
      ],
      "text/plain": [
       "        count   mean    std  min    25%    50%    75%     max\n",
       "tip     244.0  2.998  1.384  1.0  2.000  2.900  3.562  10.000\n",
       "tip_ln  244.0  1.003  0.436  0.0  0.693  1.065  1.270   2.303"
      ]
     },
     "execution_count": 82,
     "metadata": {},
     "output_type": "execute_result"
    }
   ],
   "source": [
    "# Display summary statistics\n",
    "\n",
    "df_tips[['tip', 'tip_ln']].describe().round(3).T"
   ]
  },
  {
   "cell_type": "markdown",
   "metadata": {},
   "source": [
    "## Application of basic statistical analysis - Anomaly detection <a name=\"Wk3_e\"></a>"
   ]
  },
  {
   "cell_type": "markdown",
   "metadata": {},
   "source": [
    "Anomaly detection refers to the process of \"searching for and identifying examples of atypical data in a dataset. These nonconforming cases are often referred to as *anomalies* or *outliers*. This process is often used in analyzing financial transactions to identify potential fraudulent activities and to trigger investigations.\" (Kelleher and Tierney, 2018, p. 239). Anomaly detection does not necessarily involve a single or a few cases in a dataset, but can also involve a larger subset or even the overall pattern of the data. A good example that is regularly used for accounting fraud detection is what is known as Benford's law. As explained on Wikipedia, \"Benford's law is an observation about the frequency distribution of leading digits in many real-life sets of numerical data. The law states that in many naturally occurring collections of numbers, the leading digit is likely to be small. In sets that obey the law, the number 1 appears as the leading significant digit about 30% of the time, while 9 appears as the leading significant digit less than 5% of the time. If the digits were distributed uniformly, they would each occur about 11.1% of the time. Benford's law also makes predictions about the distribution of second digits, third digits, digit combinations, and so on.\" More specifically, Benford's Law is based on base-10 logarithms that show the probability that the leading digit(s) of a number will be n (i.e., P(n)) can be calculated as __log10(1+1/n)__.\n",
    "\n",
    "In addition to Benford's law, which involves the frequency distribution of the first digit(s) in sets of numerical data, there can also be other patterns of interest, for example ones that involve the frequency distribution of the last digit(s) in sets of numerical data. That is, depending on the kind of operations and selling prices of a firm, one may have expections about the frequency distribution of the last digit(s) of (for instance) the sales revenue of individual transactions in a period. For example, given that a transaction at a supermarket typically involves multiple products and selling prices with different last digits, one may expect to find a uniform distribution when analyzing the frequency distribution of the last digit(s) of the sales revenue of all transactions in a period. On the other hand, given that a transaction at an electronics shop typically involves one product and selling prices with a 5 or 9 as the last digit, in such a firm, one may expect to find a different distribution when analyzing the frequency distribution of the last digit(s) of the sales revenue of all transactions in a period.\n",
    "\n",
    "I will first show how Python codes can be used to analyze whether the frequency distribution of a variable is consistent with Benford's law or not, where I will focus on the first two digits of the values of this variable. Next, I will show how Python codes can be used to analyze whether the frequency distribution of a variable is consistent with a uniform distribution or not, where I will focus on the last digit of the values of this variable. The dataset that I will analyze contains the expenditures (amounts) by employees of a small firm during the year 2020."
   ]
  },
  {
   "cell_type": "code",
   "execution_count": 83,
   "metadata": {},
   "outputs": [
    {
     "data": {
      "text/html": [
       "<div>\n",
       "<style scoped>\n",
       "    .dataframe tbody tr th:only-of-type {\n",
       "        vertical-align: middle;\n",
       "    }\n",
       "\n",
       "    .dataframe tbody tr th {\n",
       "        vertical-align: top;\n",
       "    }\n",
       "\n",
       "    .dataframe thead th {\n",
       "        text-align: right;\n",
       "    }\n",
       "</style>\n",
       "<table border=\"1\" class=\"dataframe\">\n",
       "  <thead>\n",
       "    <tr style=\"text-align: right;\">\n",
       "      <th></th>\n",
       "      <th>exp_no</th>\n",
       "      <th>employee_no</th>\n",
       "      <th>date</th>\n",
       "      <th>amount</th>\n",
       "    </tr>\n",
       "  </thead>\n",
       "  <tbody>\n",
       "    <tr>\n",
       "      <th>0</th>\n",
       "      <td>E00001</td>\n",
       "      <td>Emp0013</td>\n",
       "      <td>2020-01-03</td>\n",
       "      <td>586</td>\n",
       "    </tr>\n",
       "    <tr>\n",
       "      <th>1</th>\n",
       "      <td>E00002</td>\n",
       "      <td>Emp0016</td>\n",
       "      <td>2020-01-04</td>\n",
       "      <td>289</td>\n",
       "    </tr>\n",
       "    <tr>\n",
       "      <th>2</th>\n",
       "      <td>E00003</td>\n",
       "      <td>Emp0005</td>\n",
       "      <td>2020-01-05</td>\n",
       "      <td>73</td>\n",
       "    </tr>\n",
       "    <tr>\n",
       "      <th>3</th>\n",
       "      <td>E00004</td>\n",
       "      <td>Emp0004</td>\n",
       "      <td>2020-01-07</td>\n",
       "      <td>118</td>\n",
       "    </tr>\n",
       "    <tr>\n",
       "      <th>4</th>\n",
       "      <td>E00005</td>\n",
       "      <td>Emp0008</td>\n",
       "      <td>2020-01-07</td>\n",
       "      <td>97</td>\n",
       "    </tr>\n",
       "  </tbody>\n",
       "</table>\n",
       "</div>"
      ],
      "text/plain": [
       "   exp_no employee_no        date  amount\n",
       "0  E00001     Emp0013  2020-01-03     586\n",
       "1  E00002     Emp0016  2020-01-04     289\n",
       "2  E00003     Emp0005  2020-01-05      73\n",
       "3  E00004     Emp0004  2020-01-07     118\n",
       "4  E00005     Emp0008  2020-01-07      97"
      ]
     },
     "execution_count": 83,
     "metadata": {},
     "output_type": "execute_result"
    }
   ],
   "source": [
    "# Import the data\n",
    "\n",
    "df_exp = pd.read_csv('data/expenditures_adj.csv')\n",
    "df_exp.head()"
   ]
  },
  {
   "cell_type": "markdown",
   "metadata": {},
   "source": [
    "### Benford's law (first two digits)"
   ]
  },
  {
   "cell_type": "markdown",
   "metadata": {},
   "source": [
    "Let's now first analyze whether the frequency distribution of the 'amount' variable is consistent with Benford's law or not, when focussing on the first two digits of the values of this variable, both statistically and graphically."
   ]
  },
  {
   "cell_type": "code",
   "execution_count": 84,
   "metadata": {},
   "outputs": [
    {
     "name": "stdout",
     "output_type": "stream",
     "text": [
      "[22, 9, 6, 6, 1, 0, 1, 0, 4, 0, 2, 1, 2, 0, 0, 1, 5, 0, 2, 0, 2, 0, 0, 0, 0, 0, 1, 1, 1, 3, 0, 2, 0, 2, 3, 8, 16, 14, 23, 27, 17, 8, 5, 3, 2, 1, 1, 1, 3, 0, 2, 2, 1, 1, 2, 8, 0, 0, 3, 1, 3, 1, 2, 3, 2, 2, 2, 6, 4, 3, 3, 1, 5, 2, 1, 3, 6, 5, 2, 4, 4, 3, 3, 3, 6, 1, 6, 6, 6, 7]\n",
      "[14.0, 13.0, 12.0, 11.0, 10.0, 9.0, 9.0, 8.0, 8.0, 7.0, 7.0, 7.0, 6.0, 6.0, 6.0, 6.0, 5.0, 5.0, 5.0, 5.0, 5.0, 5.0, 4.0, 4.0, 4.0, 4.0, 4.0, 4.0, 4.0, 4.0, 4.0, 3.0, 3.0, 3.0, 3.0, 3.0, 3.0, 3.0, 3.0, 3.0, 3.0, 3.0, 3.0, 3.0, 3.0, 3.0, 3.0, 3.0, 2.0, 2.0, 2.0, 2.0, 2.0, 2.0, 2.0, 2.0, 2.0, 2.0, 2.0, 2.0, 2.0, 2.0, 2.0, 2.0, 2.0, 2.0, 2.0, 2.0, 2.0, 2.0, 2.0, 2.0, 2.0, 2.0, 2.0, 2.0, 2.0, 2.0, 2.0, 2.0, 2.0, 2.0, 2.0, 2.0, 2.0, 2.0, 1.0, 1.0, 1.0, 1.0]\n"
     ]
    },
    {
     "data": {
      "text/plain": [
       "Power_divergenceResult(statistic=833.5973056148283, pvalue=2.509199836127928e-121)"
      ]
     },
     "execution_count": 84,
     "metadata": {},
     "output_type": "execute_result"
    }
   ],
   "source": [
    "# Statistically analyze consistency with Benford's law (first two digits)\n",
    "\n",
    "import math\n",
    "\n",
    "obs = df_exp['amount']\n",
    "\n",
    "#Create a list of the first two digits of the amounts\n",
    "def first_two_digits(num):\n",
    "    return int(str(num)[:2])\n",
    "obs = [first_two_digits(n) for n in obs]\n",
    "\n",
    "#Create a dictionary with the observed frequencies (counts)\n",
    "dict1 = {x: 0 for x in range(10, 100)}\n",
    "for num in obs:\n",
    "    dict1[num] += 1\n",
    "\n",
    "#Calculate the number of observations and assign it to a variable\n",
    "n = len(obs)\n",
    "\n",
    "#Create a dictionary with the expected frequencies\n",
    "dict2 = {x: round(n * math.log10(1+(1/x)), 0) for x in range(10, 100)}\n",
    "\n",
    "#Convert the dictionaries to lists\n",
    "obs = list(dict1.values())\n",
    "exp = list(dict2.values())\n",
    "x = list(dict2.keys())\n",
    "\n",
    "#Print the observed and expected frequencies\n",
    "print(obs)\n",
    "print(exp)\n",
    "\n",
    "#Normalize the data such that the observed and expected frequencies have the same sum\n",
    "if sum(obs) != sum(exp):\n",
    "    exp = [i * (sum(obs)/sum(exp)) for i in exp]\n",
    "\n",
    "#Test for differences using the one-sample Chi-Square test\n",
    "stats.chisquare(obs, f_exp=exp)"
   ]
  },
  {
   "cell_type": "code",
   "execution_count": 85,
   "metadata": {},
   "outputs": [
    {
     "data": {
      "image/png": "[encoded data removed]",
      "text/plain": [
       "<Figure size 640x480 with 1 Axes>"
      ]
     },
     "metadata": {},
     "output_type": "display_data"
    }
   ],
   "source": [
    "# Graphically analyze consistency with Benford's law (first two digits)\n",
    "\n",
    "plt.plot(x, obs, c='r', marker= '.')\n",
    "plt.plot(x, exp, c='b', marker= '.')\n",
    "plt.ylim(0, 30);"
   ]
  },
  {
   "cell_type": "markdown",
   "metadata": {},
   "source": [
    "Based on these analyses, one can conclude that the frequency distribution of the 'amount' variable is not consistent with Benford's law, when focussing on the first two digits of the values of this variable. The one-sample Chi-Square test indicates that the frequency distribution of the amounts is statistically significantly different from the frequency distribution that is consistent with Benford's law. The graph illustrates the difference, showing that the two distributions in particular deviate for values around 50. These findings may trigger a further investigation of these expenditures."
   ]
  },
  {
   "cell_type": "markdown",
   "metadata": {},
   "source": [
    "### Uniform distribution (last digit)"
   ]
  },
  {
   "cell_type": "markdown",
   "metadata": {},
   "source": [
    "Let's now analyze whether the frequency distribution of the 'amount' variable is consistent with a uniform distribution or not, when focussing on the last digit of the values of this variable, both statistically and graphically."
   ]
  },
  {
   "cell_type": "code",
   "execution_count": 86,
   "metadata": {},
   "outputs": [
    {
     "name": "stdout",
     "output_type": "stream",
     "text": [
      "[37, 35, 35, 38, 29, 30, 27, 34, 36, 30]\n",
      "[33.1, 33.1, 33.1, 33.1, 33.1, 33.1, 33.1, 33.1, 33.1, 33.1]\n"
     ]
    },
    {
     "data": {
      "text/plain": [
       "Power_divergenceResult(statistic=3.894259818731117, pvalue=0.9182331212646249)"
      ]
     },
     "execution_count": 86,
     "metadata": {},
     "output_type": "execute_result"
    }
   ],
   "source": [
    "# Statistically analyze consistency with uniform distribution (last digit)\n",
    "\n",
    "obs = df_exp['amount']\n",
    "\n",
    "#Create a list of the last digit of the amounts\n",
    "obs = [num % 10 for num in obs]\n",
    "\n",
    "#Create a dictionary with the observed frequencies (counts)\n",
    "dict1 = {x: 0 for x in range(0, 10)}\n",
    "for num in obs:\n",
    "    dict1[num] += 1\n",
    "\n",
    "#Calculate the number of observations and assign it to a variable\n",
    "n = len(obs)\n",
    "\n",
    "#Create a dictionary with the expected frequencies\n",
    "dict2 = {x: round(n * 0.1, 1) for x in range(0, 10)}\n",
    "\n",
    "#Convert the dictionaries to lists\n",
    "obs = list(dict1.values())\n",
    "exp = list(dict2.values())\n",
    "x = list(dict1.keys())\n",
    "\n",
    "#Print the observed and expected frequencies\n",
    "print(obs)\n",
    "print(exp)\n",
    "\n",
    "#Test for differences using the one-sample Chi-Square test\n",
    "stats.chisquare(obs, f_exp=exp)"
   ]
  },
  {
   "cell_type": "code",
   "execution_count": 87,
   "metadata": {},
   "outputs": [
    {
     "data": {
      "image/png": "[encoded data removed]",
      "text/plain": [
       "<Figure size 640x480 with 1 Axes>"
      ]
     },
     "metadata": {},
     "output_type": "display_data"
    }
   ],
   "source": [
    "# Graphically analyze consistency with uniform distribution (last digit)\n",
    "\n",
    "plt.plot(x, obs, c='r', marker= '.')\n",
    "plt.plot(x, exp, c='b', marker= '.')\n",
    "plt.ylim(0, 40);"
   ]
  },
  {
   "cell_type": "markdown",
   "metadata": {},
   "source": [
    "Based on these analyses, one can conclude that the frequency distribution of the 'amount' variable is consistent with a uniform distribution, when focussing on the last digit of the values of this variable. The one-sample Chi-Square test indicates no statistically significantly difference between the frequency distribution of the amounts and a uniform frequency distribution. The graph illustrates this further, by showing only small deviations between the two distributions."
   ]
  },
  {
   "cell_type": "code",
   "execution_count": null,
   "metadata": {},
   "outputs": [],
   "source": []
  }
 ],
 "metadata": {
  "kernelspec": {
   "display_name": "Python 3 (ipykernel)",
   "language": "python",
   "name": "python3"
  },
  "language_info": {
   "codemirror_mode": {
    "name": "ipython",
    "version": 3
   },
   "file_extension": ".py",
   "mimetype": "text/x-python",
   "name": "python",
   "nbconvert_exporter": "python",
   "pygments_lexer": "ipython3",
   "version": "3.10.9"
  }
 },
 "nbformat": 4,
 "nbformat_minor": 4
}
