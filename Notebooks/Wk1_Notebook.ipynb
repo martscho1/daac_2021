{
 "cells": [
  {
   "cell_type": "markdown",
   "metadata": {},
   "source": [
    "# Wk1_Notebook (Additional Python)"
   ]
  },
  {
   "cell_type": "markdown",
   "metadata": {},
   "source": [
    "In this notebook, I will briefly review some basics of the Python programming language, but I will also discuss some more advanced features that are useful for data analytics purposes and that we will be using more extensively later in the course. More specifically, the following topics will be discussed:\n",
    "- [Finding more information about Python and its libraries](#Wk1_a)\n",
    "- [Functions](#Wk1_b)\n",
    "- [Strings](#Wk1_c)\n",
    "- [Lists](#Wk1_d)\n",
    "- [Sets](#Wk1_e)"
   ]
  },
  {
   "cell_type": "markdown",
   "metadata": {},
   "source": [
    "## Finding more information about Python and its libraries <a name=\"Wk1_a\"></a>"
   ]
  },
  {
   "cell_type": "markdown",
   "metadata": {},
   "source": [
    "Python and its libraries have so many features and functionalities that it is impossible for anyone to know and remember all (or even most) of them. Python and its libraries are fortunately well documented and have extensive documentation available online. Whenever you need more information about Python or one of its libraries, searching for help using Google (or any other search engine) is a good strategy, in that it will typically help you find the information you are looking for quickly, for example by directing you to Stackoverflow (https://stackoverflow.com/questions), which is a popular question-and-answer site for programmers. The online documentation for Python and for the main libraries that we will be using in this course can be found at:\n",
    "- Python: https://docs.python.org/3/;\n",
    "- NumPy: https://numpy.org/;\n",
    "- pandas: https://pandas.pydata.org/;\n",
    "- matplotlib: https://matplotlib.org/;\n",
    "- seaborn: https://seaborn.pydata.org/;\n",
    "- SciPy: https://scipy.org/scipylib/;\n",
    "- statsmodels: https://statsmodels.org/stable/;\n",
    "- NLTK: https://www.nltk.org/;\n",
    "- scikit-learn: https://scikit-learn.org/stable/.\n",
    "\n",
    "In addition, Jupyter notebooks also contain some helpful features for finding more information, including:\n",
    "- Using the `dir()` function, which provides a list of options (i.e., methods and attributes) that are available in a particular context.\n",
    "- Pressing the Tab key, which provides a list of options (i.e., methods and attributes) that are available in a particular context.\n",
    "- Slowly pressing Shift+Tab 1, 2 or 4 times.\n",
    "- Adding a question mark (i.e., the ? character) after a variable or function name.\n",
    "- Using the `help()` function."
   ]
  },
  {
   "cell_type": "code",
   "execution_count": null,
   "metadata": {},
   "outputs": [],
   "source": [
    "# Using the dir() function\n",
    "\n",
    "dir(str)"
   ]
  },
  {
   "cell_type": "code",
   "execution_count": null,
   "metadata": {},
   "outputs": [],
   "source": [
    "# Pressing the Tab key\n",
    "\n",
    "str.s  # now press the Tab key"
   ]
  },
  {
   "cell_type": "code",
   "execution_count": null,
   "metadata": {},
   "outputs": [],
   "source": [
    "# Slowly pressing Shift+Tab 1, 2 or 4 times\n",
    "\n",
    "str.split  # now press Shift+Tab"
   ]
  },
  {
   "cell_type": "code",
   "execution_count": null,
   "metadata": {},
   "outputs": [],
   "source": [
    "# Adding a question mark\n",
    "\n",
    "str.split?"
   ]
  },
  {
   "cell_type": "code",
   "execution_count": null,
   "metadata": {},
   "outputs": [],
   "source": [
    "# Using the help() function\n",
    "\n",
    "help(str.split)"
   ]
  },
  {
   "cell_type": "markdown",
   "metadata": {},
   "source": [
    "## Functions <a name=\"Wk1_b\"></a>"
   ]
  },
  {
   "cell_type": "markdown",
   "metadata": {},
   "source": [
    "Functions are named blocks of code designed to do one specific thing. In general, functions do one of two things: print some information on the screen or process some data and return one or more values. Sometimes functions do both. In addition to using the many functions that are already built into Python, it is also possible to define your own (custom or user-defined) functions. To define a function in Python, you need to use the `def` keyword, followed by a function name, a set of parentheses, and a colon:\n",
    "```python\n",
    "def multiply(x, y):  # Function signature\n",
    "    # Function body\n",
    "    product = x * y\n",
    "    return product\n",
    "```\n",
    "After you have defined a function, you can then use it by \"calling\" the function:\n",
    "```python\n",
    "multiply(3, 5)\n",
    "```"
   ]
  },
  {
   "cell_type": "code",
   "execution_count": 1,
   "metadata": {},
   "outputs": [
    {
     "data": {
      "text/plain": [
       "15"
      ]
     },
     "execution_count": 1,
     "metadata": {},
     "output_type": "execute_result"
    }
   ],
   "source": [
    "# Example of defining and calling a function\n",
    "\n",
    "def add_numbers(x, y):  # x and y are called 'parameters'\n",
    "    return x + y\n",
    "\n",
    "add_numbers(5, 10)  # 5 and 10 are called 'arguments'"
   ]
  },
  {
   "cell_type": "code",
   "execution_count": 2,
   "metadata": {},
   "outputs": [
    {
     "data": {
      "text/plain": [
       "30"
      ]
     },
     "execution_count": 2,
     "metadata": {},
     "output_type": "execute_result"
    }
   ],
   "source": [
    "# Example of defining and calling a function\n",
    "\n",
    "def add_numbers(x, y, z=None):  # z is called a 'default parameter (or argument)'\n",
    "    if z == None:\n",
    "        return x + y\n",
    "    else:\n",
    "        return x + y + z\n",
    "\n",
    "add_numbers(5, 10, 15)"
   ]
  },
  {
   "cell_type": "markdown",
   "metadata": {},
   "source": [
    "### Anonymous (or `lambda`) functions"
   ]
  },
  {
   "cell_type": "markdown",
   "metadata": {},
   "source": [
    "Anonymous (or `lambda`) functions are simplified functions that have no names and whose code consists solely of one return statement. Such functions are often used when passing functions as arguments to other functions. Anonymous functions are defined using the `lambda` keyword, followed by a comma-delimited list of arguments (if any), a colon, and then an expression that acts as the return value: `lambda argument(s): return_value`. (Note: Although it is possible to assign a `lambda` function to a variable, effectively replicating what a `def` statement does, it is generally recommended not to do so, and to use a `def` statement in such cases instead.)"
   ]
  },
  {
   "cell_type": "code",
   "execution_count": 3,
   "metadata": {},
   "outputs": [
    {
     "data": {
      "text/plain": [
       "15"
      ]
     },
     "execution_count": 3,
     "metadata": {},
     "output_type": "execute_result"
    }
   ],
   "source": [
    "# Example of defining and calling a function\n",
    "\n",
    "def add_numbers(x, y):\n",
    "    return x + y\n",
    "\n",
    "add_numbers(5, 10)"
   ]
  },
  {
   "cell_type": "code",
   "execution_count": 4,
   "metadata": {},
   "outputs": [
    {
     "data": {
      "text/plain": [
       "15"
      ]
     },
     "execution_count": 4,
     "metadata": {},
     "output_type": "execute_result"
    }
   ],
   "source": [
    "# Example of a lambda function\n",
    "\n",
    "(lambda x, y:(x + y))(5, 10)"
   ]
  },
  {
   "cell_type": "code",
   "execution_count": 5,
   "metadata": {},
   "outputs": [
    {
     "data": {
      "text/plain": [
       "15"
      ]
     },
     "execution_count": 5,
     "metadata": {},
     "output_type": "execute_result"
    }
   ],
   "source": [
    "# Don't use lambda functions like this\n",
    "\n",
    "add_numbers_alt = (lambda x, y:(x + y))\n",
    "add_numbers_alt(5, 10)"
   ]
  },
  {
   "cell_type": "markdown",
   "metadata": {},
   "source": [
    "### Sharing custom functions across notebooks"
   ]
  },
  {
   "cell_type": "markdown",
   "metadata": {},
   "source": [
    "It is also possible to share custom functions across notebooks or with other Python users, by creating a Python module. These are text files that have some Python code in them. In Jupyter, you can create such a file by opening the \"New\" menu and then selecting \"Text File\". This should create a new file in your workspace folder, called “untitled.txt”. To turn this empty file into a Python module, you first have to change its name and make sure that the file extension is changed to .py instead of .txt. Next, you have to add some code to it.  \n",
    "As an example, let's create a Python module, called \"add_numbers_function\", and add the following code to it:\n",
    "```python\n",
    "def add_numbers(a, b):\n",
    "    return a + b\n",
    "```\n",
    "Next, we can import this module in our notebook so that we can use this function. (Note: So remember that Python modules are just text files which contain re-usable Python code, and that whenever you use the `import` keyword, all it does is give you access to some code written in a different file.)"
   ]
  },
  {
   "cell_type": "code",
   "execution_count": 6,
   "metadata": {},
   "outputs": [
    {
     "data": {
      "text/plain": [
       "15"
      ]
     },
     "execution_count": 6,
     "metadata": {},
     "output_type": "execute_result"
    }
   ],
   "source": [
    "# Example of importing a function from an external file\n",
    "\n",
    "import add_numbers_function as anf\n",
    "\n",
    "anf.add_numbers(5, 10)"
   ]
  },
  {
   "cell_type": "markdown",
   "metadata": {},
   "source": [
    "The Python module that we just created contains only one function and thus is very simple. Here is an example of another, more extensive module, called \"accounting_fraud_detection_functions\", that contains three functions that can be used for accounting fraud detection using Benford's law and other patterns of interest.\n",
    "\n",
    "__NOTE:__ The Python code in this module is an adapted (more generally useable) version of Python code that I have written earlier and that can be found on the following website: https://github.com/martscho1/accounting_fraud_detection/blob/main/accounting_fraud_detection.ipynb, as well as in the notebook of week 3 ('Wk3_Notebook.ipynb'). This website also contains more information about accounting fraud detection using Benford's law and other patterns of interest. Also, the dataset that is used to illustrate using this module covers the vendor transactions during the first six months of the year 2021 by the Department of Education of the State of Oklahoma in the United States (U.S.), which can be downloaded from the following website: https://oklahomastate.opengov.com/data/#/34085/."
   ]
  },
  {
   "cell_type": "code",
   "execution_count": 7,
   "metadata": {},
   "outputs": [],
   "source": [
    "# First import the necessary libraries\n",
    "\n",
    "import pandas as pd\n",
    "import numpy as np\n",
    "\n",
    "%matplotlib inline"
   ]
  },
  {
   "cell_type": "code",
   "execution_count": 8,
   "metadata": {},
   "outputs": [
    {
     "data": {
      "text/html": [
       "<div>\n",
       "<style scoped>\n",
       "    .dataframe tbody tr th:only-of-type {\n",
       "        vertical-align: middle;\n",
       "    }\n",
       "\n",
       "    .dataframe tbody tr th {\n",
       "        vertical-align: top;\n",
       "    }\n",
       "\n",
       "    .dataframe thead th {\n",
       "        text-align: right;\n",
       "    }\n",
       "</style>\n",
       "<table border=\"1\" class=\"dataframe\">\n",
       "  <thead>\n",
       "    <tr style=\"text-align: right;\">\n",
       "      <th></th>\n",
       "      <th>Agency Number</th>\n",
       "      <th>Agency Description</th>\n",
       "      <th>Calendar Year</th>\n",
       "      <th>Calendar Month</th>\n",
       "      <th>Vendor Name</th>\n",
       "      <th>City</th>\n",
       "      <th>State</th>\n",
       "      <th>Effective Date</th>\n",
       "      <th>Payment Amount</th>\n",
       "      <th>Department Code</th>\n",
       "      <th>Dept Description</th>\n",
       "      <th>Account</th>\n",
       "      <th>Account Description</th>\n",
       "      <th>Program Code</th>\n",
       "      <th>Program Description</th>\n",
       "    </tr>\n",
       "  </thead>\n",
       "  <tbody>\n",
       "    <tr>\n",
       "      <th>0</th>\n",
       "      <td>26500</td>\n",
       "      <td>DEPARTMENT OF EDUCATION</td>\n",
       "      <td>2021</td>\n",
       "      <td>6</td>\n",
       "      <td>OFFICE OF MANAGEMENT &amp; ENTERPRISE SVCS</td>\n",
       "      <td>OKLAHOMA CITY</td>\n",
       "      <td>OK</td>\n",
       "      <td>2021-06-23</td>\n",
       "      <td>295564.44</td>\n",
       "      <td>26500-8800070</td>\n",
       "      <td>Department Services - IT</td>\n",
       "      <td>515380</td>\n",
       "      <td>Other Computer Related Svc</td>\n",
       "      <td>NP000</td>\n",
       "      <td>No_Program</td>\n",
       "    </tr>\n",
       "    <tr>\n",
       "      <th>1</th>\n",
       "      <td>26500</td>\n",
       "      <td>DEPARTMENT OF EDUCATION</td>\n",
       "      <td>2021</td>\n",
       "      <td>6</td>\n",
       "      <td>OFFICE OF MANAGEMENT &amp; ENTERPRISE SVCS</td>\n",
       "      <td>OKLAHOMA CITY</td>\n",
       "      <td>OK</td>\n",
       "      <td>2021-06-23</td>\n",
       "      <td>2005.94</td>\n",
       "      <td>26500-8800072</td>\n",
       "      <td>Child Nutrition - IT</td>\n",
       "      <td>515380</td>\n",
       "      <td>Other Computer Related Svc</td>\n",
       "      <td>C0001</td>\n",
       "      <td>NEED-BASED AID</td>\n",
       "    </tr>\n",
       "    <tr>\n",
       "      <th>2</th>\n",
       "      <td>26500</td>\n",
       "      <td>DEPARTMENT OF EDUCATION</td>\n",
       "      <td>2021</td>\n",
       "      <td>6</td>\n",
       "      <td>OFFICE OF MANAGEMENT &amp; ENTERPRISE SVCS</td>\n",
       "      <td>OKLAHOMA CITY</td>\n",
       "      <td>OK</td>\n",
       "      <td>2021-06-23</td>\n",
       "      <td>936.45</td>\n",
       "      <td>26500-8800052</td>\n",
       "      <td>Early Intervention - IT</td>\n",
       "      <td>515380</td>\n",
       "      <td>Other Computer Related Svc</td>\n",
       "      <td>C0002</td>\n",
       "      <td>SPECIAL EDUCATION</td>\n",
       "    </tr>\n",
       "    <tr>\n",
       "      <th>3</th>\n",
       "      <td>26500</td>\n",
       "      <td>DEPARTMENT OF EDUCATION</td>\n",
       "      <td>2021</td>\n",
       "      <td>6</td>\n",
       "      <td>OFFICE OF MANAGEMENT &amp; ENTERPRISE SVCS</td>\n",
       "      <td>OKLAHOMA CITY</td>\n",
       "      <td>OK</td>\n",
       "      <td>2021-06-23</td>\n",
       "      <td>2276.32</td>\n",
       "      <td>26500-8800002</td>\n",
       "      <td>Teacher Certification - IT</td>\n",
       "      <td>515380</td>\n",
       "      <td>Other Computer Related Svc</td>\n",
       "      <td>C0201</td>\n",
       "      <td>STUDENT PERFORMANCE</td>\n",
       "    </tr>\n",
       "    <tr>\n",
       "      <th>4</th>\n",
       "      <td>26500</td>\n",
       "      <td>DEPARTMENT OF EDUCATION</td>\n",
       "      <td>2021</td>\n",
       "      <td>6</td>\n",
       "      <td>OFFICE OF MANAGEMENT &amp; ENTERPRISE SVCS</td>\n",
       "      <td>OKLAHOMA CITY</td>\n",
       "      <td>OK</td>\n",
       "      <td>2021-06-23</td>\n",
       "      <td>640.12</td>\n",
       "      <td>26500-8800006</td>\n",
       "      <td>Special Education - IT</td>\n",
       "      <td>515380</td>\n",
       "      <td>Other Computer Related Svc</td>\n",
       "      <td>C0002</td>\n",
       "      <td>SPECIAL EDUCATION</td>\n",
       "    </tr>\n",
       "    <tr>\n",
       "      <th>...</th>\n",
       "      <td>...</td>\n",
       "      <td>...</td>\n",
       "      <td>...</td>\n",
       "      <td>...</td>\n",
       "      <td>...</td>\n",
       "      <td>...</td>\n",
       "      <td>...</td>\n",
       "      <td>...</td>\n",
       "      <td>...</td>\n",
       "      <td>...</td>\n",
       "      <td>...</td>\n",
       "      <td>...</td>\n",
       "      <td>...</td>\n",
       "      <td>...</td>\n",
       "      <td>...</td>\n",
       "    </tr>\n",
       "    <tr>\n",
       "      <th>18245</th>\n",
       "      <td>26500</td>\n",
       "      <td>DEPARTMENT OF EDUCATION</td>\n",
       "      <td>2021</td>\n",
       "      <td>1</td>\n",
       "      <td>DELL MARKETING LP</td>\n",
       "      <td>ROUND ROCK</td>\n",
       "      <td>TX</td>\n",
       "      <td>2021-01-06</td>\n",
       "      <td>133.49</td>\n",
       "      <td>26500-0600074</td>\n",
       "      <td>Student Support</td>\n",
       "      <td>541110</td>\n",
       "      <td>Office Furniture &amp; Equipment</td>\n",
       "      <td>A0201</td>\n",
       "      <td>BEHAVIORAL HEALTH</td>\n",
       "    </tr>\n",
       "    <tr>\n",
       "      <th>18246</th>\n",
       "      <td>26500</td>\n",
       "      <td>DEPARTMENT OF EDUCATION</td>\n",
       "      <td>2021</td>\n",
       "      <td>1</td>\n",
       "      <td>MCCULLOUGH,NANCY J</td>\n",
       "      <td>OKLAHOMA CITY</td>\n",
       "      <td>OK</td>\n",
       "      <td>2021-01-06</td>\n",
       "      <td>120.75</td>\n",
       "      <td>26500-6000001</td>\n",
       "      <td>Child Nutrition Administration</td>\n",
       "      <td>521110</td>\n",
       "      <td>In-State Mileage-Motor Vehicle</td>\n",
       "      <td>NP000</td>\n",
       "      <td>No_Program</td>\n",
       "    </tr>\n",
       "    <tr>\n",
       "      <th>18247</th>\n",
       "      <td>26500</td>\n",
       "      <td>DEPARTMENT OF EDUCATION</td>\n",
       "      <td>2021</td>\n",
       "      <td>1</td>\n",
       "      <td>BRANDI KELLEY</td>\n",
       "      <td>OKLAHOMA CITY</td>\n",
       "      <td>OK</td>\n",
       "      <td>2021-01-06</td>\n",
       "      <td>400.00</td>\n",
       "      <td>26500-0300001</td>\n",
       "      <td>Instruction</td>\n",
       "      <td>515660</td>\n",
       "      <td>Educational Services</td>\n",
       "      <td>NP000</td>\n",
       "      <td>No_Program</td>\n",
       "    </tr>\n",
       "    <tr>\n",
       "      <th>18248</th>\n",
       "      <td>26500</td>\n",
       "      <td>DEPARTMENT OF EDUCATION</td>\n",
       "      <td>2021</td>\n",
       "      <td>1</td>\n",
       "      <td>SHELLEY JEAN OLDS</td>\n",
       "      <td>TULSA</td>\n",
       "      <td>OK</td>\n",
       "      <td>2021-01-06</td>\n",
       "      <td>400.00</td>\n",
       "      <td>26500-0300001</td>\n",
       "      <td>Instruction</td>\n",
       "      <td>515660</td>\n",
       "      <td>Educational Services</td>\n",
       "      <td>NP000</td>\n",
       "      <td>No_Program</td>\n",
       "    </tr>\n",
       "    <tr>\n",
       "      <th>18249</th>\n",
       "      <td>26500</td>\n",
       "      <td>DEPARTMENT OF EDUCATION</td>\n",
       "      <td>2021</td>\n",
       "      <td>1</td>\n",
       "      <td>MALLORY MARGARET TULLY</td>\n",
       "      <td>SHAWNEE</td>\n",
       "      <td>OK</td>\n",
       "      <td>2021-01-06</td>\n",
       "      <td>400.00</td>\n",
       "      <td>26500-0300001</td>\n",
       "      <td>Instruction</td>\n",
       "      <td>515660</td>\n",
       "      <td>Educational Services</td>\n",
       "      <td>NP000</td>\n",
       "      <td>No_Program</td>\n",
       "    </tr>\n",
       "  </tbody>\n",
       "</table>\n",
       "<p>18250 rows × 15 columns</p>\n",
       "</div>"
      ],
      "text/plain": [
       "       Agency Number       Agency Description  Calendar Year  Calendar Month  \\\n",
       "0              26500  DEPARTMENT OF EDUCATION           2021               6   \n",
       "1              26500  DEPARTMENT OF EDUCATION           2021               6   \n",
       "2              26500  DEPARTMENT OF EDUCATION           2021               6   \n",
       "3              26500  DEPARTMENT OF EDUCATION           2021               6   \n",
       "4              26500  DEPARTMENT OF EDUCATION           2021               6   \n",
       "...              ...                      ...            ...             ...   \n",
       "18245          26500  DEPARTMENT OF EDUCATION           2021               1   \n",
       "18246          26500  DEPARTMENT OF EDUCATION           2021               1   \n",
       "18247          26500  DEPARTMENT OF EDUCATION           2021               1   \n",
       "18248          26500  DEPARTMENT OF EDUCATION           2021               1   \n",
       "18249          26500  DEPARTMENT OF EDUCATION           2021               1   \n",
       "\n",
       "                                  Vendor Name           City State  \\\n",
       "0      OFFICE OF MANAGEMENT & ENTERPRISE SVCS  OKLAHOMA CITY    OK   \n",
       "1      OFFICE OF MANAGEMENT & ENTERPRISE SVCS  OKLAHOMA CITY    OK   \n",
       "2      OFFICE OF MANAGEMENT & ENTERPRISE SVCS  OKLAHOMA CITY    OK   \n",
       "3      OFFICE OF MANAGEMENT & ENTERPRISE SVCS  OKLAHOMA CITY    OK   \n",
       "4      OFFICE OF MANAGEMENT & ENTERPRISE SVCS  OKLAHOMA CITY    OK   \n",
       "...                                       ...            ...   ...   \n",
       "18245                       DELL MARKETING LP     ROUND ROCK    TX   \n",
       "18246                      MCCULLOUGH,NANCY J  OKLAHOMA CITY    OK   \n",
       "18247                           BRANDI KELLEY  OKLAHOMA CITY    OK   \n",
       "18248                       SHELLEY JEAN OLDS          TULSA    OK   \n",
       "18249                  MALLORY MARGARET TULLY        SHAWNEE    OK   \n",
       "\n",
       "      Effective Date  Payment Amount Department Code  \\\n",
       "0         2021-06-23       295564.44   26500-8800070   \n",
       "1         2021-06-23         2005.94   26500-8800072   \n",
       "2         2021-06-23          936.45   26500-8800052   \n",
       "3         2021-06-23         2276.32   26500-8800002   \n",
       "4         2021-06-23          640.12   26500-8800006   \n",
       "...              ...             ...             ...   \n",
       "18245     2021-01-06          133.49   26500-0600074   \n",
       "18246     2021-01-06          120.75   26500-6000001   \n",
       "18247     2021-01-06          400.00   26500-0300001   \n",
       "18248     2021-01-06          400.00   26500-0300001   \n",
       "18249     2021-01-06          400.00   26500-0300001   \n",
       "\n",
       "                     Dept Description  Account  \\\n",
       "0            Department Services - IT   515380   \n",
       "1                Child Nutrition - IT   515380   \n",
       "2             Early Intervention - IT   515380   \n",
       "3          Teacher Certification - IT   515380   \n",
       "4              Special Education - IT   515380   \n",
       "...                               ...      ...   \n",
       "18245                 Student Support   541110   \n",
       "18246  Child Nutrition Administration   521110   \n",
       "18247                     Instruction   515660   \n",
       "18248                     Instruction   515660   \n",
       "18249                     Instruction   515660   \n",
       "\n",
       "                  Account Description Program Code  Program Description  \n",
       "0          Other Computer Related Svc        NP000           No_Program  \n",
       "1          Other Computer Related Svc        C0001       NEED-BASED AID  \n",
       "2          Other Computer Related Svc        C0002    SPECIAL EDUCATION  \n",
       "3          Other Computer Related Svc        C0201  STUDENT PERFORMANCE  \n",
       "4          Other Computer Related Svc        C0002    SPECIAL EDUCATION  \n",
       "...                               ...          ...                  ...  \n",
       "18245    Office Furniture & Equipment        A0201    BEHAVIORAL HEALTH  \n",
       "18246  In-State Mileage-Motor Vehicle        NP000           No_Program  \n",
       "18247            Educational Services        NP000           No_Program  \n",
       "18248            Educational Services        NP000           No_Program  \n",
       "18249            Educational Services        NP000           No_Program  \n",
       "\n",
       "[18250 rows x 15 columns]"
      ]
     },
     "execution_count": 8,
     "metadata": {},
     "output_type": "execute_result"
    }
   ],
   "source": [
    "# Import the data\n",
    "\n",
    "df = pd.read_excel('data/Vendor Transactions - Department of Education - 2021 (first half).xlsx', header=0)\n",
    "df"
   ]
  },
  {
   "cell_type": "code",
   "execution_count": 9,
   "metadata": {},
   "outputs": [
    {
     "name": "stdout",
     "output_type": "stream",
     "text": [
      "<class 'pandas.core.frame.DataFrame'>\n",
      "RangeIndex: 18250 entries, 0 to 18249\n",
      "Data columns (total 15 columns):\n",
      " #   Column               Non-Null Count  Dtype         \n",
      "---  ------               --------------  -----         \n",
      " 0   Agency Number        18250 non-null  int64         \n",
      " 1   Agency Description   18250 non-null  object        \n",
      " 2   Calendar Year        18250 non-null  int64         \n",
      " 3   Calendar Month       18250 non-null  int64         \n",
      " 4   Vendor Name          18250 non-null  object        \n",
      " 5   City                 18250 non-null  object        \n",
      " 6   State                18250 non-null  object        \n",
      " 7   Effective Date       18250 non-null  datetime64[ns]\n",
      " 8   Payment Amount       18250 non-null  float64       \n",
      " 9   Department Code      18250 non-null  object        \n",
      " 10  Dept Description     18250 non-null  object        \n",
      " 11  Account              18250 non-null  int64         \n",
      " 12  Account Description  18250 non-null  object        \n",
      " 13  Program Code         18250 non-null  object        \n",
      " 14  Program Description  18250 non-null  object        \n",
      "dtypes: datetime64[ns](1), float64(1), int64(4), object(9)\n",
      "memory usage: 2.1+ MB\n"
     ]
    }
   ],
   "source": [
    "# Display general information\n",
    "\n",
    "df.info()"
   ]
  },
  {
   "cell_type": "code",
   "execution_count": 10,
   "metadata": {},
   "outputs": [
    {
     "name": "stdout",
     "output_type": "stream",
     "text": [
      "[6134, 3069, 2374, 1529, 1210, 1072, 963, 1106, 779]\n",
      "[5490.0, 3211.0, 2278.0, 1767.0, 1444.0, 1221.0, 1058.0, 933.0, 834.0]\n",
      "One-sample Chi-Square test statistic = 218.264; p-value = <0.01\n"
     ]
    },
    {
     "data": {
      "image/png": "[encoded data removed]",
      "text/plain": [
       "<Figure size 640x480 with 1 Axes>"
      ]
     },
     "metadata": {},
     "output_type": "display_data"
    }
   ],
   "source": [
    "# Statistically analyze consistency with Benford's law (first digit)\n",
    "\n",
    "import accounting_fraud_detection_functions as afdf\n",
    "\n",
    "afdf.benford_first_digit(df, 'Payment Amount')"
   ]
  },
  {
   "cell_type": "code",
   "execution_count": 11,
   "metadata": {},
   "outputs": [
    {
     "name": "stdout",
     "output_type": "stream",
     "text": [
      "[963, 819, 656, 766, 625, 671, 434, 337, 453, 407, 604, 299, 486, 225, 206, 325, 275, 174, 223, 242, 615, 173, 170, 357, 158, 108, 171, 266, 135, 214, 369, 149, 77, 120, 90, 238, 197, 109, 79, 93, 175, 122, 149, 179, 56, 86, 57, 81, 73, 230, 107, 183, 84, 71, 57, 70, 234, 104, 94, 63, 73, 54, 58, 191, 66, 269, 41, 64, 38, 105, 88, 233, 62, 87, 130, 67, 136, 58, 190, 43, 80, 87, 46, 157, 39, 66, 66, 55, 44, 123]\n",
      "[752.0, 687.0, 632.0, 585.0, 544.0, 509.0, 478.0, 451.0, 427.0, 405.0, 385.0, 367.0, 351.0, 336.0, 322.0, 309.0, 298.0, 287.0, 277.0, 268.0, 259.0, 251.0, 243.0, 236.0, 229.0, 222.0, 216.0, 210.0, 205.0, 200.0, 195.0, 190.0, 186.0, 181.0, 177.0, 173.0, 170.0, 166.0, 163.0, 159.0, 156.0, 153.0, 150.0, 147.0, 145.0, 142.0, 140.0, 137.0, 135.0, 133.0, 130.0, 128.0, 126.0, 124.0, 122.0, 120.0, 119.0, 117.0, 115.0, 114.0, 112.0, 110.0, 109.0, 107.0, 106.0, 105.0, 103.0, 102.0, 101.0, 99.0, 98.0, 97.0, 96.0, 95.0, 93.0, 92.0, 91.0, 90.0, 89.0, 88.0, 87.0, 86.0, 85.0, 84.0, 84.0, 83.0, 82.0, 81.0, 80.0, 79.0]\n",
      "One-sample Chi-Square test statistic = 3280.418; p-value = <0.01\n"
     ]
    },
    {
     "data": {
      "image/png": "[encoded data removed]",
      "text/plain": [
       "<Figure size 640x480 with 1 Axes>"
      ]
     },
     "metadata": {},
     "output_type": "display_data"
    }
   ],
   "source": [
    "# Statistically analyze consistency with Benford's law (first two digits)\n",
    "\n",
    "afdf.benford_first_two_digits(df, 'Payment Amount')"
   ]
  },
  {
   "cell_type": "code",
   "execution_count": 12,
   "metadata": {},
   "outputs": [
    {
     "name": "stdout",
     "output_type": "stream",
     "text": [
      "[2071, 2276, 1697, 1596, 1821, 2054, 1586, 1883, 1676, 1576]\n",
      "[1823.6, 1823.6, 1823.6, 1823.6, 1823.6, 1823.6, 1823.6, 1823.6, 1823.6, 1823.6]\n",
      "One-sample Chi-Square test statistic = 290.561; p-value = <0.01\n"
     ]
    },
    {
     "data": {
      "image/png": "[encoded data removed]",
      "text/plain": [
       "<Figure size 640x480 with 1 Axes>"
      ]
     },
     "metadata": {},
     "output_type": "display_data"
    }
   ],
   "source": [
    "# Statistically analyze consistency with uniform distribution (last digit)\n",
    "\n",
    "afdf.uniform_last_digit(df, 'Payment Amount')"
   ]
  },
  {
   "cell_type": "markdown",
   "metadata": {},
   "source": [
    "## Strings <a name=\"Wk1_c\"></a>"
   ]
  },
  {
   "cell_type": "markdown",
   "metadata": {},
   "source": [
    "Strings are one of the basic (or fundamental) data types, just like (among others) integers and floats:  \n",
    "- A __string (str)__ is a sequence of characters, which can be letters, numbers and special characters. Strings are immutable.\n",
    "- An __integer (int)__ is a number that has no decimal point.\n",
    "- A __float (float)__ (or floating-point number) is a number that does have a decimal point."
   ]
  },
  {
   "cell_type": "markdown",
   "metadata": {},
   "source": [
    "### Some string methods"
   ]
  },
  {
   "cell_type": "markdown",
   "metadata": {},
   "source": [
    "There are many methods that can be used with strings. As shown earlier, you can use the `dir()` function to obtain an overview of these methods, and you can use the `help()` function to obtain more information about an individual method. Some of the most important methods are the following:\n",
    "- To change the case of a string, the `upper()`, `lower()`, `title()` or `capitalize()` methods can be used.\n",
    "- To replace certain values of a string with others, the `replace()` method can be used.\n",
    "- To check whether a string starts or end with a given character(s), the `startswith()` or `endswith()` methods can be used.\n",
    "- To remove leading and trailing spaces and/or characters from a string, the `strip()`, `rstrip()` or `lstrip()` methods can be used.\n",
    "- To split a string into a list of values, the `split()` method can be used.\n",
    "- To combine a list of values into one string, the `join()` method can be used."
   ]
  },
  {
   "cell_type": "code",
   "execution_count": 13,
   "metadata": {},
   "outputs": [
    {
     "name": "stdout",
     "output_type": "stream",
     "text": [
      "IT RAINS OUTSIDE AND IT PROBABLY WON'T STOP SOON.\n",
      "it rains outside and it probably won't stop soon.\n",
      "It Rains Outside And It Probably Won'T Stop Soon.\n",
      "It rains outside and it probably won't stop soon.\n",
      "it RAINS outside and it probably won't stop soon.\n"
     ]
    }
   ],
   "source": [
    "# Examples of using string methods\n",
    "\n",
    "sentence = \"It rains outside and it probably won't stop soon.\"\n",
    "# all characters uppercase\n",
    "print(sentence.upper())\n",
    "# all characters lowercase\n",
    "print(sentence.lower())\n",
    "# first character of all words uppercase and all other characters lowercase\n",
    "print(sentence.title())\n",
    "# first character uppercase and all other characters lowercase\n",
    "print(sentence.capitalize())\n",
    "# all characters lowercase but with 'rains' uppercase\n",
    "print(sentence.lower().replace('rains', 'RAINS'))"
   ]
  },
  {
   "cell_type": "code",
   "execution_count": 14,
   "metadata": {},
   "outputs": [
    {
     "name": "stdout",
     "output_type": "stream",
     "text": [
      "True\n",
      "False\n"
     ]
    }
   ],
   "source": [
    "# Examples of using string methods\n",
    "\n",
    "sentence = \"It rains outside and it probably won't stop soon.\"\n",
    "print(sentence.startswith(\"It\"))\n",
    "print(sentence.endswith(\"soon\"))"
   ]
  },
  {
   "cell_type": "code",
   "execution_count": 15,
   "metadata": {},
   "outputs": [
    {
     "name": "stdout",
     "output_type": "stream",
     "text": [
      "25\n"
     ]
    }
   ],
   "source": [
    "# Example of removing leading spaces and/or characters\n",
    "\n",
    "amount = '$25'\n",
    "#amount = int(amount.lstrip('$'))\n",
    "amount = int(amount.strip('$'))\n",
    "print(amount)\n",
    "\n",
    "# Some alternative methods:\n",
    "#amount = int(amount.replace('$', ''))\n",
    "#amount = int(amount[1:])"
   ]
  },
  {
   "cell_type": "code",
   "execution_count": 16,
   "metadata": {},
   "outputs": [
    {
     "name": "stdout",
     "output_type": "stream",
     "text": [
      "25\n"
     ]
    }
   ],
   "source": [
    "# Example of removing trailing spaces and/or characters\n",
    "\n",
    "perc = '25%'\n",
    "#perc = int(perc.rstrip('%'))\n",
    "perc = int(perc.strip('%'))\n",
    "print(perc)\n",
    "\n",
    "# Some alternative methods:\n",
    "#perc = int(perc.replace('%', ''))\n",
    "#perc = int(perc[:-1])"
   ]
  },
  {
   "cell_type": "code",
   "execution_count": 17,
   "metadata": {},
   "outputs": [
    {
     "name": "stdout",
     "output_type": "stream",
     "text": [
      "202\n"
     ]
    }
   ],
   "source": [
    "# But always be careful when using the strip() method\n",
    "\n",
    "year = '2021[1]'\n",
    "year = int(year.strip('[1]'))\n",
    "print(year)\n",
    "\n",
    "# Better alternatives (for this specific example):\n",
    "#year = int(year.split('[')[0])\n",
    "#year = int(year[:4])\n",
    "#print(year)"
   ]
  },
  {
   "cell_type": "code",
   "execution_count": 18,
   "metadata": {},
   "outputs": [
    {
     "name": "stdout",
     "output_type": "stream",
     "text": [
      "This is an example sentence.\n",
      "['This', 'is', 'an', 'example', 'sentence.']\n",
      "This is an example sentence.\n"
     ]
    }
   ],
   "source": [
    "# Example of using the split() and join() methods\n",
    "\n",
    "sentence = \"This is an example sentence.\"\n",
    "print(sentence)\n",
    "first = sentence.split()\n",
    "print(first)\n",
    "second = ' '.join(first)  # Note that the join() method does the opposite of what the split() method does\n",
    "print(second)"
   ]
  },
  {
   "cell_type": "markdown",
   "metadata": {},
   "source": [
    "### String formatting"
   ]
  },
  {
   "cell_type": "markdown",
   "metadata": {},
   "source": [
    "Formatting strings allows you to specify a generic template for a string, and insert variables into the pattern using special placeholder characters. It can also handle various ways to visually represent some string. The two main methods for formatting strings are the `format()` method and `f-strings`."
   ]
  },
  {
   "cell_type": "code",
   "execution_count": 19,
   "metadata": {},
   "outputs": [
    {
     "name": "stdout",
     "output_type": "stream",
     "text": [
      "The current CEO of Apple is Tim Cook.\n",
      "The current CEO of Apple is Tim Cook.\n"
     ]
    }
   ],
   "source": [
    "# Example of using the format() method and f-strings\n",
    "\n",
    "name = \"Tim Cook\"\n",
    "position = \"CEO\"\n",
    "# using the format() method\n",
    "print(\"The current {} of Apple is {}.\".format(position, name))\n",
    "# using f-strings\n",
    "print(f\"The current {position} of Apple is {name}.\")"
   ]
  },
  {
   "cell_type": "markdown",
   "metadata": {},
   "source": [
    "Related to these string formatting methods, there is also a 'formatting mini language' that provides even more control over how text and numbers are formatted. This language provides many possibilities, of which some of the most widely used are the following:  \n",
    "- ':,' : Displays thousands place separators as part of a number.\n",
    "- ':10' : Specifies a minimum print-field width of 10 characters.\n",
    "- ':<10' : Specifies a minimum print-field width of 10 characters and left justify (which is the default for string data).\n",
    "- ':>10' : Specifies a minimum print-field width of 10 characters and right justify (which is the default for numbers).\n",
    "- ':^10' : Specifies a minimum print-field width of 10 characters and center the text in the middle of the print-field.\n",
    "- ':.3f' : Displays exactly 3 digits to the right of the decimal point.\n",
    "- ':10.3f' : Uses a print-field width of 10 characters and displays exactly 3 digits to the right of the decimal point.\n",
    "- ':%' : Displays a number as a percentage.\n",
    "- ':.3%' : Displays a number as a percentage and displays exactly 3 digits to the right of the decimal point."
   ]
  },
  {
   "cell_type": "code",
   "execution_count": 20,
   "metadata": {},
   "outputs": [
    {
     "name": "stdout",
     "output_type": "stream",
     "text": [
      "The value of n is '1234.5'.\n",
      "\n",
      "\n",
      "The value of n is '1,234.5'\n",
      "\n",
      "\n",
      "The value of n is '    1234.5'\n",
      "The value of n is '1234.5    '\n",
      "The value of n is '    1234.5'\n",
      "The value of n is '  1234.5  '\n",
      "\n",
      "\n",
      "The value of n is '0.568'\n",
      "The value of n is '     0.568'\n",
      "\n",
      "\n",
      "The value of n is '56.780000%'\n",
      "The value of n is '56.780%'\n"
     ]
    }
   ],
   "source": [
    "# Examples of using the formatting mini language\n",
    "\n",
    "n = 1234.5\n",
    "print(f\"The value of n is '{n}'.\")  # with nothing added\n",
    "print('\\n')\n",
    "\n",
    "print(f\"The value of n is '{n:,}'\")  # with ':,' added\n",
    "print('\\n')\n",
    "\n",
    "print(f\"The value of n is '{n:10}'\")  # with ':10' added\n",
    "print(f\"The value of n is '{n:<10}'\")  # with ':<10' added\n",
    "print(f\"The value of n is '{n:>10}'\")  # with ':>10' added\n",
    "print(f\"The value of n is '{n:^10}'\")  # with ':^10' added\n",
    "print('\\n')\n",
    "\n",
    "n = 0.5678\n",
    "print(f\"The value of n is '{n:.3f}'\")  # with ':.3f' added\n",
    "print(f\"The value of n is '{n:10.3f}'\")  # with ':10.3f' added\n",
    "print('\\n')\n",
    "\n",
    "n = 0.5678\n",
    "print(f\"The value of n is '{n:%}'\")  # with ':%' added\n",
    "print(f\"The value of n is '{n:.3%}'\")  # with ':.3%' added"
   ]
  },
  {
   "cell_type": "markdown",
   "metadata": {},
   "source": [
    "## Lists <a name=\"Wk1_d\"></a>"
   ]
  },
  {
   "cell_type": "markdown",
   "metadata": {},
   "source": [
    "Lists are one of the compound data types (or data structures), just like dictionaries, tuples, and sets:  \n",
    "- A __list (list)__ is a sequence of values, which can be any data type (even other (nested) lists). Lists are mutable.\n",
    "- A __dictionary (dict)__ is a collection of unordered data, which is stored in key-value pairs. Dictionaries are mutable.\n",
    "- A __tuple (tuple)__ is identical to a list, except it is immutable.\n",
    "- A __set (set)__ is a collection of unordered, unique elements. Its syntax is somewhat similar to that of a dictionary, but than with only \"keys\" and no values."
   ]
  },
  {
   "cell_type": "markdown",
   "metadata": {},
   "source": [
    "### List comprehension"
   ]
  },
  {
   "cell_type": "markdown",
   "metadata": {},
   "source": [
    "List comprehension is an elegant way to define and create lists based on existing lists. Syntactically, list comprehension is a way of creating a list by using a value expression, followed immediately by a `for` statement header that supplies a sequence of data: `[value  for_statement_header]`."
   ]
  },
  {
   "cell_type": "code",
   "execution_count": 21,
   "metadata": {},
   "outputs": [
    {
     "name": "stdout",
     "output_type": "stream",
     "text": [
      "[1, 2, 3, 4, 5]\n"
     ]
    }
   ],
   "source": [
    "# Copying a list using a for loop\n",
    "\n",
    "a_list = [1, 2, 3, 4, 5]\n",
    "\n",
    "b_list = []\n",
    "for i in a_list:\n",
    "    b_list.append(i)\n",
    "print(b_list)"
   ]
  },
  {
   "cell_type": "code",
   "execution_count": 22,
   "metadata": {},
   "outputs": [
    {
     "name": "stdout",
     "output_type": "stream",
     "text": [
      "[1, 2, 3, 4, 5]\n"
     ]
    }
   ],
   "source": [
    "# Copying a list using list comprehension\n",
    "\n",
    "b_list = [i for i in a_list]\n",
    "print(b_list)"
   ]
  },
  {
   "cell_type": "code",
   "execution_count": 23,
   "metadata": {},
   "outputs": [
    {
     "name": "stdout",
     "output_type": "stream",
     "text": [
      "[1, 4, 9, 16, 25]\n"
     ]
    }
   ],
   "source": [
    "# Performing an operation on a list using a for loop\n",
    "\n",
    "a_list = [1, 2, 3, 4, 5]\n",
    "\n",
    "b_list = []\n",
    "for i in a_list:\n",
    "    b_list.append(i * i)\n",
    "print(b_list)"
   ]
  },
  {
   "cell_type": "code",
   "execution_count": 24,
   "metadata": {},
   "outputs": [
    {
     "name": "stdout",
     "output_type": "stream",
     "text": [
      "[1, 4, 9, 16, 25]\n"
     ]
    }
   ],
   "source": [
    "# Performing an operation on a list using list comprehension\n",
    "\n",
    "b_list = [i * i for i in a_list]\n",
    "print(b_list)"
   ]
  },
  {
   "cell_type": "markdown",
   "metadata": {},
   "source": [
    "List comprehension has another (optional) feature, in that it can be combined with conditional statements. In case of (only) an `if` expression, syntactically, it is placed at the end of the expression but before the closing square bracket: `[value  for_statement_header  if_expression]`."
   ]
  },
  {
   "cell_type": "code",
   "execution_count": 25,
   "metadata": {},
   "outputs": [
    {
     "name": "stdout",
     "output_type": "stream",
     "text": [
      "[9, 16, 25]\n"
     ]
    }
   ],
   "source": [
    "# Performing an operation on a list using a for loop (with an if expression)\n",
    "\n",
    "a_list = [1, 2, 3, 4, 5]\n",
    "\n",
    "b_list = []\n",
    "for i in a_list:\n",
    "    if i > 2:\n",
    "        b_list.append(i * i)\n",
    "print(b_list)"
   ]
  },
  {
   "cell_type": "code",
   "execution_count": 26,
   "metadata": {},
   "outputs": [
    {
     "name": "stdout",
     "output_type": "stream",
     "text": [
      "[9, 16, 25]\n"
     ]
    }
   ],
   "source": [
    "# Performing an operation on a list using list comprehension (with an if expression)\n",
    "\n",
    "b_list = [i * i for i in a_list if i > 2]\n",
    "print(b_list)"
   ]
  },
  {
   "cell_type": "markdown",
   "metadata": {},
   "source": [
    "However, in case of both an `if` expression and an `else` expression, syntactically, the order changes into: `[value  if_expression  else_expression  for_statement_header]`."
   ]
  },
  {
   "cell_type": "code",
   "execution_count": 27,
   "metadata": {},
   "outputs": [
    {
     "name": "stdout",
     "output_type": "stream",
     "text": [
      "['Too small', 'Too small', 9, 16, 25]\n"
     ]
    }
   ],
   "source": [
    "# Performing an operation on a list using a for loop (with an if-else expression)\n",
    "\n",
    "a_list = [1, 2, 3, 4, 5]\n",
    "\n",
    "b_list = []\n",
    "for i in a_list:\n",
    "    if i > 2:\n",
    "        b_list.append(i * i)\n",
    "    else:\n",
    "        b_list.append('Too small')\n",
    "print(b_list)"
   ]
  },
  {
   "cell_type": "code",
   "execution_count": 28,
   "metadata": {},
   "outputs": [
    {
     "name": "stdout",
     "output_type": "stream",
     "text": [
      "['Too small', 'Too small', 9, 16, 25]\n"
     ]
    }
   ],
   "source": [
    "# Performing an operation on a list using list comprehension (with an if-else expression)\n",
    "\n",
    "b_list = [i * i if i > 2 else 'Too small' for i in a_list]\n",
    "print(b_list)"
   ]
  },
  {
   "cell_type": "markdown",
   "metadata": {},
   "source": [
    "Here are some additional examples of combining list comprehension with conditional statements."
   ]
  },
  {
   "cell_type": "code",
   "execution_count": 29,
   "metadata": {},
   "outputs": [
    {
     "name": "stdout",
     "output_type": "stream",
     "text": [
      "['2 is a positive number.', '0 is a positive number.', '4 is a positive number.']\n"
     ]
    }
   ],
   "source": [
    "# Performing an operation on a list using a for loop (with an if expression)\n",
    "\n",
    "lst = [2, 0, -2, 4, -4]\n",
    "\n",
    "lst_alt1 = []\n",
    "for i in lst:\n",
    "    if i >= 0:\n",
    "        lst_alt1.append(f\"{i} is a positive number.\")\n",
    "print(lst_alt1)"
   ]
  },
  {
   "cell_type": "code",
   "execution_count": 30,
   "metadata": {},
   "outputs": [
    {
     "name": "stdout",
     "output_type": "stream",
     "text": [
      "['2 is a positive number.', '0 is a positive number.', '4 is a positive number.']\n"
     ]
    }
   ],
   "source": [
    "# Performing an operation on a list using list comprehension (with an if expression)\n",
    "\n",
    "print([f\"{i} is a positive number.\" for i in lst if i >= 0])"
   ]
  },
  {
   "cell_type": "code",
   "execution_count": 31,
   "metadata": {},
   "outputs": [
    {
     "name": "stdout",
     "output_type": "stream",
     "text": [
      "['2 is a positive number.', '0 is a positive number.', '-2 is a negative number.', '4 is a positive number.', '-4 is a negative number.']\n"
     ]
    }
   ],
   "source": [
    "# Performing an operation on a list using a for loop (with an if-else expression)\n",
    "\n",
    "lst_alt2 = []\n",
    "for i in lst:\n",
    "    if i >= 0:\n",
    "        lst_alt2.append(f\"{i} is a positive number.\")\n",
    "    else:\n",
    "        lst_alt2.append(f\"{i} is a negative number.\")\n",
    "print(lst_alt2)"
   ]
  },
  {
   "cell_type": "code",
   "execution_count": 32,
   "metadata": {},
   "outputs": [
    {
     "name": "stdout",
     "output_type": "stream",
     "text": [
      "['2 is a positive number.', '0 is a positive number.', '-2 is a negative number.', '4 is a positive number.', '-4 is a negative number.']\n"
     ]
    }
   ],
   "source": [
    "# Performing an operation on a list using list comprehension (with an if-else expression)\n",
    "\n",
    "print([f\"{i} is a positive number.\" if i >= 0 else f\"{i} is a negative number.\" for i in lst])"
   ]
  },
  {
   "cell_type": "markdown",
   "metadata": {},
   "source": [
    "__NOTE:__ The critical point to keep in mind while using list comprehension is that the readability of the code should not be compromised. If there are too many conditional expressions and/or loops involved in creating a new list, it is typically better to avoid list comprehension."
   ]
  },
  {
   "cell_type": "markdown",
   "metadata": {},
   "source": [
    "### The `map()` function"
   ]
  },
  {
   "cell_type": "markdown",
   "metadata": {},
   "source": [
    "The `map()` function is used to create a new list by applying a built-in or user-defined function on an existing list. The `map()` function returns a map object, and we need to apply the `list()` function to convert it to a list. The `map()` function accepts two arguments:\n",
    "- The function to be applied.\n",
    "- The list on which the function is to be applied."
   ]
  },
  {
   "cell_type": "code",
   "execution_count": 33,
   "metadata": {},
   "outputs": [
    {
     "name": "stdout",
     "output_type": "stream",
     "text": [
      "<map object at 0x000001CAE83E8520>\n"
     ]
    }
   ],
   "source": [
    "# Example of using the map() function\n",
    "\n",
    "banks = ['ABN Amro', 'ING Group', 'Rabobank']\n",
    "banks_alt = map(lambda x: x.upper(), banks)\n",
    "print(banks_alt)"
   ]
  },
  {
   "cell_type": "markdown",
   "metadata": {},
   "source": [
    "The `map()` function returns an object of type 'map'. The type of this object needs to be changed to the 'list' type to view its contents."
   ]
  },
  {
   "cell_type": "code",
   "execution_count": 34,
   "metadata": {},
   "outputs": [
    {
     "name": "stdout",
     "output_type": "stream",
     "text": [
      "['ABN AMRO', 'ING GROUP', 'RABOBANK']\n"
     ]
    }
   ],
   "source": [
    "# Viewing the contents of the 'map' object\n",
    "\n",
    "print(list(banks_alt))"
   ]
  },
  {
   "cell_type": "markdown",
   "metadata": {},
   "source": [
    "It is important to note that instead of using the `map()` function, you can also use list comprehension to create mapped lists in Python."
   ]
  },
  {
   "cell_type": "code",
   "execution_count": 35,
   "metadata": {},
   "outputs": [
    {
     "name": "stdout",
     "output_type": "stream",
     "text": [
      "['ABN AMRO', 'ING GROUP', 'RABOBANK']\n"
     ]
    }
   ],
   "source": [
    "# Alternative solution using list comprehension\n",
    "\n",
    "banks_alt2 = [i.upper() for i in banks]\n",
    "print(banks_alt2)"
   ]
  },
  {
   "cell_type": "code",
   "execution_count": 36,
   "metadata": {},
   "outputs": [
    {
     "name": "stdout",
     "output_type": "stream",
     "text": [
      "['1', '4', '2', '5', '3', '6']\n"
     ]
    }
   ],
   "source": [
    "# Another example of using the map() function\n",
    "\n",
    "lst = [1, 4, 2, 5, 3, 6]\n",
    "lst_alt = map(lambda n: str(n), lst)\n",
    "print(list(lst_alt))"
   ]
  },
  {
   "cell_type": "code",
   "execution_count": 37,
   "metadata": {},
   "outputs": [
    {
     "name": "stdout",
     "output_type": "stream",
     "text": [
      "['1', '4', '2', '5', '3', '6']\n"
     ]
    }
   ],
   "source": [
    "# Alternative solution using list comprehension\n",
    "\n",
    "lst_alt2 = [str(n) for n in lst]\n",
    "print(lst_alt2)"
   ]
  },
  {
   "cell_type": "markdown",
   "metadata": {},
   "source": [
    "### The `filter()` function"
   ]
  },
  {
   "cell_type": "markdown",
   "metadata": {},
   "source": [
    "The syntax of the `filter()` function is similar to that of the `map()` function. Whereas the `map()` function returns all the objects in the original list after the function is applied, the `filter()` function returns only those items that satisfy the condition specified when the `filter()` function is called. Similar to the `map()` function, the `filter()` function accepts two arguments:\n",
    "- The function to be applied.\n",
    "- The list on which the function is to be applied."
   ]
  },
  {
   "cell_type": "code",
   "execution_count": 38,
   "metadata": {},
   "outputs": [
    {
     "name": "stdout",
     "output_type": "stream",
     "text": [
      "<filter object at 0x000001CAE83E9780>\n"
     ]
    }
   ],
   "source": [
    "# Example of using the filter() function\n",
    "\n",
    "banks = ['ABN Amro', 'ING Group', 'Rabobank']\n",
    "banks_alt = filter(lambda x: 'r' in x, banks)\n",
    "print(banks_alt)"
   ]
  },
  {
   "cell_type": "markdown",
   "metadata": {},
   "source": [
    "The `filter()` function returns an object of type 'filter'. The type of this object needs to be changed to the 'list' type to view its contents."
   ]
  },
  {
   "cell_type": "code",
   "execution_count": 39,
   "metadata": {},
   "outputs": [
    {
     "name": "stdout",
     "output_type": "stream",
     "text": [
      "['ABN Amro', 'ING Group']\n"
     ]
    }
   ],
   "source": [
    "# Viewing the contents of the 'filter' object\n",
    "\n",
    "print(list(banks_alt))"
   ]
  },
  {
   "cell_type": "markdown",
   "metadata": {},
   "source": [
    "It is important to note that instead of using the `filter()` function, you can also use list comprehension to create a filtered list in Python."
   ]
  },
  {
   "cell_type": "code",
   "execution_count": 40,
   "metadata": {},
   "outputs": [
    {
     "name": "stdout",
     "output_type": "stream",
     "text": [
      "['ABN Amro', 'ING Group']\n"
     ]
    }
   ],
   "source": [
    "# Alternative solution using list comprehension\n",
    "\n",
    "banks_alt2 = [i for i in banks if 'r' in i]\n",
    "print(banks_alt2)"
   ]
  },
  {
   "cell_type": "code",
   "execution_count": 41,
   "metadata": {},
   "outputs": [
    {
     "name": "stdout",
     "output_type": "stream",
     "text": [
      "[4, 2, 6]\n"
     ]
    }
   ],
   "source": [
    "# Another example of using the filter() function\n",
    "\n",
    "lst = [1, 4, 2, 5, 3, 6]\n",
    "lst_alt = filter(lambda n: n % 2 == 0, lst)\n",
    "print(list(lst_alt))"
   ]
  },
  {
   "cell_type": "code",
   "execution_count": 42,
   "metadata": {},
   "outputs": [
    {
     "name": "stdout",
     "output_type": "stream",
     "text": [
      "[4, 2, 6]\n"
     ]
    }
   ],
   "source": [
    "# Alternative solution using list comprehension\n",
    "\n",
    "lst_alt2 = [n for n in lst if n % 2 == 0]\n",
    "print(lst_alt2)"
   ]
  },
  {
   "cell_type": "markdown",
   "metadata": {},
   "source": [
    "### Iterating through multiple lists using the `zip()` function"
   ]
  },
  {
   "cell_type": "markdown",
   "metadata": {},
   "source": [
    "The `zip()` function provides a way of combining lists and performing operations jointly on these lists. The lists that need to be combined are passed as arguments to the `zip()` function."
   ]
  },
  {
   "cell_type": "code",
   "execution_count": 43,
   "metadata": {},
   "outputs": [
    {
     "name": "stdout",
     "output_type": "stream",
     "text": [
      "<zip object at 0x000001CAE837A140>\n"
     ]
    }
   ],
   "source": [
    "# Example of using the zip() function\n",
    "\n",
    "earnings = [10000, 15000, 20000]\n",
    "sales = [100000, 125000, 160000]\n",
    "lst_zip = zip(earnings, sales)\n",
    "print(lst_zip)"
   ]
  },
  {
   "cell_type": "markdown",
   "metadata": {},
   "source": [
    "The `zip()` function returns a list of tuples that are stored in an object of type 'zip'. The type of this object needs to be changed to the 'list' type to view the tuples."
   ]
  },
  {
   "cell_type": "code",
   "execution_count": 44,
   "metadata": {},
   "outputs": [
    {
     "name": "stdout",
     "output_type": "stream",
     "text": [
      "[(10000, 100000), (15000, 125000), (20000, 160000)]\n"
     ]
    }
   ],
   "source": [
    "# Viewing the contents of the 'zip' object (i.e., the tuples)\n",
    "\n",
    "print(list(lst_zip))"
   ]
  },
  {
   "cell_type": "markdown",
   "metadata": {},
   "source": [
    "The `zip()` function can also be used to combine more than two lists and perform operations jointly on these lists."
   ]
  },
  {
   "cell_type": "code",
   "execution_count": 45,
   "metadata": {},
   "outputs": [
    {
     "name": "stdout",
     "output_type": "stream",
     "text": [
      "The return on sales (ROS) was 0.1 in 2018.\n",
      "The return on sales (ROS) was 0.12 in 2019.\n",
      "The return on sales (ROS) was 0.125 in 2020.\n"
     ]
    }
   ],
   "source": [
    "# Example of using a for loop and the zip() function\n",
    "\n",
    "year = [2018, 2019, 2020]\n",
    "earnings = [10000, 15000, 20000]\n",
    "sales = [100000, 125000, 160000]\n",
    "for y, e, s in zip(year, earnings, sales):\n",
    "    print(f\"The return on sales (ROS) was {e / s} in {y}.\")"
   ]
  },
  {
   "cell_type": "markdown",
   "metadata": {},
   "source": [
    "### Accessing the index of items in a list using the `enumerate()` function"
   ]
  },
  {
   "cell_type": "markdown",
   "metadata": {},
   "source": [
    "The `enumerate()` function is useful when you want to access the object as well as its index in a given list. This function returns a series of tuples, with each tuple containing the item and its index. The function has the following syntax:  `enumerate(iterable, start=0)`, where the iterable is a set of data, such as a list, tuple, or string. The second parameter, which sets the starting value of the index number, is optional; if omitted, its value is 0."
   ]
  },
  {
   "cell_type": "code",
   "execution_count": 46,
   "metadata": {},
   "outputs": [
    {
     "name": "stdout",
     "output_type": "stream",
     "text": [
      "<enumerate object at 0x000001CAE837A000>\n"
     ]
    }
   ],
   "source": [
    "# Example using the enumerate() function\n",
    "\n",
    "a_list = ['one', 'two', 'three']\n",
    "lst_enum = (enumerate(a_list))\n",
    "print(lst_enum)"
   ]
  },
  {
   "cell_type": "markdown",
   "metadata": {},
   "source": [
    "The `enumerate()` function returns a list of tuples that are stored in an object of type 'enumerate'. The type of this object needs to be changed to the 'list' type to view the tuples."
   ]
  },
  {
   "cell_type": "code",
   "execution_count": 47,
   "metadata": {},
   "outputs": [
    {
     "name": "stdout",
     "output_type": "stream",
     "text": [
      "[(0, 'one'), (1, 'two'), (2, 'three')]\n"
     ]
    }
   ],
   "source": [
    "# Viewing the contents of the 'enumerate' object (i.e., the tuples)\n",
    "\n",
    "print(list(lst_enum))"
   ]
  },
  {
   "cell_type": "markdown",
   "metadata": {},
   "source": [
    "The `enumerate()` function is almost always used in combination with a `for` statement. Here are some examples."
   ]
  },
  {
   "cell_type": "code",
   "execution_count": 48,
   "metadata": {},
   "outputs": [
    {
     "name": "stdout",
     "output_type": "stream",
     "text": [
      "1 ABN Amro\n",
      "2 ING Group\n",
      "3 Rabobank\n"
     ]
    }
   ],
   "source": [
    "# Example using a for loop and the enumerate() function\n",
    "\n",
    "banks = ['ABN Amro', 'ING Group', 'Rabobank']\n",
    "for index, item in enumerate(banks, 1):\n",
    "    print(index, item)"
   ]
  },
  {
   "cell_type": "code",
   "execution_count": 49,
   "metadata": {},
   "outputs": [
    {
     "name": "stdout",
     "output_type": "stream",
     "text": [
      "Net sales was $100000 in 2018.\n",
      "Net sales was $150000 in 2019.\n",
      "Net sales was $180000 in 2020.\n"
     ]
    }
   ],
   "source": [
    "# Example using a for loop and the enumerate() function\n",
    "\n",
    "sales = [100000, 150000, 180000]\n",
    "for index, item in enumerate(sales, 2018):\n",
    "    print(f\"Net sales was ${item} in {index}.\")"
   ]
  },
  {
   "cell_type": "code",
   "execution_count": 50,
   "metadata": {},
   "outputs": [
    {
     "data": {
      "text/plain": [
       "[0, 2, 4]"
      ]
     },
     "execution_count": 50,
     "metadata": {},
     "output_type": "execute_result"
    }
   ],
   "source": [
    "# Example using list comprehension and the enumerate() function\n",
    "\n",
    "lst = [True, False, True, False, True]\n",
    "lst2 = [i for i,j in enumerate(lst) if j == True]\n",
    "lst2"
   ]
  },
  {
   "cell_type": "code",
   "execution_count": 51,
   "metadata": {},
   "outputs": [
    {
     "name": "stdout",
     "output_type": "stream",
     "text": [
      "[2, 4, 8]\n",
      "['not', 'good,']\n",
      "['not', 'bad,']\n",
      "['no', 'solution']\n"
     ]
    }
   ],
   "source": [
    "# Example using list comprehension and the enumerate() function\n",
    "\n",
    "text = \"this is not good, not bad, but also no solution\"\n",
    "negations = ['no', 'not']\n",
    "lst = text.split()\n",
    "lst2 = [i for i,j in enumerate(lst) if j in negations]\n",
    "print(lst2)\n",
    "for i in lst2:\n",
    "    print(lst[i:i+2])"
   ]
  },
  {
   "cell_type": "markdown",
   "metadata": {},
   "source": [
    "## Sets <a name=\"Wk1_e\"></a>"
   ]
  },
  {
   "cell_type": "markdown",
   "metadata": {},
   "source": [
    "A __set__ is a collection of unordered, unique elements. Its syntax is somewhat similar to that of a dictionary, but than with only \"keys\" and no values: `set_name = {value1, value2, value3, ...}`. Given that the syntax `set_name = {}` creates an empty dictionary as opposed to an empty set, use the following syntax to create an empty set: `empty_set_name = set()`.\n",
    "\n",
    "As we will see later, sets have some very useful purposes. Some of the most commonly used set methods are the following:  \n",
    "- `set_obj.union(other_set)` : Returns the union of 'set_obj' and 'other_set', which consists of all elements that are in either set or both.  \n",
    "- `set_obj.intersection(other_set)`: Returns the intersection of 'set_obj' and 'other_set', which consists of all elements that are in both sets.  \n",
    "- `set_obj.difference(other_set)` : Returns a set that contains all elements in 'set_obj' that are not in 'other_set'.  \n",
    "- `set_obj.symmetric_difference(other_set)` : Returns a set that contains all elements in 'set_obj' that are not in 'other_set', and vice versa."
   ]
  },
  {
   "cell_type": "code",
   "execution_count": 52,
   "metadata": {},
   "outputs": [],
   "source": [
    "# Create two sets\n",
    "\n",
    "a_set = {1, 2, 3, 4, 5}\n",
    "b_set = {1, 3, 5, 7, 9}"
   ]
  },
  {
   "cell_type": "code",
   "execution_count": 53,
   "metadata": {},
   "outputs": [
    {
     "data": {
      "text/plain": [
       "{1, 2, 3, 4, 5, 7, 9}"
      ]
     },
     "execution_count": 53,
     "metadata": {},
     "output_type": "execute_result"
    }
   ],
   "source": [
    "# Obtain the union of the two sets\n",
    "\n",
    "a_set.union(b_set)"
   ]
  },
  {
   "cell_type": "code",
   "execution_count": 54,
   "metadata": {},
   "outputs": [
    {
     "data": {
      "text/plain": [
       "{1, 3, 5}"
      ]
     },
     "execution_count": 54,
     "metadata": {},
     "output_type": "execute_result"
    }
   ],
   "source": [
    "# Obtain the intersection of the two sets\n",
    "\n",
    "a_set.intersection(b_set)"
   ]
  },
  {
   "cell_type": "code",
   "execution_count": 55,
   "metadata": {},
   "outputs": [
    {
     "data": {
      "text/plain": [
       "{2, 4}"
      ]
     },
     "execution_count": 55,
     "metadata": {},
     "output_type": "execute_result"
    }
   ],
   "source": [
    "# Obtain the difference of the two sets\n",
    "\n",
    "a_set.difference(b_set)"
   ]
  },
  {
   "cell_type": "code",
   "execution_count": 56,
   "metadata": {},
   "outputs": [
    {
     "data": {
      "text/plain": [
       "{2, 4, 7, 9}"
      ]
     },
     "execution_count": 56,
     "metadata": {},
     "output_type": "execute_result"
    }
   ],
   "source": [
    "# Obtain the symmetric difference of the two sets\n",
    "\n",
    "a_set.symmetric_difference(b_set)"
   ]
  },
  {
   "cell_type": "code",
   "execution_count": null,
   "metadata": {},
   "outputs": [],
   "source": []
  }
 ],
 "metadata": {
  "kernelspec": {
   "display_name": "Python 3 (ipykernel)",
   "language": "python",
   "name": "python3"
  },
  "language_info": {
   "codemirror_mode": {
    "name": "ipython",
    "version": 3
   },
   "file_extension": ".py",
   "mimetype": "text/x-python",
   "name": "python",
   "nbconvert_exporter": "python",
   "pygments_lexer": "ipython3",
   "version": "3.10.9"
  }
 },
 "nbformat": 4,
 "nbformat_minor": 4
}
